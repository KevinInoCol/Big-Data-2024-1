{
 "cells": [
  {
   "cell_type": "code",
   "execution_count": 1,
   "metadata": {},
   "outputs": [],
   "source": [
    "from pyspark.sql import SparkSession\n",
    "\n",
    "from pyspark.sql.functions import col, count,  avg, min, max, desc #Añadido ultima clase\n",
    "\n",
    "\n",
    "\n",
    "import findspark\n",
    "findspark.init('C:\\\\Users\\\\Usuario\\\\anaconda3\\\\envs\\\\BigData1\\\\Lib\\\\site-packages\\\\pyspark')\n",
    "\n",
    "import os\n",
    "from pyspark import SparkConf, SparkContext\n",
    "\n",
    "# Configura las variables de entorno\n",
    "os.environ['PYSPARK_PYTHON'] = 'C:\\\\Users\\\\Usuario\\\\anaconda3\\\\envs\\\\BigData1\\\\python.exe'\n",
    "os.environ['PYSPARK_DRIVER_PYTHON'] = 'C:\\\\Users\\\\Usuario\\\\anaconda3\\\\envs\\\\BigData1\\\\python.exe'\n",
    "\n",
    "# Configura Spark\n",
    "spark = SparkSession.builder.getOrCreate()\n",
    "\n",
    "SparkContext = spark.sparkContext\n",
    "\n"
   ]
  },
  {
   "cell_type": "code",
   "execution_count": 2,
   "metadata": {},
   "outputs": [
    {
     "data": {
      "text/plain": [
       "[('kevin', 5),\n",
       " ('jeanpier', 3),\n",
       " ('tito', 7),\n",
       " ('yanelly', 3),\n",
       " ('mayra', 1),\n",
       " ('zol', 6),\n",
       " ('kevin', 3),\n",
       " ('jeanpier', 5),\n",
       " ('tito', 7),\n",
       " ('yanelly', 2),\n",
       " ('mayra', 6),\n",
       " ('zol', 4),\n",
       " ('kevin', 7),\n",
       " ('jeanpier', 3),\n",
       " ('tito', 5),\n",
       " ('yanelly', 3),\n",
       " ('mayra', 5),\n",
       " ('zol', 9)]"
      ]
     },
     "execution_count": 2,
     "metadata": {},
     "output_type": "execute_result"
    }
   ],
   "source": [
    "#Creamos un rdd con claves y valores\n",
    "rdd = SparkContext.parallelize(\n",
    "    [('kevin',    5),\n",
    "     ('jeanpier', 3),\n",
    "     ('tito',     7),\n",
    "     ('yanelly',  3),\n",
    "     ('mayra',    1),\n",
    "     ('zol',      6),\n",
    "     ('kevin',    3),\n",
    "     ('jeanpier', 5),\n",
    "     ('tito',     7),\n",
    "     ('yanelly',  2),\n",
    "     ('mayra',    6),\n",
    "     ('zol',      4),\n",
    "     ('kevin',    7),\n",
    "     ('jeanpier', 3),\n",
    "     ('tito',     5),\n",
    "     ('yanelly',  3),\n",
    "     ('mayra',    5),\n",
    "     ('zol',      9),]\n",
    "    )\n",
    "\n",
    "rdd.collect()"
   ]
  },
  {
   "cell_type": "code",
   "execution_count": 4,
   "metadata": {},
   "outputs": [
    {
     "data": {
      "text/plain": [
       "[('kevin', 15),\n",
       " ('yanelly', 8),\n",
       " ('mayra', 12),\n",
       " ('tito', 19),\n",
       " ('jeanpier', 11),\n",
       " ('zol', 19)]"
      ]
     },
     "execution_count": 4,
     "metadata": {},
     "output_type": "execute_result"
    }
   ],
   "source": [
    "rdd_reducido_por_clave = rdd.reduceByKey(lambda x,y: x + y) #Reducimos los valores a uno solo a través de la clave\n",
    "\n",
    "rdd_reducido_por_clave.collect()"
   ]
  },
  {
   "cell_type": "code",
   "execution_count": 5,
   "metadata": {},
   "outputs": [
    {
     "data": {
      "text/plain": [
       "[('kevin', 105),\n",
       " ('yanelly', 18),\n",
       " ('mayra', 30),\n",
       " ('tito', 245),\n",
       " ('jeanpier', 45),\n",
       " ('zol', 216)]"
      ]
     },
     "execution_count": 5,
     "metadata": {},
     "output_type": "execute_result"
    }
   ],
   "source": [
    "rdd_reducido_por_clave_mux = rdd.reduceByKey(lambda x,y: x * y) #Reducimos los valores a uno solo a través de la clave\n",
    "\n",
    "rdd_reducido_por_clave_mux.collect()"
   ]
  }
 ],
 "metadata": {
  "kernelspec": {
   "display_name": "Big-Data-2024-2",
   "language": "python",
   "name": "python3"
  },
  "language_info": {
   "codemirror_mode": {
    "name": "ipython",
    "version": 3
   },
   "file_extension": ".py",
   "mimetype": "text/x-python",
   "name": "python",
   "nbconvert_exporter": "python",
   "pygments_lexer": "ipython3",
   "version": "3.10.14"
  }
 },
 "nbformat": 4,
 "nbformat_minor": 2
}

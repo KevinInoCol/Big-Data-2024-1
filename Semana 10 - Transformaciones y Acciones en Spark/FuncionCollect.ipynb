{
 "cells": [
  {
   "cell_type": "code",
   "execution_count": 1,
   "metadata": {},
   "outputs": [],
   "source": [
    "from pyspark.sql import SparkSession\n",
    "\n",
    "from pyspark.sql.functions import col, count,  avg, min, max, desc #Añadido ultima clase\n",
    "\n",
    "\n",
    "\n",
    "import findspark\n",
    "findspark.init('C:\\\\Users\\\\Usuario\\\\anaconda3\\\\envs\\\\BigData1\\\\Lib\\\\site-packages\\\\pyspark')\n",
    "\n",
    "import os\n",
    "from pyspark import SparkConf, SparkContext\n",
    "\n",
    "# Configura las variables de entorno\n",
    "os.environ['PYSPARK_PYTHON'] = 'C:\\\\Users\\\\Usuario\\\\anaconda3\\\\envs\\\\BigData1\\\\python.exe'\n",
    "os.environ['PYSPARK_DRIVER_PYTHON'] = 'C:\\\\Users\\\\Usuario\\\\anaconda3\\\\envs\\\\BigData1\\\\python.exe'\n",
    "\n",
    "# Configura Spark\n",
    "spark = SparkSession.builder.getOrCreate()\n",
    "\n",
    "SparkContext = spark.sparkContext"
   ]
  },
  {
   "cell_type": "code",
   "execution_count": 2,
   "metadata": {},
   "outputs": [
    {
     "data": {
      "text/plain": [
       "['Bienvenidos', 'a', 'este', 'curso', 'de', 'PySpark']"
      ]
     },
     "execution_count": 2,
     "metadata": {},
     "output_type": "execute_result"
    }
   ],
   "source": [
    "rdd = SparkContext.parallelize('Bienvenidos a este curso de PySpark'.split(' '))\n",
    "\n",
    "rdd.collect()"
   ]
  },
  {
   "cell_type": "code",
   "execution_count": 3,
   "metadata": {},
   "outputs": [
    {
     "data": {
      "text/plain": [
       "[(0, 0),\n",
       " (1, 1),\n",
       " (2, 4),\n",
       " (3, 9),\n",
       " (4, 16),\n",
       " (5, 25),\n",
       " (6, 36),\n",
       " (7, 49),\n",
       " (8, 64),\n",
       " (9, 81),\n",
       " (10, 100),\n",
       " (11, 121),\n",
       " (12, 144),\n",
       " (13, 169)]"
      ]
     },
     "execution_count": 3,
     "metadata": {},
     "output_type": "execute_result"
    }
   ],
   "source": [
    "rdd_tuplas = SparkContext.parallelize([(item, item ** 2) for item in range(14)])\n",
    "\n",
    "rdd_tuplas.collect()"
   ]
  },
  {
   "cell_type": "code",
   "execution_count": null,
   "metadata": {},
   "outputs": [],
   "source": []
  }
 ],
 "metadata": {
  "kernelspec": {
   "display_name": "BigData1",
   "language": "python",
   "name": "python3"
  },
  "language_info": {
   "codemirror_mode": {
    "name": "ipython",
    "version": 3
   },
   "file_extension": ".py",
   "mimetype": "text/x-python",
   "name": "python",
   "nbconvert_exporter": "python",
   "pygments_lexer": "ipython3",
   "version": "3.10.14"
  }
 },
 "nbformat": 4,
 "nbformat_minor": 2
}

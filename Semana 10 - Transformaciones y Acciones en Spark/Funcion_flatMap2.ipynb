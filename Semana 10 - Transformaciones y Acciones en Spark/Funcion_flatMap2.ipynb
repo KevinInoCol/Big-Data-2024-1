{
 "cells": [
  {
   "cell_type": "code",
   "execution_count": 27,
   "metadata": {},
   "outputs": [],
   "source": [
    "from pyspark.sql import SparkSession\n",
    "\n",
    "from pyspark.sql.functions import col, count,  avg, min, max, desc #Añadido ultima clase\n",
    "\n",
    "\n",
    "spark = SparkSession.builder.getOrCreate()\n",
    "\n",
    "SparkContext = spark.sparkContext"
   ]
  },
  {
   "cell_type": "code",
   "execution_count": 28,
   "metadata": {},
   "outputs": [
    {
     "name": "stdout",
     "output_type": "stream",
     "text": [
      "[1, 2, 3, 4, 5]\n"
     ]
    }
   ],
   "source": [
    "import findspark\n",
    "findspark.init('C:\\\\Users\\\\Usuario\\\\anaconda3\\\\envs\\\\BigData1\\\\Lib\\\\site-packages\\\\pyspark')\n",
    "\n",
    "import os\n",
    "from pyspark import SparkConf, SparkContext\n",
    "\n",
    "# Configura las variables de entorno\n",
    "os.environ['PYSPARK_PYTHON'] = 'C:\\\\Users\\\\Usuario\\\\anaconda3\\\\envs\\\\BigData1\\\\python.exe'\n",
    "os.environ['PYSPARK_DRIVER_PYTHON'] = 'C:\\\\Users\\\\Usuario\\\\anaconda3\\\\envs\\\\BigData1\\\\python.exe'\n",
    "\n",
    "# Configura Spark\n",
    "spark = SparkSession.builder.getOrCreate()\n",
    "\n",
    "SparkContext = spark.sparkContext\n",
    "# Prueba la configuración con una operación simple\n",
    "rdd = SparkContext.parallelize([1, 2, 3, 4, 5])\n",
    "print(rdd.collect())\n",
    "\n"
   ]
  },
  {
   "cell_type": "code",
   "execution_count": 29,
   "metadata": {},
   "outputs": [
    {
     "data": {
      "text/plain": [
       "[1, 2, 3, 4, 5, 6, 7, 8, 9]"
      ]
     },
     "execution_count": 29,
     "metadata": {},
     "output_type": "execute_result"
    }
   ],
   "source": [
    "\n",
    "rdd = sc.parallelize([1,2,3,4,5,6,7,8,9])\n",
    "rdd.collect()"
   ]
  },
  {
   "cell_type": "code",
   "execution_count": 30,
   "metadata": {},
   "outputs": [
    {
     "data": {
      "text/plain": [
       "[(1, 1), (2, 4), (3, 9), (4, 16), (5, 25), (6, 36), (7, 49), (8, 64), (9, 81)]"
      ]
     },
     "execution_count": 30,
     "metadata": {},
     "output_type": "execute_result"
    }
   ],
   "source": [
    "\n",
    "rdd_reducido = rdd.map(lambda x: (x, x ** 2) )\n",
    "rdd_reducido.collect()\n",
    "\n"
   ]
  },
  {
   "cell_type": "code",
   "execution_count": 31,
   "metadata": {},
   "outputs": [
    {
     "data": {
      "text/plain": [
       "['Kevin', 'Jeanpier', 'tito', 'yanelly', 'mayra', 'zol']"
      ]
     },
     "execution_count": 31,
     "metadata": {},
     "output_type": "execute_result"
    }
   ],
   "source": [
    "rdd_texto_1 = sc.parallelize(['Kevin', 'Jeanpier', 'tito', 'yanelly', 'mayra', 'zol'])\n",
    "rdd_texto_1.collect()"
   ]
  },
  {
   "cell_type": "code",
   "execution_count": 32,
   "metadata": {},
   "outputs": [
    {
     "data": {
      "text/plain": [
       "[('Kevin', 'KEVIN'),\n",
       " ('Jeanpier', 'JEANPIER'),\n",
       " ('tito', 'TITO'),\n",
       " ('yanelly', 'YANELLY'),\n",
       " ('mayra', 'MAYRA'),\n",
       " ('zol', 'ZOL')]"
      ]
     },
     "execution_count": 32,
     "metadata": {},
     "output_type": "execute_result"
    }
   ],
   "source": [
    "rdd_texto_mayuscula = rdd_texto_1.map(lambda x: (x, x.upper()))\n",
    "rdd_texto_mayuscula.collect()"
   ]
  },
  {
   "cell_type": "code",
   "execution_count": 33,
   "metadata": {},
   "outputs": [
    {
     "data": {
      "text/plain": [
       "['Kevin',\n",
       " 'KEVIN',\n",
       " 'Jeanpier',\n",
       " 'JEANPIER',\n",
       " 'tito',\n",
       " 'TITO',\n",
       " 'yanelly',\n",
       " 'YANELLY',\n",
       " 'mayra',\n",
       " 'MAYRA',\n",
       " 'zol',\n",
       " 'ZOL']"
      ]
     },
     "execution_count": 33,
     "metadata": {},
     "output_type": "execute_result"
    }
   ],
   "source": [
    "rdd_texto_mayuscula_flat = rdd_texto_1.flatMap(lambda x: (x, x.upper()))\n",
    "rdd_texto_mayuscula_flat.collect()"
   ]
  }
 ],
 "metadata": {
  "kernelspec": {
   "display_name": "Big-Data-2024-2",
   "language": "python",
   "name": "python3"
  },
  "language_info": {
   "codemirror_mode": {
    "name": "ipython",
    "version": 3
   },
   "file_extension": ".py",
   "mimetype": "text/x-python",
   "name": "python",
   "nbconvert_exporter": "python",
   "pygments_lexer": "ipython3",
   "version": "3.10.14"
  }
 },
 "nbformat": 4,
 "nbformat_minor": 2
}

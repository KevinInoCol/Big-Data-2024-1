{
  "nbformat": 4,
  "nbformat_minor": 0,
  "metadata": {
    "colab": {
      "provenance": []
    },
    "kernelspec": {
      "name": "python3",
      "display_name": "Python 3"
    },
    "language_info": {
      "name": "python"
    }
  },
  "cells": [
    {
      "cell_type": "code",
      "execution_count": null,
      "metadata": {
        "colab": {
          "base_uri": "https://localhost:8080/"
        },
        "id": "-RC-ODFbrqcB",
        "outputId": "4b98a4c5-b1ac-437a-8f64-bfc004bbf0b7"
      },
      "outputs": [
        {
          "output_type": "stream",
          "name": "stdout",
          "text": [
            "Collecting pyspark\n",
            "  Downloading pyspark-3.5.1.tar.gz (317.0 MB)\n",
            "\u001b[2K     \u001b[90m━━━━━━━━━━━━━━━━━━━━━━━━━━━━━━━━━━━━━━━━\u001b[0m \u001b[32m317.0/317.0 MB\u001b[0m \u001b[31m3.9 MB/s\u001b[0m eta \u001b[36m0:00:00\u001b[0m\n",
            "\u001b[?25h  Preparing metadata (setup.py) ... \u001b[?25l\u001b[?25hdone\n",
            "Requirement already satisfied: py4j in /usr/local/lib/python3.10/dist-packages (0.10.9.7)\n",
            "Building wheels for collected packages: pyspark\n",
            "  Building wheel for pyspark (setup.py) ... \u001b[?25l\u001b[?25hdone\n",
            "  Created wheel for pyspark: filename=pyspark-3.5.1-py2.py3-none-any.whl size=317488491 sha256=e26b3216cdae99a82189f6d092a3384a2ccdfb29c678025c76329f184db29efd\n",
            "  Stored in directory: /root/.cache/pip/wheels/80/1d/60/2c256ed38dddce2fdd93be545214a63e02fbd8d74fb0b7f3a6\n",
            "Successfully built pyspark\n",
            "Installing collected packages: pyspark\n",
            "Successfully installed pyspark-3.5.1\n"
          ]
        }
      ],
      "source": [
        "#Instalamos pyspark y py4j\n",
        "!pip install pyspark py4j"
      ]
    },
    {
      "cell_type": "code",
      "source": [
        "from pyspark.sql import SparkSession\n",
        "\n",
        "Spark = SparkSession.builder.appName(\"maria\").getOrCreate()\n",
        "SparkContext = Spark.sparkContext"
      ],
      "metadata": {
        "id": "wXX-aOIpskF9"
      },
      "execution_count": null,
      "outputs": []
    },
    {
      "cell_type": "code",
      "source": [
        "import math"
      ],
      "metadata": {
        "id": "z7raePbYXsNW"
      },
      "execution_count": null,
      "outputs": []
    },
    {
      "cell_type": "markdown",
      "source": [
        "#1. Cree un RDD llamado lenguajes que contenga los siguientes lenguajes de programación: Python, #R ,#C, Scala, Rugby y SQL.\n",
        "\n",
        "#Cree un nuevo RDD que solo contenga aquellos lenguajes de\n",
        "# programación que comiencen con la letra R."
      ],
      "metadata": {
        "id": "xIlQCYGEtVNy"
      }
    },
    {
      "cell_type": "code",
      "source": [
        "rdd_Lenguajes = SparkContext.parallelize(['Python','R','C','Scala','Rugby','SQL'])\n",
        "rdd_Lenguajes.collect()"
      ],
      "metadata": {
        "colab": {
          "base_uri": "https://localhost:8080/"
        },
        "id": "gxWVYqy8tlnY",
        "outputId": "b5ae994f-8920-4752-b19b-dada05222646"
      },
      "execution_count": null,
      "outputs": [
        {
          "output_type": "execute_result",
          "data": {
            "text/plain": [
              "['Python', 'R', 'C', 'Scala', 'Rugby', 'SQL']"
            ]
          },
          "metadata": {},
          "execution_count": 5
        }
      ]
    },
    {
      "cell_type": "code",
      "source": [
        "rdd_filtrado_con_r = rdd_Lenguajes.filter(lambda x: x.startswith('R'))\n",
        "rdd_filtrado_con_r.collect()"
      ],
      "metadata": {
        "colab": {
          "base_uri": "https://localhost:8080/"
        },
        "id": "fd_d1nx1u9pN",
        "outputId": "ed7d8c9b-6f3c-491e-f913-aa4ca6cdc56d"
      },
      "execution_count": null,
      "outputs": [
        {
          "output_type": "execute_result",
          "data": {
            "text/plain": [
              "['R', 'Rugby']"
            ]
          },
          "metadata": {},
          "execution_count": 7
        }
      ]
    },
    {
      "cell_type": "markdown",
      "source": [
        "#2. Cree un RDD llamado pares que contenga los números pares existentes en el intervalo [20;30]."
      ],
      "metadata": {
        "id": "0AmAMJYOvSSo"
      }
    },
    {
      "cell_type": "code",
      "source": [
        "rdd_pares = SparkContext.parallelize(range(20, 30))\n",
        "rdd_pares.collect()"
      ],
      "metadata": {
        "colab": {
          "base_uri": "https://localhost:8080/"
        },
        "id": "3v0JxiJPviWt",
        "outputId": "c834536a-2689-4435-a06e-9068a537d839"
      },
      "execution_count": null,
      "outputs": [
        {
          "output_type": "execute_result",
          "data": {
            "text/plain": [
              "[20, 21, 22, 23, 24, 25, 26, 27, 28, 29]"
            ]
          },
          "metadata": {},
          "execution_count": 8
        }
      ]
    },
    {
      "cell_type": "markdown",
      "source": [
        "#Obtenga una lista compuesta por los números pares en el intervalo\n",
        "# [20;30] y sus respectivas raíces cuadradas."
      ],
      "metadata": {
        "id": "1sTVHa5Jv31H"
      }
    },
    {
      "cell_type": "code",
      "source": [
        "\n",
        "rdd_pares = SparkContext.parallelize(range(20, 31))\n",
        "rdd_pares.collect()"
      ],
      "metadata": {
        "id": "kbOMdkZav0HK",
        "colab": {
          "base_uri": "https://localhost:8080/"
        },
        "outputId": "9c0510d5-16e7-45b8-d47b-73b91be84747"
      },
      "execution_count": null,
      "outputs": [
        {
          "output_type": "execute_result",
          "data": {
            "text/plain": [
              "[20, 21, 22, 23, 24, 25, 26, 27, 28, 29, 30]"
            ]
          },
          "metadata": {},
          "execution_count": 33
        }
      ]
    },
    {
      "cell_type": "markdown",
      "source": [
        "rdd_pares = SparkContext.parallelize(range(20, 31))\n",
        "rdd_pares = rdd_pares.map(lambda x: x **0.5)\n",
        "rdd_pares.collect()"
      ],
      "metadata": {
        "id": "IOT3arCZxuSO"
      }
    },
    {
      "cell_type": "code",
      "source": [
        "rdd_pares = rdd.filter(lambda x: x % 2 == 0)\n",
        "rdd_collect = rdd_pares.map(lambda x: (x, math.sqrt(x)))\n",
        "resultados = rdd_collect.collect()\n",
        "print(resultados)"
      ],
      "metadata": {
        "id": "8jopdCwxTGXS",
        "colab": {
          "base_uri": "https://localhost:8080/"
        },
        "outputId": "4fdd4d1b-a22a-4814-b708-0998b719d30b"
      },
      "execution_count": 121,
      "outputs": [
        {
          "output_type": "stream",
          "name": "stdout",
          "text": [
            "[(20, 4.47213595499958), (22, 4.69041575982343), (24, 4.898979485566356), (26, 5.0990195135927845), (28, 5.291502622129181), (30, 5.477225575051661)]\n"
          ]
        }
      ]
    },
    {
      "cell_type": "markdown",
      "source": [
        "C) Eleve el número de particiones del RDD sqrt a 20."
      ],
      "metadata": {
        "id": "2MiRRkYhX7zL"
      }
    },
    {
      "cell_type": "code",
      "source": [
        "rdd_sqrt = SparkContext.parallelize([1,2,3.4,5,6,7,8,9], 20)\n",
        "\n",
        "rdd_sqrt.getNumPartitions()"
      ],
      "metadata": {
        "colab": {
          "base_uri": "https://localhost:8080/"
        },
        "id": "EqoGTenPX9Ie",
        "outputId": "2de9e1b6-5cdd-401b-e90f-2db7856db231"
      },
      "execution_count": null,
      "outputs": [
        {
          "output_type": "execute_result",
          "data": {
            "text/plain": [
              "20"
            ]
          },
          "metadata": {},
          "execution_count": 64
        }
      ]
    },
    {
      "cell_type": "markdown",
      "source": [
        " D) Si tuviera que disminuir el número de particiones luego de haberlo\n",
        "      establecido en 20, ¿qué función utilizaría para hacer más eficiente su código?"
      ],
      "metadata": {
        "id": "QLanq9OSea0Q"
      }
    },
    {
      "cell_type": "code",
      "source": [
        "rdd_sqrt.coalesce(3)\n",
        "rdd_sqrt.getNumPartitions()"
      ],
      "metadata": {
        "colab": {
          "base_uri": "https://localhost:8080/"
        },
        "id": "HqWZ03jPeeaQ",
        "outputId": "03838552-2f2c-49e6-f15d-3d37790bb5b0"
      },
      "execution_count": null,
      "outputs": [
        {
          "output_type": "execute_result",
          "data": {
            "text/plain": [
              "20"
            ]
          },
          "metadata": {},
          "execution_count": 85
        }
      ]
    },
    {
      "cell_type": "code",
      "source": [
        "rdd_reducido_en_3 = rdd_sqrt.coalesce(3)\n",
        "rdd_reducido_en_3.getNumPartitions()"
      ],
      "metadata": {
        "colab": {
          "base_uri": "https://localhost:8080/"
        },
        "id": "eiWtXrbBiZOy",
        "outputId": "2a56e969-3592-4339-d3ba-99fd30484180"
      },
      "execution_count": null,
      "outputs": [
        {
          "output_type": "execute_result",
          "data": {
            "text/plain": [
              "3"
            ]
          },
          "metadata": {},
          "execution_count": 79
        }
      ]
    },
    {
      "cell_type": "markdown",
      "source": [
        "#3. Cree un RDD del tipo clave valor a partir de la lectura del txt de transacciones.\n",
        "#Tenga en cuenta que deberá procesar el RDD leído para obtener el resultado solicitado. Supongamos\n",
        "#que el RDD resultante de tipo clave valor refleja las transacciones realizadas por número de\n",
        "#cuentas. Obtenga el monto total por cada cuenta (Suma).\n",
        "#Tip: Cree su propia función para procesar el RDD leído."
      ],
      "metadata": {
        "id": "OyVN289ej00s"
      }
    },
    {
      "cell_type": "code",
      "source": [
        "rdd_text = SparkContext.textFile('./transacciones.txt')\n",
        "\n",
        "rdd_text.collect()"
      ],
      "metadata": {
        "colab": {
          "base_uri": "https://localhost:8080/"
        },
        "id": "vdl5SwQwq_nJ",
        "outputId": "c2294bed-684e-4d2a-e9b3-36c6692eaa32"
      },
      "execution_count": 102,
      "outputs": [
        {
          "output_type": "execute_result",
          "data": {
            "text/plain": [
              "['(1001, 52.3)',\n",
              " '(1005, 20.8)',\n",
              " '(1001, 10.1)',\n",
              " '(1004, 52.7)',\n",
              " '(1005, 20.7)',\n",
              " '(1002, 85.3)',\n",
              " '(1004, 20.9)']"
            ]
          },
          "metadata": {},
          "execution_count": 102
        }
      ]
    },
    {
      "cell_type": "code",
      "source": [
        "rdd_clavevalor = SparkContext.parallelize(\n",
        "    [('1001', 52.3),\n",
        "    ('1005', 20.8),\n",
        "    ('1001', 10.1),\n",
        "    ('1004', 52.7),\n",
        "    ('1005', 20.7),\n",
        "    ('1002', 85.3),\n",
        "    ('1004', 20.9),])\n",
        "rdd_clavevalor.collect()"
      ],
      "metadata": {
        "colab": {
          "base_uri": "https://localhost:8080/"
        },
        "id": "t8eyuYoKj2gA",
        "outputId": "1d5cb60a-29e0-4938-ec3f-7ce95587b167"
      },
      "execution_count": null,
      "outputs": [
        {
          "output_type": "execute_result",
          "data": {
            "text/plain": [
              "[('1001', 52.3),\n",
              " ('1005', 20.8),\n",
              " ('1001', 10.1),\n",
              " ('1004', 52.7),\n",
              " ('1005', 20.7),\n",
              " ('1002', 85.3),\n",
              " ('1004', 20.9)]"
            ]
          },
          "metadata": {},
          "execution_count": 92
        }
      ]
    },
    {
      "cell_type": "code",
      "source": [
        "rdd_text = rdd_clavevalor.reduceByKey(lambda x,y: x + y)\n",
        "\n",
        "rdd_text.collect()"
      ],
      "metadata": {
        "colab": {
          "base_uri": "https://localhost:8080/"
        },
        "id": "k2qpkO2hobOm",
        "outputId": "c8cbc995-18cf-49da-9698-60361c11369b"
      },
      "execution_count": 105,
      "outputs": [
        {
          "output_type": "execute_result",
          "data": {
            "text/plain": [
              "[('1002', 85.3), ('1001', 62.4), ('1005', 41.5), ('1004', 73.6)]"
            ]
          },
          "metadata": {},
          "execution_count": 105
        }
      ]
    },
    {
      "cell_type": "code",
      "source": [],
      "metadata": {
        "colab": {
          "base_uri": "https://localhost:8080/"
        },
        "id": "rl3m73IIut4F",
        "outputId": "991ceb3e-1f35-4480-870b-c3beeb982f68"
      },
      "execution_count": 116,
      "outputs": [
        {
          "output_type": "stream",
          "name": "stdout",
          "text": [
            "[(20, 4.47213595499958), (22, 4.69041575982343), (24, 4.898979485566356), (26, 5.0990195135927845), (28, 5.291502622129181), (30, 5.477225575051661)]\n"
          ]
        }
      ]
    }
  ]
}
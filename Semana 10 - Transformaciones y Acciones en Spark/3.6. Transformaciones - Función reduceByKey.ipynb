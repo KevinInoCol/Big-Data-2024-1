{
 "cells": [
  {
   "cell_type": "code",
   "execution_count": null,
   "metadata": {},
   "outputs": [],
   "source": [
    "# Instalamos pyspark y py4j\n",
    "!pip install pyspark py4j"
   ]
  },
  {
   "cell_type": "code",
   "execution_count": 1,
   "metadata": {},
   "outputs": [
    {
     "name": "stderr",
     "output_type": "stream",
     "text": [
      "24/05/27 10:48:01 WARN Utils: Your hostname, MacBook-Pro-de-Kevin.local resolves to a loopback address: 127.0.0.1; using 192.168.1.106 instead (on interface en0)\n",
      "24/05/27 10:48:01 WARN Utils: Set SPARK_LOCAL_IP if you need to bind to another address\n",
      "Setting default log level to \"WARN\".\n",
      "To adjust logging level use sc.setLogLevel(newLevel). For SparkR, use setLogLevel(newLevel).\n",
      "24/05/27 10:48:02 WARN NativeCodeLoader: Unable to load native-hadoop library for your platform... using builtin-java classes where applicable\n",
      "24/05/27 10:48:02 WARN Utils: Service 'SparkUI' could not bind on port 4040. Attempting port 4041.\n",
      "24/05/27 10:48:02 WARN Utils: Service 'SparkUI' could not bind on port 4041. Attempting port 4042.\n",
      "24/05/27 10:48:02 WARN Utils: Service 'SparkUI' could not bind on port 4042. Attempting port 4043.\n",
      "24/05/27 10:48:02 WARN Utils: Service 'SparkUI' could not bind on port 4043. Attempting port 4044.\n"
     ]
    },
    {
     "name": "stderr",
     "output_type": "stream",
     "text": [
      "24/05/27 10:48:12 WARN GarbageCollectionMetrics: To enable non-built-in garbage collector(s) List(G1 Concurrent GC), users should configure it(them) to spark.eventLog.gcMetrics.youngGenerationGarbageCollectors or spark.eventLog.gcMetrics.oldGenerationGarbageCollectors\n"
     ]
    }
   ],
   "source": [
    "from pyspark.sql import SparkSession\n",
    "\n",
    "Spark = SparkSession.builder.appName(\"kaic\").getOrCreate()\n",
    "SparkContext = Spark.sparkContext"
   ]
  },
  {
   "cell_type": "code",
   "execution_count": 2,
   "metadata": {},
   "outputs": [
    {
     "name": "stderr",
     "output_type": "stream",
     "text": [
      "                                                                                \r"
     ]
    },
    {
     "data": {
      "text/plain": [
       "[('kevin', 5),\n",
       " ('jeanpier', 3),\n",
       " ('tito', 7),\n",
       " ('yanelly', 3),\n",
       " ('mayra', 1),\n",
       " ('zol', 6),\n",
       " ('kevin', 3),\n",
       " ('jeanpier', 5),\n",
       " ('tito', 7),\n",
       " ('yanelly', 2),\n",
       " ('mayra', 6),\n",
       " ('zol', 4),\n",
       " ('kevin', 7),\n",
       " ('jeanpier', 3),\n",
       " ('tito', 5),\n",
       " ('yanelly', 3),\n",
       " ('mayra', 5),\n",
       " ('zol', 9)]"
      ]
     },
     "execution_count": 2,
     "metadata": {},
     "output_type": "execute_result"
    }
   ],
   "source": [
    "#Creamos un rdd con claves y valores\n",
    "rdd = SparkContext.parallelize(\n",
    "    [('kevin',    5),\n",
    "     ('jeanpier', 3),\n",
    "     ('tito',     7),\n",
    "     ('yanelly',  3),\n",
    "     ('mayra',    1),\n",
    "     ('zol',      6),\n",
    "     ('kevin',    3),\n",
    "     ('jeanpier', 5),\n",
    "     ('tito',     7),\n",
    "     ('yanelly',  2),\n",
    "     ('mayra',    6),\n",
    "     ('zol',      4),\n",
    "     ('kevin',    7),\n",
    "     ('jeanpier', 3),\n",
    "     ('tito',     5),\n",
    "     ('yanelly',  3),\n",
    "     ('mayra',    5),\n",
    "     ('zol',      9),]\n",
    "    )\n",
    "\n",
    "rdd.collect()"
   ]
  },
  {
   "cell_type": "code",
   "execution_count": 4,
   "metadata": {},
   "outputs": [
    {
     "data": {
      "text/plain": [
       "[('jeanpier', 11),\n",
       " ('zol', 19),\n",
       " ('tito', 19),\n",
       " ('yanelly', 8),\n",
       " ('kevin', 15),\n",
       " ('mayra', 12)]"
      ]
     },
     "execution_count": 4,
     "metadata": {},
     "output_type": "execute_result"
    }
   ],
   "source": [
    "rdd_reducido_por_clave = rdd.reduceByKey(lambda x,y: x + y) #Reducimos los valores a uno solo a través de la clave\n",
    "\n",
    "rdd_reducido_por_clave.collect()"
   ]
  },
  {
   "cell_type": "code",
   "execution_count": 5,
   "metadata": {},
   "outputs": [
    {
     "data": {
      "text/plain": [
       "[('jeanpier', 45),\n",
       " ('zol', 216),\n",
       " ('tito', 245),\n",
       " ('yanelly', 18),\n",
       " ('kevin', 105),\n",
       " ('mayra', 30)]"
      ]
     },
     "execution_count": 5,
     "metadata": {},
     "output_type": "execute_result"
    }
   ],
   "source": [
    "rdd_reducido_por_clave_mux = rdd.reduceByKey(lambda x,y: x * y) #Reducimos los valores a uno solo a través de la clave\n",
    "\n",
    "rdd_reducido_por_clave_mux.collect()"
   ]
  }
 ],
 "metadata": {
  "kernelspec": {
   "display_name": "Big-Data",
   "language": "python",
   "name": "python3"
  },
  "language_info": {
   "codemirror_mode": {
    "name": "ipython",
    "version": 3
   },
   "file_extension": ".py",
   "mimetype": "text/x-python",
   "name": "python",
   "nbconvert_exporter": "python",
   "pygments_lexer": "ipython3",
   "version": "3.10.14"
  }
 },
 "nbformat": 4,
 "nbformat_minor": 2
}

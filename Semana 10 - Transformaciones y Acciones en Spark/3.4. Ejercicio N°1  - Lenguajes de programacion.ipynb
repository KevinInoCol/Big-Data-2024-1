{
 "cells": [
  {
   "cell_type": "code",
   "execution_count": 1,
   "metadata": {},
   "outputs": [
    {
     "name": "stdout",
     "output_type": "stream",
     "text": [
      "Requirement already satisfied: pyspark in c:\\users\\equipo\\anaconda3\\envs\\bigdata-2024-semana09\\lib\\site-packages (3.5.1)\n",
      "Requirement already satisfied: py4j in c:\\users\\equipo\\anaconda3\\envs\\bigdata-2024-semana09\\lib\\site-packages (0.10.9.7)\n"
     ]
    }
   ],
   "source": [
    "# Instalamos pyspark y py4j\n",
    "!pip install pyspark py4j"
   ]
  },
  {
   "cell_type": "code",
   "execution_count": 2,
   "metadata": {},
   "outputs": [],
   "source": [
    "from pyspark.sql import SparkSession\n",
    "\n",
    "Spark = SparkSession.builder.appName(\"kaic\").getOrCreate()\n",
    "SparkContext = Spark.sparkContext"
   ]
  },
  {
   "cell_type": "code",
   "execution_count": 3,
   "metadata": {},
   "outputs": [
    {
     "data": {
      "text/plain": [
       "['Python', 'R', 'C', 'Scala', 'Rugby', 'SQL']"
      ]
     },
     "execution_count": 3,
     "metadata": {},
     "output_type": "execute_result"
    }
   ],
   "source": [
    "# Crear el RDD llamado 'lenguajes' con los lenguajes de programación dados\n",
    "lenguajes = SparkContext.parallelize(['Python', 'R', 'C', 'Scala', 'Rugby', 'SQL'])\n",
    "\n",
    "# Recoger y mostrar el contenido del RDD para verificar\n",
    "lenguajes.collect()\n"
   ]
  },
  {
   "cell_type": "code",
   "execution_count": 4,
   "metadata": {},
   "outputs": [
    {
     "data": {
      "text/plain": [
       "['R', 'Rugby']"
      ]
     },
     "execution_count": 4,
     "metadata": {},
     "output_type": "execute_result"
    }
   ],
   "source": [
    "# Filtrar los lenguajes que comienzan con la letra 'R'\n",
    "lenguajes_con_r = lenguajes.filter(lambda x: x.startswith('R'))\n",
    "\n",
    "# Recoger y mostrar el contenido del nuevo RDD para verificar\n",
    "lenguajes_con_r.collect()\n"
   ]
  }
 ],
 "metadata": {
  "kernelspec": {
   "display_name": "Big-Data",
   "language": "python",
   "name": "python3"
  },
  "language_info": {
   "codemirror_mode": {
    "name": "ipython",
    "version": 3
   },
   "file_extension": ".py",
   "mimetype": "text/x-python",
   "name": "python",
   "nbconvert_exporter": "python",
   "pygments_lexer": "ipython3",
   "version": "3.10.14"
  }
 },
 "nbformat": 4,
 "nbformat_minor": 2
}

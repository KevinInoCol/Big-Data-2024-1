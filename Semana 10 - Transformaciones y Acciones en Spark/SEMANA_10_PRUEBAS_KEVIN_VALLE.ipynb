{
  "nbformat": 4,
  "nbformat_minor": 0,
  "metadata": {
    "colab": {
      "provenance": []
    },
    "kernelspec": {
      "name": "python3",
      "display_name": "Python 3"
    },
    "language_info": {
      "name": "python"
    }
  },
  "cells": [
    {
      "cell_type": "code",
      "execution_count": 1,
      "metadata": {
        "colab": {
          "base_uri": "https://localhost:8080/"
        },
        "id": "b8Dc_2wV-6o4",
        "outputId": "0c40e59f-43ea-4906-8241-668bf4bf7746"
      },
      "outputs": [
        {
          "output_type": "stream",
          "name": "stdout",
          "text": [
            "Collecting pyspark\n",
            "  Downloading pyspark-3.5.1.tar.gz (317.0 MB)\n",
            "\u001b[2K     \u001b[90m━━━━━━━━━━━━━━━━━━━━━━━━━━━━━━━━━━━━━━━━\u001b[0m \u001b[32m317.0/317.0 MB\u001b[0m \u001b[31m3.3 MB/s\u001b[0m eta \u001b[36m0:00:00\u001b[0m\n",
            "\u001b[?25h  Preparing metadata (setup.py) ... \u001b[?25l\u001b[?25hdone\n",
            "Requirement already satisfied: py4j in /usr/local/lib/python3.10/dist-packages (0.10.9.7)\n",
            "Building wheels for collected packages: pyspark\n",
            "  Building wheel for pyspark (setup.py) ... \u001b[?25l\u001b[?25hdone\n",
            "  Created wheel for pyspark: filename=pyspark-3.5.1-py2.py3-none-any.whl size=317488491 sha256=137fcae5855810adfa9b14e0d13eee02d3b6b04f6ddc84ec303f7b7539891276\n",
            "  Stored in directory: /root/.cache/pip/wheels/80/1d/60/2c256ed38dddce2fdd93be545214a63e02fbd8d74fb0b7f3a6\n",
            "Successfully built pyspark\n",
            "Installing collected packages: pyspark\n",
            "Successfully installed pyspark-3.5.1\n"
          ]
        }
      ],
      "source": [
        "# Instalamos pyspark y py4j\n",
        "!pip install pyspark py4j"
      ]
    },
    {
      "cell_type": "code",
      "source": [
        "from pyspark.sql import SparkSession\n",
        "\n",
        "spark = SparkSession.builder.master(\"local[*]\").appName('CERTUS Pyspark - Antonella').getOrCreate() #INICIALIZAMOS LA SESION\n",
        "\n",
        "sc = spark.sparkContext"
      ],
      "metadata": {
        "id": "hKlF9kvB_jqp"
      },
      "execution_count": 2,
      "outputs": []
    },
    {
      "cell_type": "markdown",
      "source": [
        "# EJERCICIO 1\n"
      ],
      "metadata": {
        "id": "vLXT2GvGAClm"
      }
    },
    {
      "cell_type": "code",
      "source": [
        "#1. Cree un RDD llamado lenguajes que contenga los siguientes lenguajes de programación: Python,\n",
        "#R, C, Scala, Rugby y SQL.\n",
        "RDD_lenguajes = sc.parallelize(['Python','R','C','Scala','Rugby','SQL'])\n",
        "RDD_lenguajes.collect()\n"
      ],
      "metadata": {
        "colab": {
          "base_uri": "https://localhost:8080/"
        },
        "id": "KqH5Slcm_0ao",
        "outputId": "1a5e9d63-0a91-4214-9209-0c6a1e8cfb34"
      },
      "execution_count": 5,
      "outputs": [
        {
          "output_type": "execute_result",
          "data": {
            "text/plain": [
              "['Python', 'R', 'C', 'Scala', 'Rugby', 'SQL']"
            ]
          },
          "metadata": {},
          "execution_count": 5
        }
      ]
    },
    {
      "cell_type": "code",
      "source": [
        "#       C) Cree un nuevo RDD que solo contenga aquellos lenguajes de\n",
        "#         programación que comiencen con la letra R.\n",
        "RDD_FILTRO_R = RDD_lenguajes.filter(lambda x: x.startswith('R'))\n",
        "RDD_FILTRO_R.collect()"
      ],
      "metadata": {
        "colab": {
          "base_uri": "https://localhost:8080/"
        },
        "id": "KeWoTyKSA1JY",
        "outputId": "f6df18df-73c6-48e5-85f2-0fe848bde87c"
      },
      "execution_count": 6,
      "outputs": [
        {
          "output_type": "execute_result",
          "data": {
            "text/plain": [
              "['R', 'Rugby']"
            ]
          },
          "metadata": {},
          "execution_count": 6
        }
      ]
    },
    {
      "cell_type": "code",
      "source": [
        "#2. Cree un RDD llamado pares que contenga los números pares existentes en el intervalo [20;30].\n",
        "RDD_numeros = [n for n in range(20,31) if n%2 ==0]\n",
        "RDD_pares = sc.parallelize(RDD_numeros)\n",
        "RDD_pares.collect()"
      ],
      "metadata": {
        "colab": {
          "base_uri": "https://localhost:8080/"
        },
        "id": "1mwXfC7rBl0x",
        "outputId": "593c599a-b093-4532-b175-711773c0f1a8"
      },
      "execution_count": 19,
      "outputs": [
        {
          "output_type": "execute_result",
          "data": {
            "text/plain": [
              "[20, 22, 24, 26, 28, 30]"
            ]
          },
          "metadata": {},
          "execution_count": 19
        }
      ]
    },
    {
      "cell_type": "markdown",
      "source": [
        "# EJERCICIO 2"
      ],
      "metadata": {
        "id": "DMiLuLK6BeW2"
      }
    },
    {
      "cell_type": "code",
      "source": [
        "#       B) Obtenga una lista compuesta por los números pares en el intervalo\n",
        "#         [20;30] y sus respectivas raíces cuadradas. Un ejemplo del resultado\n",
        "#         deseado para el intervalo [50;60] sería la lista [50, 7.0710678118654755, 52, 7.211102550927978,\n",
        "#         54, 7.3484692283495345, 56, 7.483314773547883, 58, 7.615773105863909, 60, 7.745966692414834].\n",
        "RDD_raiz = RDD_pares.flatMap(lambda n: (n,n **0.5))\n",
        "RDD_raiz.collect()"
      ],
      "metadata": {
        "colab": {
          "base_uri": "https://localhost:8080/"
        },
        "id": "A9EKXQ6xDlXH",
        "outputId": "8b218256-ac0b-44ce-e7bb-b2a153b2fda1"
      },
      "execution_count": 20,
      "outputs": [
        {
          "output_type": "execute_result",
          "data": {
            "text/plain": [
              "[20,\n",
              " 4.47213595499958,\n",
              " 22,\n",
              " 4.69041575982343,\n",
              " 24,\n",
              " 4.898979485566356,\n",
              " 26,\n",
              " 5.0990195135927845,\n",
              " 28,\n",
              " 5.291502622129181,\n",
              " 30,\n",
              " 5.477225575051661]"
            ]
          },
          "metadata": {},
          "execution_count": 20
        }
      ]
    },
    {
      "cell_type": "code",
      "source": [
        "#       C) Eleve el número de particiones del RDD sqrt a 20.\n",
        "RDD_sqrt = sc.parallelize([1,2,3,4,5,6], 20)\n",
        "RDD_sqrt.getNumPartitions()"
      ],
      "metadata": {
        "colab": {
          "base_uri": "https://localhost:8080/"
        },
        "id": "0kJW3DVVDnFX",
        "outputId": "b4c3dd04-5149-479a-cf54-a4943db503a5"
      },
      "execution_count": 21,
      "outputs": [
        {
          "output_type": "execute_result",
          "data": {
            "text/plain": [
              "20"
            ]
          },
          "metadata": {},
          "execution_count": 21
        }
      ]
    },
    {
      "cell_type": "code",
      "source": [
        "#       D) Si tuviera que disminuir el número de particiones luego de haberlo\n",
        "#          establecido en 20, ¿qué función utilizaría para hacer más eficiente su código?\n",
        "RDD_disminuido= RDD_sqrt.coalesce(3)\n",
        "RDD_disminuido.getNumPartitions()"
      ],
      "metadata": {
        "colab": {
          "base_uri": "https://localhost:8080/"
        },
        "id": "vHAFPJx_DqBW",
        "outputId": "00f2da70-d5bd-4472-f9ae-86a1abc93b2d"
      },
      "execution_count": 22,
      "outputs": [
        {
          "output_type": "execute_result",
          "data": {
            "text/plain": [
              "3"
            ]
          },
          "metadata": {},
          "execution_count": 22
        }
      ]
    },
    {
      "cell_type": "markdown",
      "source": [
        "# EJERCICIO 3\n"
      ],
      "metadata": {
        "id": "ji6aehVgMJm6"
      }
    },
    {
      "cell_type": "code",
      "source": [
        "#3. Cree un RDD del tipo clave valor a partir de la lectura del txt de transacciones.\n",
        "RDD_TRANSACCIONES =sc.textFile('./transacciones')\n",
        "RDD_TRANSACCIONES.collect()"
      ],
      "metadata": {
        "colab": {
          "base_uri": "https://localhost:8080/"
        },
        "id": "-TTB1nmIL8YN",
        "outputId": "c7ca797b-d04f-4ecd-a791-7c0c62eb508d"
      },
      "execution_count": 28,
      "outputs": [
        {
          "output_type": "execute_result",
          "data": {
            "text/plain": [
              "['(1001, 52.3)',\n",
              " '(1005, 20.8)',\n",
              " '(1001, 10.1)',\n",
              " '(1004, 52.7)',\n",
              " '(1005, 20.7)',\n",
              " '(1002, 85.3)',\n",
              " '(1004, 20.9)']"
            ]
          },
          "metadata": {},
          "execution_count": 28
        }
      ]
    },
    {
      "cell_type": "code",
      "source": [
        "RDD_TRANSACCIONES_CONTENIDO=sc.parallelize([('1001', 52.3),\n",
        " ('1005', 20.8),\n",
        " ('1001', 10.1),\n",
        " ('1004', 52.7),\n",
        " ('1005', 20.7),\n",
        " ('1002', 85.3),\n",
        " ('1004', 20.9)])\n",
        "RDD_TRANSACCIONES_CONTENIDO.collect()"
      ],
      "metadata": {
        "colab": {
          "base_uri": "https://localhost:8080/"
        },
        "id": "BenjScaEOl8k",
        "outputId": "787f8d5b-1d8f-4f66-a0b9-7000ebb46c31"
      },
      "execution_count": 34,
      "outputs": [
        {
          "output_type": "execute_result",
          "data": {
            "text/plain": [
              "[('1001', 52.3),\n",
              " ('1005', 20.8),\n",
              " ('1001', 10.1),\n",
              " ('1004', 52.7),\n",
              " ('1005', 20.7),\n",
              " ('1002', 85.3),\n",
              " ('1004', 20.9)]"
            ]
          },
          "metadata": {},
          "execution_count": 34
        }
      ]
    },
    {
      "cell_type": "code",
      "source": [
        "#Tenga en cuenta que deberá procesar el RDD leído para obtener el resultado solicitado. Supongamos\n",
        "#que el RDD resultante de tipo clave valor refleja las transacciones realizadas por número de\n",
        "#cuentas. Obtenga el monto total por cada cuenta (Suma).\n",
        "#Tip: Cree su propia función para procesar el RDD leído.\n",
        "RDD_CUENTATOTAL = RDD_TRANSACCIONES_CONTENIDO.reduceByKey(lambda x , y: x+y)\n",
        "RDD_CUENTATOTAL.collect()"
      ],
      "metadata": {
        "colab": {
          "base_uri": "https://localhost:8080/"
        },
        "id": "Mweto2SAM_6I",
        "outputId": "4402e445-9e85-4a5f-dc8b-d7a115b9e493"
      },
      "execution_count": 35,
      "outputs": [
        {
          "output_type": "execute_result",
          "data": {
            "text/plain": [
              "[('1002', 85.3), ('1001', 62.4), ('1005', 41.5), ('1004', 73.6)]"
            ]
          },
          "metadata": {},
          "execution_count": 35
        }
      ]
    }
  ]
}
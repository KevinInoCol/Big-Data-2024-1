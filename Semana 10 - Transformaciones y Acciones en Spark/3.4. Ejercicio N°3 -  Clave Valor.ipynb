{
 "cells": [
  {
   "cell_type": "code",
   "execution_count": 1,
   "metadata": {},
   "outputs": [
    {
     "name": "stdout",
     "output_type": "stream",
     "text": [
      "Collecting pyspark\n",
      "  Using cached pyspark-3.5.1-py2.py3-none-any.whl\n",
      "Collecting py4j\n",
      "  Downloading py4j-0.10.9.7-py2.py3-none-any.whl (200 kB)\n",
      "     ---------------------------------------- 0.0/200.5 kB ? eta -:--:--\n",
      "     ------------------------------------- 200.5/200.5 kB 12.7 MB/s eta 0:00:00\n",
      "Installing collected packages: py4j, pyspark\n",
      "Successfully installed py4j-0.10.9.7 pyspark-3.5.1\n"
     ]
    },
    {
     "name": "stderr",
     "output_type": "stream",
     "text": [
      "\n",
      "[notice] A new release of pip is available: 23.0.1 -> 24.0\n",
      "[notice] To update, run: C:\\Users\\EQUIPO\\AppData\\Local\\Microsoft\\WindowsApps\\PythonSoftwareFoundation.Python.3.10_qbz5n2kfra8p0\\python.exe -m pip install --upgrade pip\n"
     ]
    }
   ],
   "source": [
    "# Instalamos pyspark y py4j\n",
    "!pip install pyspark py4j"
   ]
  },
  {
   "cell_type": "code",
   "execution_count": 2,
   "metadata": {},
   "outputs": [],
   "source": [
    "from pyspark.sql import SparkSession\n",
    "\n",
    "Spark = SparkSession.builder.appName(\"kaic\").getOrCreate()\n",
    "SparkContext = Spark.sparkContext"
   ]
  },
  {
   "cell_type": "code",
   "execution_count": 13,
   "metadata": {},
   "outputs": [
    {
     "data": {
      "text/plain": [
       "[('(1001', ' 52.3) 10.1)'),\n",
       " ('(1005', ' 20.8) 20.7)'),\n",
       " ('(1004', ' 52.7) 20.9)'),\n",
       " ('(1002', ' 85.3)')]"
      ]
     },
     "execution_count": 13,
     "metadata": {},
     "output_type": "execute_result"
    }
   ],
   "source": [
    "# Leer el archivo de transacciones y crear un RDD clave-valor\n",
    "transacciones_rdd = SparkContext.textFile(\"transacciones\").map(lambda linea: linea.strip().split(',')).map(lambda x: (x[0], x[1]))\n",
    "\n",
    "# Reducir los valores para obtener el monto total por cada cuenta y recoger el resultado\n",
    "monto_total_por_cuenta = transacciones_rdd.reduceByKey(lambda x, y: x + y).collect()\n",
    "\n",
    "# Mostrar el resultado\n",
    "monto_total_por_cuenta\n"
   ]
  },
  {
   "cell_type": "code",
   "execution_count": 16,
   "metadata": {},
   "outputs": [
    {
     "data": {
      "text/plain": [
       "[('(1001', 62.0), ('(1005', 40.0), ('(1004', 72.0), ('(1002', 85.0)]"
      ]
     },
     "execution_count": 16,
     "metadata": {},
     "output_type": "execute_result"
    }
   ],
   "source": [
    "# Leer el archivo de transacciones y crear un RDD clave-valor\n",
    "transacciones_rdd = SparkContext.textFile(\"transacciones\").map(lambda linea: linea.strip().split(',')).map(lambda x: (x[0], float(x[1])))\n",
    "\n",
    "# Reducir los valores para obtener el monto total por cada cuenta y recoger el resultado\n",
    "monto_total_por_cuenta = transacciones_rdd.reduceByKey(lambda x, y: x + y).collect()\n",
    "\n",
    "# Mostrar el resultado\n",
    "monto_total_por_cuenta\n"
   ]
  }
 ],
 "metadata": {
  "kernelspec": {
   "display_name": "Big-Data",
   "language": "python",
   "name": "python3"
  },
  "language_info": {
   "codemirror_mode": {
    "name": "ipython",
    "version": 3
   },
   "file_extension": ".py",
   "mimetype": "text/x-python",
   "name": "python",
   "nbconvert_exporter": "python",
   "pygments_lexer": "ipython3",
   "version": "3.10.11"
  }
 },
 "nbformat": 4,
 "nbformat_minor": 2
}

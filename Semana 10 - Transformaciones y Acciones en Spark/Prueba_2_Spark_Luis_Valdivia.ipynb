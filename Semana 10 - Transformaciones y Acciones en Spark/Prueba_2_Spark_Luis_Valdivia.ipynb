{
  "cells": [
    {
      "cell_type": "code",
      "execution_count": 24,
      "metadata": {
        "id": "epEjtwzCmaOc"
      },
      "outputs": [],
      "source": [
        "import math\n",
        "from pyspark.sql import SparkSession\n",
        "\n",
        "Spark = SparkSession.builder.appName(\"lavc\").getOrCreate()\n",
        "SparkContext = Spark.sparkContext"
      ]
    },
    {
      "cell_type": "code",
      "execution_count": 11,
      "metadata": {
        "colab": {
          "base_uri": "https://localhost:8080/"
        },
        "id": "eQgozcX1miFV",
        "outputId": "26799e1c-1f9c-4be2-f84b-4203f6199c1d"
      },
      "outputs": [
        {
          "name": "stdout",
          "output_type": "stream",
          "text": [
            "Los lenguajes que inician con la letra 'R' son :  ['R', 'Rugby']\n"
          ]
        }
      ],
      "source": [
        "# @title Ejercicio 1\n",
        "#Creando RDD llamado lenguajes\n",
        "lenguajes = SparkContext.parallelize([\"Python\", \"R\", \"C\", \"Scala\", \"Rugby\", \"SQL\"])\n",
        "\n",
        "#Filtrar lenguajes con la letra R\n",
        "lenguajes_R = lenguajes.filter(lambda x: x.startswith(\"R\"))\n",
        "print(\"Los lenguajes que inician con la letra 'R' son : \", lenguajes_R.collect())"
      ]
    },
    {
      "cell_type": "code",
      "execution_count": 61,
      "metadata": {
        "colab": {
          "base_uri": "https://localhost:8080/"
        },
        "id": "MZVTh646o8wR",
        "outputId": "c5be1b0e-ff52-45c9-8e35-8f9518ea0bb3"
      },
      "outputs": [
        {
          "name": "stdout",
          "output_type": "stream",
          "text": [
            "Números pares y su raiz cuadrada:\n",
            "(20, 4.47213595499958)\n",
            "(22, 4.69041575982343)\n",
            "(24, 4.898979485566356)\n",
            "(26, 5.0990195135927845)\n",
            "(28, 5.291502622129181)\n",
            "(30, 5.477225575051661)\n",
            "\n",
            "Raiz Cuadrada de otra forma:\n",
            "[20, 4.47213595499958, 22, 4.69041575982343, 24, 4.898979485566356, 26, 5.0990195135927845, 28, 5.291502622129181, 30, 5.477225575051661]\n"
          ]
        }
      ],
      "source": [
        "# @title Ejercicio 2 - A\n",
        "# Creando RDD llamado pares con rango de 20 a 31 porque si no, no toma el 30\n",
        "# El 2 es porque irá de 2 en 2, osea pares\n",
        "pares = SparkContext.parallelize(range(20, 31, 2))\n",
        "\n",
        "# Obtener una lista compuesta por los números pares en el intervalo [20;30] y sus respectivas raíces cuadradas\n",
        "pares_raices = pares.map(lambda x: (x, math.sqrt(x))).collect()\n",
        "\n",
        "#\n",
        "print(\"Números pares y su raiz cuadrada:\")\n",
        "for numeritos in pares_raices:\n",
        "    print(numeritos)\n",
        "\n",
        "#En este caso use flatmap para mostrarlo como sin los () y la formula de raiz cuadrada\n",
        "pares_raices2 = pares.flatMap(lambda x: (x, x ** 0.5))\n",
        "print(\"\\nRaiz Cuadrada de otra forma:\")\n",
        "print(pares_raices2.collect())"
      ]
    },
    {
      "cell_type": "code",
      "execution_count": 76,
      "metadata": {
        "colab": {
          "base_uri": "https://localhost:8080/"
        },
        "id": "xQjoJf09yMaC",
        "outputId": "26ba4323-5e05-4b20-dc92-ff0755a06670"
      },
      "outputs": [
        {
          "name": "stdout",
          "output_type": "stream",
          "text": [
            "Números pares y su raiz cuadrada:\n",
            "(20, 4.47213595499958)\n",
            "(22, 4.69041575982343)\n",
            "(24, 4.898979485566356)\n",
            "(26, 5.0990195135927845)\n",
            "(28, 5.291502622129181)\n",
            "(30, 5.477225575051661)\n"
          ]
        }
      ],
      "source": [
        "# @title Ejercicio 2 - B\n",
        "# Reducir el número de particiones a 20, en este caso no afecta porque la cantidad de datos es poca, pero si está definido\n",
        "pares_raices = pares_raices.coalesce(20)\n",
        "\n",
        "# Recoger los resultados\n",
        "resultados_pares_raices = pares_raices.collect()\n",
        "\n",
        "# Imprimir los resultados\n",
        "print(\"Números pares y su raiz cuadrada:\")\n",
        "for numeritos in resultados_pares_raices:\n",
        "    print(numeritos)\n"
      ]
    },
    {
      "cell_type": "code",
      "execution_count": 78,
      "metadata": {
        "colab": {
          "base_uri": "https://localhost:8080/"
        },
        "id": "VUU3zOI45dnu",
        "outputId": "8edecfba-7476-440d-b5b4-fad68517aa16"
      },
      "outputs": [
        {
          "name": "stdout",
          "output_type": "stream",
          "text": [
            " Se podría usar repartition() que tambien  también puede reducir el número de particiones \n",
            " Aunque no es tan eficiente como coalesce() cuando el objetivo es disminuir el número de particiones, \n",
            " especialmente si el número actual de particiones es mayor que el número deseado de particiones \n"
          ]
        }
      ],
      "source": [
        "# @title Ejercicio 2 - C\n",
        "ejercicio2_c = \" Se podría usar repartition() que tambien  también puede reducir el número de particiones \\n Aunque no es tan eficiente como coalesce() cuando el objetivo es disminuir el número de particiones, \\n especialmente si el número actual de particiones es mayor que el número deseado de particiones \"\n",
        "print(ejercicio2_c)"
      ]
    },
    {
      "cell_type": "code",
      "execution_count": 103,
      "metadata": {
        "colab": {
          "base_uri": "https://localhost:8080/"
        },
        "id": "a3vklwoglMFO",
        "outputId": "a34faa7d-2bbf-4a64-a547-9333cb3da8e5"
      },
      "outputs": [
        {
          "name": "stdout",
          "output_type": "stream",
          "text": [
            "Cuenta: 1004, Total: 73.6\n",
            "Cuenta: 1002, Total: 85.3\n",
            "Cuenta: 1001, Total: 62.4\n",
            "Cuenta: 1005, Total: 41.5\n"
          ]
        }
      ],
      "source": [
        "# @title Ejercicio 3\n",
        "from pyspark.sql import SparkSession\n",
        "\n",
        "# Crear o obtener la sesión de Spark\n",
        "spark = SparkSession.builder.appName(\"TotalPorCuenta\").getOrCreate()\n",
        "sc = spark.sparkContext\n",
        "\n",
        "# Ruta al archivo de datos\n",
        "filepath = 'transacciones'\n",
        "\n",
        "# Cargar el archivo de texto\n",
        "lines = sc.textFile(filepath)\n",
        "\n",
        "# Función para convertir cada línea en una tupla (número de cuenta, monto)\n",
        "def parse_line(line):\n",
        "    parts = line.strip().strip('()').split(',')\n",
        "    account = int(parts[0])\n",
        "    amount = float(parts[1])\n",
        "    return (account, amount)\n",
        "\n",
        "# Crear el RDD de clave-valor\n",
        "transactions = lines.map(parse_line)\n",
        "\n",
        "# Sumar los montos por cuenta\n",
        "total_por_cuenta = transactions.reduceByKey(lambda a, b: a + b)\n",
        "\n",
        "# Mostrar los resultados\n",
        "for cuenta, total in total_por_cuenta.collect():\n",
        "    print(f\"Cuenta: {cuenta}, Total: {total}\")"
      ]
    }
  ],
  "metadata": {
    "colab": {
      "provenance": []
    },
    "kernelspec": {
      "display_name": "Python 3",
      "name": "python3"
    },
    "language_info": {
      "name": "python"
    }
  },
  "nbformat": 4,
  "nbformat_minor": 0
}

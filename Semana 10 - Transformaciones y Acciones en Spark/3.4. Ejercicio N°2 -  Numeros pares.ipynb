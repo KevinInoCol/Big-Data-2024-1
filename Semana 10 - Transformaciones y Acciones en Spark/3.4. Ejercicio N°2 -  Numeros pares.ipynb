{
 "cells": [
  {
   "cell_type": "code",
   "execution_count": 2,
   "metadata": {},
   "outputs": [
    {
     "name": "stdout",
     "output_type": "stream",
     "text": [
      "Requirement already satisfied: pyspark in c:\\users\\equipo\\anaconda3\\envs\\bigdata-2024-semana09\\lib\\site-packages (3.5.1)\n",
      "Requirement already satisfied: py4j in c:\\users\\equipo\\anaconda3\\envs\\bigdata-2024-semana09\\lib\\site-packages (0.10.9.7)\n"
     ]
    }
   ],
   "source": [
    "# Instalamos pyspark y py4j\n",
    "!pip install pyspark py4j"
   ]
  },
  {
   "cell_type": "code",
   "execution_count": 3,
   "metadata": {},
   "outputs": [],
   "source": [
    "from pyspark.sql import SparkSession\n",
    "\n",
    "Spark = SparkSession.builder.appName(\"kaic\").getOrCreate()\n",
    "SparkContext = Spark.sparkContext"
   ]
  },
  {
   "cell_type": "code",
   "execution_count": 4,
   "metadata": {},
   "outputs": [
    {
     "data": {
      "text/plain": [
       "[20, 22, 24, 26, 28, 30]"
      ]
     },
     "execution_count": 4,
     "metadata": {},
     "output_type": "execute_result"
    }
   ],
   "source": [
    "# Crear el RDD 'pares' con los números pares en el intervalo [20, 30]\n",
    "pares = SparkContext.parallelize([x for x in range(20, 31) if x % 2 == 0])\n",
    "\n",
    "# Recoger y mostrar el contenido del RDD para verificar\n",
    "pares.collect()"
   ]
  },
  {
   "cell_type": "code",
   "execution_count": 9,
   "metadata": {},
   "outputs": [
    {
     "data": {
      "text/plain": [
       "[20,\n",
       " 4.47213595499958,\n",
       " 22,\n",
       " 4.69041575982343,\n",
       " 24,\n",
       " 4.898979485566356,\n",
       " 26,\n",
       " 5.0990195135927845,\n",
       " 28,\n",
       " 5.291502622129181,\n",
       " 30,\n",
       " 5.477225575051661]"
      ]
     },
     "execution_count": 9,
     "metadata": {},
     "output_type": "execute_result"
    }
   ],
   "source": [
    "import math\n",
    "\n",
    "# Crear una lista que contiene cada número par y su raíz cuadrada\n",
    "pares_con_raiz = pares.flatMap(lambda x: [x, math.sqrt(x)])\n",
    "\n",
    "# mostrar el contenido del nuevo RDD para verificar\n",
    "pares_con_raiz.collect()"
   ]
  },
  {
   "cell_type": "code",
   "execution_count": 14,
   "metadata": {},
   "outputs": [
    {
     "data": {
      "text/plain": [
       "20"
      ]
     },
     "execution_count": 14,
     "metadata": {},
     "output_type": "execute_result"
    }
   ],
   "source": [
    "# Elevar el número de particiones del RDD 'pares_con_raiz' a 20\n",
    "pares_con_raiz_20_particiones = pares_con_raiz.repartition(20)\n",
    "\n",
    "# Verificar el número de particiones\n",
    "pares_con_raiz_20_particiones.getNumPartitions()"
   ]
  },
  {
   "cell_type": "code",
   "execution_count": 17,
   "metadata": {},
   "outputs": [
    {
     "data": {
      "text/plain": [
       "12"
      ]
     },
     "execution_count": 17,
     "metadata": {},
     "output_type": "execute_result"
    }
   ],
   "source": [
    "# Disminuir el número de particiones del RDD a 10\n",
    "pares_con_raiz_10_particiones = pares_con_raiz_20_particiones.coalesce(12)\n",
    "\n",
    "# Verificar el número de particiones\n",
    "pares_con_raiz_10_particiones.getNumPartitions()\n"
   ]
  }
 ],
 "metadata": {
  "kernelspec": {
   "display_name": "Big-Data",
   "language": "python",
   "name": "python3"
  },
  "language_info": {
   "codemirror_mode": {
    "name": "ipython",
    "version": 3
   },
   "file_extension": ".py",
   "mimetype": "text/x-python",
   "name": "python",
   "nbconvert_exporter": "python",
   "pygments_lexer": "ipython3",
   "version": "3.10.14"
  }
 },
 "nbformat": 4,
 "nbformat_minor": 2
}

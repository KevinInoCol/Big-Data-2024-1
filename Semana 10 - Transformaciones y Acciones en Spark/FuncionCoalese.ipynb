{
 "cells": [
  {
   "cell_type": "code",
   "execution_count": 1,
   "metadata": {},
   "outputs": [],
   "source": [
    "from pyspark.sql import SparkSession\n",
    "\n",
    "from pyspark.sql.functions import col, count,  avg, min, max, desc #Añadido ultima clase\n",
    "\n",
    "\n",
    "\n",
    "import findspark\n",
    "findspark.init('C:\\\\Users\\\\Usuario\\\\anaconda3\\\\envs\\\\BigData1\\\\Lib\\\\site-packages\\\\pyspark')\n",
    "\n",
    "import os\n",
    "from pyspark import SparkConf, SparkContext\n",
    "\n",
    "# Configura las variables de entorno\n",
    "os.environ['PYSPARK_PYTHON'] = 'C:\\\\Users\\\\Usuario\\\\anaconda3\\\\envs\\\\BigData1\\\\python.exe'\n",
    "os.environ['PYSPARK_DRIVER_PYTHON'] = 'C:\\\\Users\\\\Usuario\\\\anaconda3\\\\envs\\\\BigData1\\\\python.exe'\n",
    "\n",
    "# Configura Spark\n",
    "spark = SparkSession.builder.getOrCreate()\n",
    "\n",
    "SparkContext = spark.sparkContext\n",
    "\n"
   ]
  },
  {
   "cell_type": "markdown",
   "metadata": {},
   "source": [
    "La funcion Coalese\n",
    "Tiene como función reducir el n° de particiones"
   ]
  },
  {
   "cell_type": "code",
   "execution_count": 2,
   "metadata": {},
   "outputs": [
    {
     "data": {
      "text/plain": [
       "15"
      ]
     },
     "execution_count": 2,
     "metadata": {},
     "output_type": "execute_result"
    }
   ],
   "source": [
    "rdd = SparkContext.parallelize([1,2,3.4,5,6,7,8,9], 15)\n",
    "\n",
    "rdd.getNumPartitions()"
   ]
  },
  {
   "cell_type": "code",
   "execution_count": 3,
   "metadata": {},
   "outputs": [
    {
     "data": {
      "text/plain": [
       "15"
      ]
     },
     "execution_count": 3,
     "metadata": {},
     "output_type": "execute_result"
    }
   ],
   "source": [
    "rdd.coalesce(3) #Coalesce SOLO reduce la cantidad de particiones.\n",
    "rdd.getNumPartitions()"
   ]
  },
  {
   "cell_type": "code",
   "execution_count": 4,
   "metadata": {},
   "outputs": [
    {
     "data": {
      "text/plain": [
       "3"
      ]
     },
     "execution_count": 4,
     "metadata": {},
     "output_type": "execute_result"
    }
   ],
   "source": [
    "rdd_reducido_en_3 = rdd.coalesce(3)\n",
    "rdd_reducido_en_3.getNumPartitions()"
   ]
  }
 ],
 "metadata": {
  "kernelspec": {
   "display_name": "Big-Data-2024-2",
   "language": "python",
   "name": "python3"
  },
  "language_info": {
   "codemirror_mode": {
    "name": "ipython",
    "version": 3
   },
   "file_extension": ".py",
   "mimetype": "text/x-python",
   "name": "python",
   "nbconvert_exporter": "python",
   "pygments_lexer": "ipython3",
   "version": "3.10.14"
  }
 },
 "nbformat": 4,
 "nbformat_minor": 2
}

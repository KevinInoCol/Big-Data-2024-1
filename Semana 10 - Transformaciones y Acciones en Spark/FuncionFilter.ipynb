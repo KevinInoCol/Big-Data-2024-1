{
 "cells": [
  {
   "cell_type": "code",
   "execution_count": 4,
   "metadata": {},
   "outputs": [],
   "source": [
    "from pyspark.sql import SparkSession\n",
    "\n",
    "from pyspark.sql.functions import col, count,  avg, min, max, desc #Añadido ultima clase\n",
    "\n",
    "\n",
    "\n",
    "import findspark\n",
    "findspark.init('C:\\\\Users\\\\Usuario\\\\anaconda3\\\\envs\\\\BigData1\\\\Lib\\\\site-packages\\\\pyspark')\n",
    "\n",
    "import os\n",
    "from pyspark import SparkConf, SparkContext\n",
    "\n",
    "# Configura las variables de entorno\n",
    "os.environ['PYSPARK_PYTHON'] = 'C:\\\\Users\\\\Usuario\\\\anaconda3\\\\envs\\\\BigData1\\\\python.exe'\n",
    "os.environ['PYSPARK_DRIVER_PYTHON'] = 'C:\\\\Users\\\\Usuario\\\\anaconda3\\\\envs\\\\BigData1\\\\python.exe'\n",
    "\n",
    "# Configura Spark\n",
    "spark = SparkSession.builder.getOrCreate()\n",
    "\n",
    "SparkContext = spark.sparkContext\n",
    "\n",
    "\n"
   ]
  },
  {
   "cell_type": "code",
   "execution_count": 5,
   "metadata": {},
   "outputs": [
    {
     "data": {
      "text/plain": [
       "[1, 2, 3, 4, 5, 6, 7, 8, 9]"
      ]
     },
     "execution_count": 5,
     "metadata": {},
     "output_type": "execute_result"
    }
   ],
   "source": [
    "rdd = SparkContext.parallelize([1,2,3,4,5,6,7,8,9])\n",
    "rdd.collect()"
   ]
  },
  {
   "cell_type": "code",
   "execution_count": 6,
   "metadata": {},
   "outputs": [
    {
     "data": {
      "text/plain": [
       "[2, 4, 6, 8]"
      ]
     },
     "execution_count": 6,
     "metadata": {},
     "output_type": "execute_result"
    }
   ],
   "source": [
    "rdd_pares = rdd.filter(lambda x: x % 2 == 0)\n",
    "rdd_pares.collect()"
   ]
  },
  {
   "cell_type": "code",
   "execution_count": 7,
   "metadata": {},
   "outputs": [
    {
     "data": {
      "text/plain": [
       "[1, 3, 5, 7, 9]"
      ]
     },
     "execution_count": 7,
     "metadata": {},
     "output_type": "execute_result"
    }
   ],
   "source": [
    "rdd_impares = rdd.filter(lambda x: x % 2 != 0)\n",
    "rdd_impares.collect()"
   ]
  },
  {
   "cell_type": "markdown",
   "metadata": {},
   "source": [
    "RDD CON TEXTO"
   ]
  },
  {
   "cell_type": "code",
   "execution_count": 8,
   "metadata": {},
   "outputs": [
    {
     "data": {
      "text/plain": [
       "['kevin',\n",
       " 'pier',\n",
       " 'tito',\n",
       " 'kevão',\n",
       " 'karol',\n",
       " 'yanelly',\n",
       " 'mayra',\n",
       " 'zol',\n",
       " 'kevinho',\n",
       " 'katy']"
      ]
     },
     "execution_count": 8,
     "metadata": {},
     "output_type": "execute_result"
    }
   ],
   "source": [
    "rdd_texto = SparkContext.parallelize(['kevin', 'pier', 'tito', 'kevão', 'karol', 'yanelly', 'mayra', 'zol', 'kevinho', 'katy'])\n",
    "rdd_texto.collect()"
   ]
  },
  {
   "cell_type": "code",
   "execution_count": 9,
   "metadata": {},
   "outputs": [
    {
     "data": {
      "text/plain": [
       "['kevin', 'kevão', 'karol', 'kevinho', 'katy']"
      ]
     },
     "execution_count": 9,
     "metadata": {},
     "output_type": "execute_result"
    }
   ],
   "source": [
    "rdd_filtrado_con_k = rdd_texto.filter(lambda x: x.startswith('k'))\n",
    "rdd_filtrado_con_k.collect()"
   ]
  },
  {
   "cell_type": "code",
   "execution_count": 10,
   "metadata": {},
   "outputs": [
    {
     "data": {
      "text/plain": [
       "['kevin', 'kevão', 'kevinho']"
      ]
     },
     "execution_count": 10,
     "metadata": {},
     "output_type": "execute_result"
    }
   ],
   "source": [
    "rdd_filtrado_con_and = rdd_texto.filter(lambda x: x.startswith('k') and x.find('e') == 1)\n",
    "rdd_filtrado_con_and.collect()"
   ]
  },
  {
   "cell_type": "code",
   "execution_count": 11,
   "metadata": {},
   "outputs": [
    {
     "data": {
      "text/plain": [
       "['kevin', 'kevão', 'karol', 'zol', 'kevinho', 'katy']"
      ]
     },
     "execution_count": 11,
     "metadata": {},
     "output_type": "execute_result"
    }
   ],
   "source": [
    "rdd_filtrado_con_or = rdd_texto.filter(lambda x: x.startswith('k') or x.find('o') == 1)\n",
    "rdd_filtrado_con_or.collect()"
   ]
  }
 ],
 "metadata": {
  "kernelspec": {
   "display_name": "Big-Data-2024-2",
   "language": "python",
   "name": "python3"
  },
  "language_info": {
   "codemirror_mode": {
    "name": "ipython",
    "version": 3
   },
   "file_extension": ".py",
   "mimetype": "text/x-python",
   "name": "python",
   "nbconvert_exporter": "python",
   "pygments_lexer": "ipython3",
   "version": "3.10.14"
  }
 },
 "nbformat": 4,
 "nbformat_minor": 2
}

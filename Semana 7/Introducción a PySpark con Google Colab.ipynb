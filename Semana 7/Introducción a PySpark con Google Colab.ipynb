{
  "nbformat": 4,
  "nbformat_minor": 0,
  "metadata": {
    "colab": {
      "provenance": []
    },
    "kernelspec": {
      "name": "python3",
      "display_name": "Python 3"
    },
    "language_info": {
      "name": "python"
    }
  },
  "cells": [
    {
      "cell_type": "code",
      "execution_count": null,
      "metadata": {
        "id": "XLLxQMnrC-Vc"
      },
      "outputs": [],
      "source": [
        "# Instalar SDK Java 8\n",
        "!apt-get install openjdk-8-jdk-headless -qq > /dev/null"
      ]
    },
    {
      "cell_type": "code",
      "source": [
        "# Descargar Spark 3.4.3\n",
        "!wget -q -P . https://archive.apache.org/dist/spark/spark-3.4.3/spark-3.4.3-bin-hadoop3.tgz"
      ],
      "metadata": {
        "id": "_gzWMddzDpB9"
      },
      "execution_count": null,
      "outputs": []
    },
    {
      "cell_type": "code",
      "source": [
        "# Descomprimir el archivo descargado de Spark\n",
        "!tar xf spark-3.4.3-bin-hadoop3.tgz"
      ],
      "metadata": {
        "id": "QG0IhQ0NDyCW"
      },
      "execution_count": null,
      "outputs": []
    },
    {
      "cell_type": "code",
      "source": [
        "# Establecemos las variables de entorno\n",
        "import os\n",
        "\n",
        "os.environ[\"JAVA_HOME\"] = \"/usr/lib/jvm/java-8-openjdk-amd64\"\n",
        "os.environ[\"SPARK_HOME\"] = \"/content/spark-3.4.3-bin-hadoop3\""
      ],
      "metadata": {
        "id": "Pe2yOKhjEIjk"
      },
      "execution_count": null,
      "outputs": []
    },
    {
      "cell_type": "code",
      "source": [
        "# Instalamos la librería findspark para facilitar el uso de Apache Spark en un entorno interactivo como Jupyter notebooks o shells interactivos de Python.\n",
        "!pip install -q findspark"
      ],
      "metadata": {
        "id": "yYV7GIyoEMhc"
      },
      "execution_count": null,
      "outputs": []
    },
    {
      "cell_type": "code",
      "source": [
        "# Instalar pyspark\n",
        "!pip install -q pyspark"
      ],
      "metadata": {
        "colab": {
          "base_uri": "https://localhost:8080/"
        },
        "id": "3ruCYp9yEWfF",
        "outputId": "4d528c21-3a8f-4e60-f294-977bfcc7f865"
      },
      "execution_count": null,
      "outputs": [
        {
          "output_type": "stream",
          "name": "stdout",
          "text": [
            "\u001b[2K     \u001b[90m━━━━━━━━━━━━━━━━━━━━━━━━━━━━━━━━━━━━━━━━\u001b[0m \u001b[32m317.0/317.0 MB\u001b[0m \u001b[31m2.7 MB/s\u001b[0m eta \u001b[36m0:00:00\u001b[0m\n",
            "\u001b[?25h  Preparing metadata (setup.py) ... \u001b[?25l\u001b[?25hdone\n",
            "  Building wheel for pyspark (setup.py) ... \u001b[?25l\u001b[?25hdone\n"
          ]
        }
      ]
    },
    {
      "cell_type": "code",
      "source": [
        "import findspark\n",
        "\n",
        "findspark.init()\n",
        "\n",
        "from pyspark.sql import SparkSession\n",
        "\n",
        "spark = SparkSession.builder.getOrCreate()\n",
        "\n",
        "spark"
      ],
      "metadata": {
        "colab": {
          "base_uri": "https://localhost:8080/",
          "height": 219
        },
        "id": "5FzS53hoElC1",
        "outputId": "0498cd03-cdf0-43e7-dabd-ce30afd9be64"
      },
      "execution_count": null,
      "outputs": [
        {
          "output_type": "execute_result",
          "data": {
            "text/plain": [
              "<pyspark.sql.session.SparkSession at 0x79bef0389ed0>"
            ],
            "text/html": [
              "\n",
              "            <div>\n",
              "                <p><b>SparkSession - in-memory</b></p>\n",
              "                \n",
              "        <div>\n",
              "            <p><b>SparkContext</b></p>\n",
              "\n",
              "            <p><a href=\"http://2573d9c9d26d:4040\">Spark UI</a></p>\n",
              "\n",
              "            <dl>\n",
              "              <dt>Version</dt>\n",
              "                <dd><code>v3.4.3</code></dd>\n",
              "              <dt>Master</dt>\n",
              "                <dd><code>local[*]</code></dd>\n",
              "              <dt>AppName</dt>\n",
              "                <dd><code>pyspark-shell</code></dd>\n",
              "            </dl>\n",
              "        </div>\n",
              "        \n",
              "            </div>\n",
              "        "
            ]
          },
          "metadata": {},
          "execution_count": 7
        }
      ]
    },
    {
      "cell_type": "code",
      "source": [
        "import findspark\n",
        "from pyspark.sql import SparkSession\n",
        "\n",
        "# Inicializar SparkSession\n",
        "findspark.init()\n",
        "spark = SparkSession.builder.getOrCreate()\n",
        "\n",
        "# Crear una lista de listas con los valores repetidos\n",
        "data = [['spark', 'python']] * 10\n",
        "\n",
        "# Crear un DataFrame a partir de la lista de listas\n",
        "df = spark.createDataFrame(data, ['columna 1 Big Data', 'Columna 2 Big Data'])\n",
        "\n",
        "# Mostrar el DataFrame\n",
        "df.show()"
      ],
      "metadata": {
        "colab": {
          "base_uri": "https://localhost:8080/"
        },
        "id": "ZHaAz2F6GJOd",
        "outputId": "59b14918-1c74-4d09-a45c-7d65c5cc865e"
      },
      "execution_count": null,
      "outputs": [
        {
          "output_type": "stream",
          "name": "stdout",
          "text": [
            "+------------------+------------------+\n",
            "|columna 1 Big Data|Columna 2 Big Data|\n",
            "+------------------+------------------+\n",
            "|             spark|            python|\n",
            "|             spark|            python|\n",
            "|             spark|            python|\n",
            "|             spark|            python|\n",
            "|             spark|            python|\n",
            "|             spark|            python|\n",
            "|             spark|            python|\n",
            "|             spark|            python|\n",
            "|             spark|            python|\n",
            "|             spark|            python|\n",
            "+------------------+------------------+\n",
            "\n"
          ]
        }
      ]
    },
    {
      "cell_type": "code",
      "source": [
        "import findspark\n",
        "from pyspark.sql import SparkSession\n",
        "\n",
        "# Inicializar SparkSession\n",
        "findspark.init()\n",
        "spark = SparkSession.builder.getOrCreate()\n",
        "\n",
        "# Crear una lista de listas con los valores repetidos\n",
        "data = [['spark', 'Explora python es un lenguaje muy versatil']] * 10\n",
        "\n",
        "# Crear un DataFrame a partir de la lista de listas\n",
        "df = spark.createDataFrame(data, ['columna 1 Big Data', 'Columna 2 Big Data'])\n",
        "\n",
        "# Mostrar el DataFrame sin truncar el contenido de las columnas\n",
        "df.show(truncate=False)"
      ],
      "metadata": {
        "colab": {
          "base_uri": "https://localhost:8080/"
        },
        "id": "Bgu7vvXcJnbE",
        "outputId": "14de5fc4-4985-4924-bfed-f79bacb11e6d"
      },
      "execution_count": null,
      "outputs": [
        {
          "output_type": "stream",
          "name": "stdout",
          "text": [
            "+------------------+------------------------------------------+\n",
            "|columna 1 Big Data|Columna 2 Big Data                        |\n",
            "+------------------+------------------------------------------+\n",
            "|spark             |Explora python es un lenguaje muy versatil|\n",
            "|spark             |Explora python es un lenguaje muy versatil|\n",
            "|spark             |Explora python es un lenguaje muy versatil|\n",
            "|spark             |Explora python es un lenguaje muy versatil|\n",
            "|spark             |Explora python es un lenguaje muy versatil|\n",
            "|spark             |Explora python es un lenguaje muy versatil|\n",
            "|spark             |Explora python es un lenguaje muy versatil|\n",
            "|spark             |Explora python es un lenguaje muy versatil|\n",
            "|spark             |Explora python es un lenguaje muy versatil|\n",
            "|spark             |Explora python es un lenguaje muy versatil|\n",
            "+------------------+------------------------------------------+\n",
            "\n"
          ]
        }
      ]
    }
  ]
}
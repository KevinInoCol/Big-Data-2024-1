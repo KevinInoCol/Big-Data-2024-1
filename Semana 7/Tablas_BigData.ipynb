{
  "cells": [
    {
      "cell_type": "code",
      "execution_count": null,
      "metadata": {
        "colab": {
          "base_uri": "https://localhost:8080/"
        },
        "id": "M0J22IcdVz1g",
        "outputId": "0a81fa89-0e3f-42f1-c24f-96188034a673"
      },
      "outputs": [
        {
          "name": "stdout",
          "output_type": "stream",
          "text": [
            "\u001b[2K     \u001b[90m━━━━━━━━━━━━━━━━━━━━━━━━━━━━━━━━━━━━━━━━\u001b[0m \u001b[32m317.0/317.0 MB\u001b[0m \u001b[31m3.4 MB/s\u001b[0m eta \u001b[36m0:00:00\u001b[0m\n",
            "\u001b[?25h  Preparing metadata (setup.py) ... \u001b[?25l\u001b[?25hdone\n",
            "  Building wheel for pyspark (setup.py) ... \u001b[?25l\u001b[?25hdone\n"
          ]
        }
      ],
      "source": [
        "!apt-get install openjdk-8-jdk-headless -qq > /dev/null\n",
        "!wget -q -P . https://archive.apache.org/dist/spark/spark-3.4.3/spark-3.4.3-bin-hadoop3.tgz\n",
        "!tar xf spark-3.4.3-bin-hadoop3.tgz\n",
        "\n",
        "import os\n",
        "\n",
        "os.environ[\"JAVA_HOME\"] = \"/usr/lib/jvm/java-8-openjdk-amd64\"\n",
        "os.environ[\"SPARK_HOME\"] = \"/content/spark-3.4.3-bin-hadoop3\"\n",
        "\n",
        "!pip install -q findspark\n",
        "\n",
        "!pip install -q pyspark"
      ]
    },
    {
      "cell_type": "code",
      "execution_count": null,
      "metadata": {
        "colab": {
          "base_uri": "https://localhost:8080/"
        },
        "id": "Q_4XXsIekY77",
        "outputId": "f18dab44-0649-4f21-d994-d57e1bfab511"
      },
      "outputs": [
        {
          "name": "stdout",
          "output_type": "stream",
          "text": [
            "+------------------+------------------+\n",
            "|Columna 1 Big Data|Columna 2 Big Data|\n",
            "+------------------+------------------+\n",
            "|             spark|            Python|\n",
            "|             spark|            Python|\n",
            "|             spark|            Python|\n",
            "|             spark|            Python|\n",
            "|             spark|            Python|\n",
            "|             spark|            Python|\n",
            "|             spark|            Python|\n",
            "|             spark|            Python|\n",
            "|             spark|            Python|\n",
            "|             spark|            Python|\n",
            "+------------------+------------------+\n",
            "\n"
          ]
        }
      ],
      "source": [
        "# Generar una lista con palabras \"Spark\" y \"Python\"\n",
        "BigData = [(\"spark\", \"Python\")] * 10\n",
        "\n",
        "# Crear DataFrame de Spark a partir de la lista\n",
        "df = spark.createDataFrame(BigData, [\"Columna 1 Big Data\", \"Columna 2 Big Data\"])\n",
        "\n",
        "# Mostrar el DataFrame\n",
        "df.show()"
      ]
    },
    {
      "cell_type": "code",
      "execution_count": null,
      "metadata": {
        "colab": {
          "base_uri": "https://localhost:8080/"
        },
        "id": "5J0lejVEm6qf",
        "outputId": "cc0a1d45-83a4-4985-b5a8-c217eaab9976"
      },
      "outputs": [
        {
          "name": "stdout",
          "output_type": "stream",
          "text": [
            "+------------------+--------------------------------------+\n",
            "|Columna 1 Big Data|Columna 2 Big Data                    |\n",
            "+------------------+--------------------------------------+\n",
            "|spark             |Explora Python es un lenguaje versátil|\n",
            "|spark             |Explora Python es un lenguaje versátil|\n",
            "|spark             |Explora Python es un lenguaje versátil|\n",
            "|spark             |Explora Python es un lenguaje versátil|\n",
            "|spark             |Explora Python es un lenguaje versátil|\n",
            "|spark             |Explora Python es un lenguaje versátil|\n",
            "|spark             |Explora Python es un lenguaje versátil|\n",
            "|spark             |Explora Python es un lenguaje versátil|\n",
            "|spark             |Explora Python es un lenguaje versátil|\n",
            "|spark             |Explora Python es un lenguaje versátil|\n",
            "+------------------+--------------------------------------+\n",
            "\n"
          ]
        }
      ],
      "source": [
        "# Generar una lista\n",
        "BigData = [(\"spark\", \"Explora Python es un lenguaje versátil\")] * 10\n",
        "\n",
        "# Crear DataFrame de Spark a partir de la lista\n",
        "df = spark.createDataFrame(BigData, [\"Columna 1 Big Data\", \"Columna 2 Big Data\"])\n",
        "\n",
        "# Mostrar el DataFrame\n",
        "# Mostrar el DataFrame\n",
        "df.show(truncate=False)"
      ]
    }
  ],
  "metadata": {
    "colab": {
      "provenance": []
    },
    "kernelspec": {
      "display_name": "Python 3",
      "name": "python3"
    },
    "language_info": {
      "name": "python"
    }
  },
  "nbformat": 4,
  "nbformat_minor": 0
}

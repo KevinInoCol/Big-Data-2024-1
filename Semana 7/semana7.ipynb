{
  "nbformat": 4,
  "nbformat_minor": 0,
  "metadata": {
    "colab": {
      "provenance": []
    },
    "kernelspec": {
      "name": "python3",
      "display_name": "Python 3"
    },
    "language_info": {
      "name": "python"
    }
  },
  "cells": [
    {
      "cell_type": "code",
      "execution_count": 1,
      "metadata": {
        "id": "fPVcMaqo_35I"
      },
      "outputs": [],
      "source": [
        "# Instalar SDK Java 8\n",
        "!apt-get install openjdk-8-jdk-headless -qq > /dev/null"
      ]
    },
    {
      "cell_type": "code",
      "source": [
        "# Descargar Spark 3.4.3\n",
        "!wget -q -P . https://archive.apache.org/dist/spark/spark-3.4.3/spark-3.4.3-bin-hadoop3.tgz"
      ],
      "metadata": {
        "id": "CDAtblDlAXhm"
      },
      "execution_count": 2,
      "outputs": []
    },
    {
      "cell_type": "code",
      "source": [
        "# Descomprimir el archivo descargado de Spark\n",
        "!tar xf spark-3.4.3-bin-hadoop3.tgz"
      ],
      "metadata": {
        "id": "btRc8NcqAeOV"
      },
      "execution_count": 3,
      "outputs": []
    },
    {
      "cell_type": "code",
      "source": [
        "# Establecemos las variables de entorno\n",
        "import os\n",
        "\n",
        "os.environ[\"JAVA_HOME\"] = \"/usr/lib/jvm/java-8-openjdk-amd64\"\n",
        "os.environ[\"SPARK_HOME\"] = \"/content/spark-3.4.3-bin-hadoop3\""
      ],
      "metadata": {
        "id": "PKXWnv39AjG9"
      },
      "execution_count": 4,
      "outputs": []
    },
    {
      "cell_type": "code",
      "source": [
        "# Instalamos la librería findspark para facilitar el uso de Apache Spark en un entorno interactivo como Jupyter notebooks o shells interactivos de Python.\n",
        "!pip install -q findspark"
      ],
      "metadata": {
        "id": "IgoD5aIFAn-m"
      },
      "execution_count": 5,
      "outputs": []
    },
    {
      "cell_type": "code",
      "source": [
        "# Instalar pyspark\n",
        "!pip install -q pyspark"
      ],
      "metadata": {
        "colab": {
          "base_uri": "https://localhost:8080/"
        },
        "id": "b3_-0KkrAuNd",
        "outputId": "0784f31c-80fb-45c0-aaea-8fe526790109"
      },
      "execution_count": 6,
      "outputs": [
        {
          "output_type": "stream",
          "name": "stdout",
          "text": [
            "\u001b[2K     \u001b[90m━━━━━━━━━━━━━━━━━━━━━━━━━━━━━━━━━━━━━━━━\u001b[0m \u001b[32m317.0/317.0 MB\u001b[0m \u001b[31m4.2 MB/s\u001b[0m eta \u001b[36m0:00:00\u001b[0m\n",
            "\u001b[?25h  Preparing metadata (setup.py) ... \u001b[?25l\u001b[?25hdone\n",
            "  Building wheel for pyspark (setup.py) ... \u001b[?25l\u001b[?25hdone\n"
          ]
        }
      ]
    },
    {
      "cell_type": "code",
      "source": [
        "import findspark #Jupyter\n",
        "\n",
        "findspark.init() #Inicia Spark con las variables de entorno configuradas\n",
        "\n",
        "from pyspark.sql import SparkSession\n",
        "\n",
        "#Objeto = Clase.funciones()\n",
        "spark = SparkSession.builder.getOrCreate()\n",
        "\n",
        "spark"
      ],
      "metadata": {
        "colab": {
          "base_uri": "https://localhost:8080/",
          "height": 219
        },
        "id": "PUy_b6uLBHPl",
        "outputId": "e44aedf9-0522-4054-b233-7f7c61391efc"
      },
      "execution_count": 8,
      "outputs": [
        {
          "output_type": "execute_result",
          "data": {
            "text/plain": [
              "<pyspark.sql.session.SparkSession at 0x7c0446be4e80>"
            ],
            "text/html": [
              "\n",
              "            <div>\n",
              "                <p><b>SparkSession - in-memory</b></p>\n",
              "                \n",
              "        <div>\n",
              "            <p><b>SparkContext</b></p>\n",
              "\n",
              "            <p><a href=\"http://f08ec9ff6dbc:4040\">Spark UI</a></p>\n",
              "\n",
              "            <dl>\n",
              "              <dt>Version</dt>\n",
              "                <dd><code>v3.4.3</code></dd>\n",
              "              <dt>Master</dt>\n",
              "                <dd><code>local[*]</code></dd>\n",
              "              <dt>AppName</dt>\n",
              "                <dd><code>pyspark-shell</code></dd>\n",
              "            </dl>\n",
              "        </div>\n",
              "        \n",
              "            </div>\n",
              "        "
            ]
          },
          "metadata": {},
          "execution_count": 8
        }
      ]
    },
    {
      "cell_type": "code",
      "source": [],
      "metadata": {
        "id": "96zEiGstBzJX"
      },
      "execution_count": null,
      "outputs": []
    },
    {
      "cell_type": "code",
      "source": [
        "# Probando la sesión de Spark\n",
        "#dataframe = objeto.funcion.heredada\n",
        "# Crear los datos para el DataFrame con una comprensión de lista\n",
        "data = [(f\"Spark\", f\"Python\") for i in range(1, 10)]\n",
        "# Crear el DataFrame utilizando la comprensión de lista dentro de createDataFrame\n",
        "df = spark.createDataFrame([(x[0], x[1]) for x in data], [\"Columna 1 Big Data\", \"Columna 2 Big Data\"])\n",
        "# Mostrar el DataFrame\n",
        "df.show()"
      ],
      "metadata": {
        "colab": {
          "base_uri": "https://localhost:8080/"
        },
        "id": "ZJB5EjoPJBHY",
        "outputId": "1b598f63-bb9c-42d5-8701-ae296eb02412"
      },
      "execution_count": 33,
      "outputs": [
        {
          "output_type": "stream",
          "name": "stdout",
          "text": [
            "+------------------+------------------+\n",
            "|Columna 1 Big Data|Columna 2 Big Data|\n",
            "+------------------+------------------+\n",
            "|             Spark|            Python|\n",
            "|             Spark|            Python|\n",
            "|             Spark|            Python|\n",
            "|             Spark|            Python|\n",
            "|             Spark|            Python|\n",
            "|             Spark|            Python|\n",
            "|             Spark|            Python|\n",
            "|             Spark|            Python|\n",
            "|             Spark|            Python|\n",
            "+------------------+------------------+\n",
            "\n"
          ]
        }
      ]
    },
    {
      "cell_type": "code",
      "source": [
        "# Probando la sesión de Spark\n",
        "#dataframe = objeto.funcion.heredada\n",
        "# Crear los datos para el DataFrame con una comprensión de lista\n",
        "data = [(f\"Spark\", f\"Explora Python es un lenguaje versátil\") for i in range(1, 10)]\n",
        "# Crear el DataFrame utilizando la comprensión de lista dentro de createDataFrame\n",
        "df = spark.createDataFrame([(x[0], x[1]) for x in data], [\"Columna 1 Big Data\", \"Columna 2 Big Data\"])\n",
        "# Mostrar el DataFrame\n",
        "df.show(truncate=False)"
      ],
      "metadata": {
        "colab": {
          "base_uri": "https://localhost:8080/"
        },
        "id": "NGibtP5AC1aV",
        "outputId": "9cf00557-bf8a-42c1-fa5c-3e183f96dbe4"
      },
      "execution_count": 31,
      "outputs": [
        {
          "output_type": "stream",
          "name": "stdout",
          "text": [
            "+------------------+--------------------------------------+\n",
            "|Columna 1 Big Data|Columna 2 Big Data                    |\n",
            "+------------------+--------------------------------------+\n",
            "|Spark             |Explora Python es un lenguaje versátil|\n",
            "|Spark             |Explora Python es un lenguaje versátil|\n",
            "|Spark             |Explora Python es un lenguaje versátil|\n",
            "|Spark             |Explora Python es un lenguaje versátil|\n",
            "|Spark             |Explora Python es un lenguaje versátil|\n",
            "|Spark             |Explora Python es un lenguaje versátil|\n",
            "|Spark             |Explora Python es un lenguaje versátil|\n",
            "|Spark             |Explora Python es un lenguaje versátil|\n",
            "|Spark             |Explora Python es un lenguaje versátil|\n",
            "+------------------+--------------------------------------+\n",
            "\n"
          ]
        }
      ]
    }
  ]
}
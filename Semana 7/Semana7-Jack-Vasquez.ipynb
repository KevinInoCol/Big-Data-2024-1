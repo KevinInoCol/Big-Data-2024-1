{
  "nbformat": 4,
  "nbformat_minor": 0,
  "metadata": {
    "colab": {
      "provenance": []
    },
    "kernelspec": {
      "name": "python3",
      "display_name": "Python 3"
    },
    "language_info": {
      "name": "python"
    }
  },
  "cells": [
    {
      "cell_type": "code",
      "execution_count": 1,
      "metadata": {
        "id": "fCRCY6b-Smgd"
      },
      "outputs": [],
      "source": [
        "# Instalar SDK Java 8\n",
        "!apt-get install openjdk-8-jdk-headless -qq > /dev/null"
      ]
    },
    {
      "cell_type": "code",
      "source": [
        "# Descargar Spark 3.4.3\n",
        "!wget -q -P . https://archive.apache.org/dist/spark/spark-3.4.3/spark-3.4.3-bin-hadoop3.tgz"
      ],
      "metadata": {
        "id": "CLyhgHD7YOgC"
      },
      "execution_count": 2,
      "outputs": []
    },
    {
      "cell_type": "code",
      "source": [
        "# Descomprimir el archivo descargado de Spark\n",
        "!tar xf spark-3.4.3-bin-hadoop3.tgz"
      ],
      "metadata": {
        "id": "LbW6GW_6Ycao"
      },
      "execution_count": 3,
      "outputs": []
    },
    {
      "cell_type": "code",
      "source": [
        "# Establecemos las variables de entorno\n",
        "import os\n",
        "\n",
        "os.environ[\"JAVA_HOME\"] = \"/usr/lib/jvm/java-8-openjdk-amd64\"\n",
        "os.environ[\"SPARK_HOME\"] = \"/content/spark-3.4.3-bin-hadoop3\""
      ],
      "metadata": {
        "id": "pTDvdNLjYmL5"
      },
      "execution_count": 4,
      "outputs": []
    },
    {
      "cell_type": "code",
      "source": [
        "# Instalamos la librería findspark para facilitar el uso de Apache Spark en un entorno interactivo como Jupyter notebooks o shells interactivos de Python.\n",
        "!pip install -q findspark"
      ],
      "metadata": {
        "id": "qvw7KLcIYq1J"
      },
      "execution_count": 5,
      "outputs": []
    },
    {
      "cell_type": "code",
      "source": [
        "# Instalar pyspark\n",
        "!pip install -q pyspark"
      ],
      "metadata": {
        "colab": {
          "base_uri": "https://localhost:8080/"
        },
        "id": "oowrvpMeYvNJ",
        "outputId": "5ac991c5-6378-48e6-a884-becae7575097"
      },
      "execution_count": 6,
      "outputs": [
        {
          "output_type": "stream",
          "name": "stdout",
          "text": [
            "\u001b[2K     \u001b[90m━━━━━━━━━━━━━━━━━━━━━━━━━━━━━━━━━━━━━━━━\u001b[0m \u001b[32m317.0/317.0 MB\u001b[0m \u001b[31m2.4 MB/s\u001b[0m eta \u001b[36m0:00:00\u001b[0m\n",
            "\u001b[?25h  Preparing metadata (setup.py) ... \u001b[?25l\u001b[?25hdone\n",
            "  Building wheel for pyspark (setup.py) ... \u001b[?25l\u001b[?25hdone\n"
          ]
        }
      ]
    },
    {
      "cell_type": "code",
      "source": [
        "import findspark #JUPYTER\n",
        "\n",
        "findspark.init() #INICIALIZA SPARK CON LAS VARIABLESDE ENTORNO CONFIGURADAS\n",
        "\n",
        "from pyspark.sql import SparkSession\n",
        "\n",
        "#Objeto = Clase.funciones()\n",
        "spark = SparkSession.builder.getOrCreate()\n",
        "\n",
        "spark"
      ],
      "metadata": {
        "colab": {
          "base_uri": "https://localhost:8080/",
          "height": 219
        },
        "id": "8_KZLDrrY62B",
        "outputId": "4e216c40-23f8-4d71-ff97-47c73e9056e5"
      },
      "execution_count": 7,
      "outputs": [
        {
          "output_type": "execute_result",
          "data": {
            "text/plain": [
              "<pyspark.sql.session.SparkSession at 0x7cb6c0055090>"
            ],
            "text/html": [
              "\n",
              "            <div>\n",
              "                <p><b>SparkSession - in-memory</b></p>\n",
              "                \n",
              "        <div>\n",
              "            <p><b>SparkContext</b></p>\n",
              "\n",
              "            <p><a href=\"http://4a82aadb77c0:4040\">Spark UI</a></p>\n",
              "\n",
              "            <dl>\n",
              "              <dt>Version</dt>\n",
              "                <dd><code>v3.4.3</code></dd>\n",
              "              <dt>Master</dt>\n",
              "                <dd><code>local[*]</code></dd>\n",
              "              <dt>AppName</dt>\n",
              "                <dd><code>pyspark-shell</code></dd>\n",
              "            </dl>\n",
              "        </div>\n",
              "        \n",
              "            </div>\n",
              "        "
            ]
          },
          "metadata": {},
          "execution_count": 7
        }
      ]
    },
    {
      "cell_type": "markdown",
      "source": [
        "PRIMER TRABAJO"
      ],
      "metadata": {
        "id": "CJqwRmlsoacZ"
      }
    },
    {
      "cell_type": "code",
      "source": [
        "# Probando la sesión de Spark\n",
        "#dataframe = Objeto.funcionHeredada\n",
        "data = [{'Columna 1 Big Data': 'Spark', 'Columna 2 Big Data': 'Python'} for _ in range(10)]\n",
        "df = spark.createDataFrame(data)\n",
        "df.show()"
      ],
      "metadata": {
        "colab": {
          "base_uri": "https://localhost:8080/"
        },
        "id": "9mg-17PonHwJ",
        "outputId": "dda47ace-4e90-4422-d2be-755baf5547b5"
      },
      "execution_count": 10,
      "outputs": [
        {
          "output_type": "stream",
          "name": "stdout",
          "text": [
            "+------------------+------------------+\n",
            "|Columna 1 Big Data|Columna 2 Big Data|\n",
            "+------------------+------------------+\n",
            "|             Spark|            Python|\n",
            "|             Spark|            Python|\n",
            "|             Spark|            Python|\n",
            "|             Spark|            Python|\n",
            "|             Spark|            Python|\n",
            "|             Spark|            Python|\n",
            "|             Spark|            Python|\n",
            "|             Spark|            Python|\n",
            "|             Spark|            Python|\n",
            "|             Spark|            Python|\n",
            "+------------------+------------------+\n",
            "\n"
          ]
        }
      ]
    },
    {
      "cell_type": "markdown",
      "source": [
        "SEGUNDO TRABAJO"
      ],
      "metadata": {
        "id": "JYqaojEZoea5"
      }
    },
    {
      "cell_type": "code",
      "source": [
        "#Columna 2 Big data: \"Python\"\n",
        "#Columna 2 Big data: \"Explora Python es un lenguaje versátil\"\n",
        "data = [{'Columna 1 Big Data': 'Spark', 'Columna 2 Big Data': 'Explora Python es un lenguaje versátil'} for _ in range(10)]\n",
        "df = spark.createDataFrame(data)\n",
        "spark.conf.set(\"spark.sql.repl.eagerEval.enabled\",True)\n",
        "df.show(truncate=False)"
      ],
      "metadata": {
        "colab": {
          "base_uri": "https://localhost:8080/"
        },
        "id": "Erb5EIZEoGgZ",
        "outputId": "a95c574d-aeed-4b17-f3be-8270febd06a3"
      },
      "execution_count": 13,
      "outputs": [
        {
          "output_type": "stream",
          "name": "stdout",
          "text": [
            "+------------------+--------------------------------------+\n",
            "|Columna 1 Big Data|Columna 2 Big Data                    |\n",
            "+------------------+--------------------------------------+\n",
            "|Spark             |Explora Python es un lenguaje versátil|\n",
            "|Spark             |Explora Python es un lenguaje versátil|\n",
            "|Spark             |Explora Python es un lenguaje versátil|\n",
            "|Spark             |Explora Python es un lenguaje versátil|\n",
            "|Spark             |Explora Python es un lenguaje versátil|\n",
            "|Spark             |Explora Python es un lenguaje versátil|\n",
            "|Spark             |Explora Python es un lenguaje versátil|\n",
            "|Spark             |Explora Python es un lenguaje versátil|\n",
            "|Spark             |Explora Python es un lenguaje versátil|\n",
            "|Spark             |Explora Python es un lenguaje versátil|\n",
            "+------------------+--------------------------------------+\n",
            "\n"
          ]
        }
      ]
    },
    {
      "cell_type": "markdown",
      "source": [
        "#**HACER EL PULL REQUEST**"
      ],
      "metadata": {
        "id": "Pwbj4jk1q1YJ"
      }
    }
  ]
}
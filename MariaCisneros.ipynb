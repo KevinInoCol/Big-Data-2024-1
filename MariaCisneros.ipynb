{
  "nbformat": 4,
  "nbformat_minor": 0,
  "metadata": {
    "colab": {
      "provenance": []
    },
    "kernelspec": {
      "name": "python3",
      "display_name": "Python 3"
    },
    "language_info": {
      "name": "python"
    }
  },
  "cells": [
    {
      "cell_type": "code",
      "execution_count": null,
      "metadata": {
        "id": "LSPDdNIwLdaf"
      },
      "outputs": [],
      "source": [
        "# Instalar SDK Java 8\n",
        "!apt-get install openjdk-8-jdk-headless -qq > /dev/null"
      ]
    },
    {
      "cell_type": "code",
      "source": [
        "# Descargar Spark 3.4.3\n",
        "!wget -q -P . https://archive.apache.org/dist/spark/spark-3.4.3/spark-3.4.3-bin-hadoop3.tgz"
      ],
      "metadata": {
        "id": "ikiJhN9YL61K"
      },
      "execution_count": null,
      "outputs": []
    },
    {
      "cell_type": "code",
      "source": [
        "# Descomprimir el archivo descargado de Spark\n",
        "!tar xf spark-3.4.3-bin-hadoop3.tgz"
      ],
      "metadata": {
        "id": "dck4liTDMXYB"
      },
      "execution_count": null,
      "outputs": []
    },
    {
      "cell_type": "code",
      "source": [
        "# Establecemos las variables de entorno\n",
        "import os\n",
        "\n",
        "os.environ[\"JAVA_HOME\"] = \"/usr/lib/jvm/java-8-openjdk-amd64\"\n",
        "os.environ[\"SPARK_HOME\"] = \"/content/spark-3.4.3-bin-hadoop3\""
      ],
      "metadata": {
        "id": "5zedvhaoMoJI"
      },
      "execution_count": null,
      "outputs": []
    },
    {
      "cell_type": "code",
      "source": [
        "# Instalamos la librería findspark para facilitar el uso de Apache Spark en un entorno interactivo como Jupyter notebooks o shells interactivos de Python.\n",
        "!pip install -q findspark"
      ],
      "metadata": {
        "id": "_LHgMOQcM9YA"
      },
      "execution_count": null,
      "outputs": []
    },
    {
      "cell_type": "code",
      "source": [
        "# Instalar pyspark\n",
        "!pip install -q pyspark"
      ],
      "metadata": {
        "id": "gKKD1vtoNId5"
      },
      "execution_count": null,
      "outputs": []
    },
    {
      "cell_type": "code",
      "source": [
        "import findspark #Jupiter\n",
        "\n",
        "findspark.init() #inicializa spark con las variables de entorno\n",
        "\n",
        "from pyspark.sql import SparkSession\n",
        "\n",
        "#Objeto = Clase.funciones\n",
        "spark = SparkSession.builder.getOrCreate()\n",
        "\n",
        "spark"
      ],
      "metadata": {
        "colab": {
          "base_uri": "https://localhost:8080/",
          "height": 219
        },
        "id": "JU3HEvXINXCI",
        "outputId": "203c7b2c-8b8d-48ef-da81-7877b746331a"
      },
      "execution_count": null,
      "outputs": [
        {
          "output_type": "execute_result",
          "data": {
            "text/plain": [
              "<pyspark.sql.session.SparkSession at 0x79e43839f910>"
            ],
            "text/html": [
              "\n",
              "            <div>\n",
              "                <p><b>SparkSession - in-memory</b></p>\n",
              "                \n",
              "        <div>\n",
              "            <p><b>SparkContext</b></p>\n",
              "\n",
              "            <p><a href=\"http://f142e8e1c457:4040\">Spark UI</a></p>\n",
              "\n",
              "            <dl>\n",
              "              <dt>Version</dt>\n",
              "                <dd><code>v3.4.3</code></dd>\n",
              "              <dt>Master</dt>\n",
              "                <dd><code>local[*]</code></dd>\n",
              "              <dt>AppName</dt>\n",
              "                <dd><code>pyspark-shell</code></dd>\n",
              "            </dl>\n",
              "        </div>\n",
              "        \n",
              "            </div>\n",
              "        "
            ]
          },
          "metadata": {},
          "execution_count": 66
        }
      ]
    },
    {
      "cell_type": "code",
      "source": [
        "curse =[('Spark','Python') for i in range(10)]\n",
        "df = spark.createDataFrame(curse, ['Columna 1 Big Data' , 'Columna 2 Big Data'])\n",
        "\n",
        "df.show()"
      ],
      "metadata": {
        "colab": {
          "base_uri": "https://localhost:8080/"
        },
        "id": "uFzn_R7ooDpa",
        "outputId": "70710fc2-3fd8-4115-96b4-5e911d44da6f"
      },
      "execution_count": null,
      "outputs": [
        {
          "output_type": "stream",
          "name": "stdout",
          "text": [
            "+------------------+------------------+\n",
            "|Columna 1 Big Data|Columna 2 Big Data|\n",
            "+------------------+------------------+\n",
            "|             Spark|            Python|\n",
            "|             Spark|            Python|\n",
            "|             Spark|            Python|\n",
            "|             Spark|            Python|\n",
            "|             Spark|            Python|\n",
            "|             Spark|            Python|\n",
            "|             Spark|            Python|\n",
            "|             Spark|            Python|\n",
            "|             Spark|            Python|\n",
            "|             Spark|            Python|\n",
            "+------------------+------------------+\n",
            "\n"
          ]
        }
      ]
    },
    {
      "cell_type": "code",
      "source": [
        "curse = [('Spark', 'Explora Python es un lenguaje versatil') for i in range(10)]\n",
        "df = spark.createDataFrame(curse ,['Columna 1 Big Data' , 'Columna 2 Big Data'])\n",
        "\n",
        "df.show(truncate=False)"
      ],
      "metadata": {
        "colab": {
          "base_uri": "https://localhost:8080/"
        },
        "id": "8Epag_oXqbkP",
        "outputId": "7e30d672-f495-47f6-97b1-d52295980630"
      },
      "execution_count": null,
      "outputs": [
        {
          "output_type": "stream",
          "name": "stdout",
          "text": [
            "+------------------+--------------------------------------+\n",
            "|Columna 1 Big Data|Columna 2 Big Data                    |\n",
            "+------------------+--------------------------------------+\n",
            "|Spark             |Explora Python es un lenguaje versatil|\n",
            "|Spark             |Explora Python es un lenguaje versatil|\n",
            "|Spark             |Explora Python es un lenguaje versatil|\n",
            "|Spark             |Explora Python es un lenguaje versatil|\n",
            "|Spark             |Explora Python es un lenguaje versatil|\n",
            "|Spark             |Explora Python es un lenguaje versatil|\n",
            "|Spark             |Explora Python es un lenguaje versatil|\n",
            "|Spark             |Explora Python es un lenguaje versatil|\n",
            "|Spark             |Explora Python es un lenguaje versatil|\n",
            "|Spark             |Explora Python es un lenguaje versatil|\n",
            "+------------------+--------------------------------------+\n",
            "\n"
          ]
        }
      ]
    }
  ]
}
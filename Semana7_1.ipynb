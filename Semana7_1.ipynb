{
  "nbformat": 4,
  "nbformat_minor": 0,
  "metadata": {
    "colab": {
      "provenance": [],
      "authorship_tag": "ABX9TyPkDQbHVCf3J1ZIVO7e0ZsX",
      "include_colab_link": true
    },
    "kernelspec": {
      "name": "python3",
      "display_name": "Python 3"
    },
    "language_info": {
      "name": "python"
    }
  },
  "cells": [
    {
      "cell_type": "markdown",
      "metadata": {
        "id": "view-in-github",
        "colab_type": "text"
      },
      "source": [
        "<a href=\"https://colab.research.google.com/github/JoseTA007/Big-Data-2024-1/blob/main/Semana7_1.ipynb\" target=\"_parent\"><img src=\"https://colab.research.google.com/assets/colab-badge.svg\" alt=\"Open In Colab\"/></a>"
      ]
    },
    {
      "cell_type": "code",
      "execution_count": 2,
      "metadata": {
        "id": "muoAQTx_Ecb1"
      },
      "outputs": [],
      "source": [
        "# Instalar SDK Java 8\n",
        "!apt-get install openjdk-8-jdk-headless -qq > /dev/null"
      ]
    },
    {
      "cell_type": "code",
      "source": [
        "# Descargar Spark 3.4.3\n",
        "!wget -q -P . https://archive.apache.org/dist/spark/spark-3.4.3/spark-3.4.3-bin-hadoop3.tgz"
      ],
      "metadata": {
        "id": "t5pOmNwPFO2s"
      },
      "execution_count": 3,
      "outputs": []
    },
    {
      "cell_type": "code",
      "source": [
        "# Descomprimir el archivo descargado de Spark\n",
        "!tar xf spark-3.4.3-bin-hadoop3.tgz"
      ],
      "metadata": {
        "id": "pmuQRql2FaT-"
      },
      "execution_count": 4,
      "outputs": []
    },
    {
      "cell_type": "code",
      "source": [
        "# Establecemos las variables de entorno\n",
        "import os\n",
        "\n",
        "os.environ[\"JAVA_HOME\"] = \"/usr/lib/jvm/java-8-openjdk-amd64\"\n",
        "os.environ[\"SPARK_HOME\"] = \"/content/spark-3.4.3-bin-hadoop3\""
      ],
      "metadata": {
        "id": "TFYwtSLdFvcN"
      },
      "execution_count": 5,
      "outputs": []
    },
    {
      "cell_type": "code",
      "source": [
        "# Instalamos la librería findspark para facilitar el uso de Apache Spark en un entorno interactivo como Jupyter notebooks o shells interactivos de Python.\n",
        "!pip install -q findspark"
      ],
      "metadata": {
        "id": "TOBxYZeoF6A_"
      },
      "execution_count": 6,
      "outputs": []
    },
    {
      "cell_type": "code",
      "source": [
        "# Instalar pyspark\n",
        "!pip install -q pyspark"
      ],
      "metadata": {
        "colab": {
          "base_uri": "https://localhost:8080/"
        },
        "id": "ueMKy5rKGHpm",
        "outputId": "3e1e771b-f5cf-4f6b-a6c9-b0f8bbe126de"
      },
      "execution_count": 7,
      "outputs": [
        {
          "output_type": "stream",
          "name": "stdout",
          "text": [
            "\u001b[2K     \u001b[90m━━━━━━━━━━━━━━━━━━━━━━━━━━━━━━━━━━━━━━━━\u001b[0m \u001b[32m317.0/317.0 MB\u001b[0m \u001b[31m4.0 MB/s\u001b[0m eta \u001b[36m0:00:00\u001b[0m\n",
            "\u001b[?25h  Preparing metadata (setup.py) ... \u001b[?25l\u001b[?25hdone\n",
            "  Building wheel for pyspark (setup.py) ... \u001b[?25l\u001b[?25hdone\n"
          ]
        }
      ]
    },
    {
      "cell_type": "code",
      "source": [
        "import findspark #Jupiter\n",
        "\n",
        "findspark.init() #Inicializa Spark con las variables de entorno configuradas\n",
        "\n",
        "from pyspark.sql import SparkSession\n",
        "\n",
        "#Objero = Clase.funciones() - el objeto hereda\n",
        "spark = SparkSession.builder.getOrCreate()\n",
        "\n",
        "spark"
      ],
      "metadata": {
        "colab": {
          "base_uri": "https://localhost:8080/",
          "height": 219
        },
        "id": "8qpRaWG8Gj8y",
        "outputId": "c2676b33-39d7-4b98-a420-f5d43fd281ff"
      },
      "execution_count": 9,
      "outputs": [
        {
          "output_type": "execute_result",
          "data": {
            "text/plain": [
              "<pyspark.sql.session.SparkSession at 0x7dac837169b0>"
            ],
            "text/html": [
              "\n",
              "            <div>\n",
              "                <p><b>SparkSession - in-memory</b></p>\n",
              "                \n",
              "        <div>\n",
              "            <p><b>SparkContext</b></p>\n",
              "\n",
              "            <p><a href=\"http://ffeca1a47b86:4040\">Spark UI</a></p>\n",
              "\n",
              "            <dl>\n",
              "              <dt>Version</dt>\n",
              "                <dd><code>v3.4.3</code></dd>\n",
              "              <dt>Master</dt>\n",
              "                <dd><code>local[*]</code></dd>\n",
              "              <dt>AppName</dt>\n",
              "                <dd><code>pyspark-shell</code></dd>\n",
              "            </dl>\n",
              "        </div>\n",
              "        \n",
              "            </div>\n",
              "        "
            ]
          },
          "metadata": {},
          "execution_count": 9
        }
      ]
    },
    {
      "cell_type": "code",
      "source": [
        "# Probando la sesión de Spark\n",
        "# dataframe = Objero.funcionHeredada\n",
        "df = spark.createDataFrame([(\"Spark\", \"Python\") for  _ in  range(10)])\n",
        "columnas = [\"Columna 1 Big Data\", \"Columna 2 Big Data\"]\n",
        "\n",
        "\n",
        "# Verificar el nuevo DataFrame\n",
        "df.show()"
      ],
      "metadata": {
        "colab": {
          "base_uri": "https://localhost:8080/"
        },
        "id": "QcSm2FpWVlqr",
        "outputId": "88f53e76-4618-453b-83f3-66b7661ea31e"
      },
      "execution_count": 21,
      "outputs": [
        {
          "output_type": "stream",
          "name": "stdout",
          "text": [
            "+-----+------+\n",
            "|   _1|    _2|\n",
            "+-----+------+\n",
            "|Spark|Python|\n",
            "|Spark|Python|\n",
            "|Spark|Python|\n",
            "|Spark|Python|\n",
            "|Spark|Python|\n",
            "|Spark|Python|\n",
            "|Spark|Python|\n",
            "|Spark|Python|\n",
            "|Spark|Python|\n",
            "|Spark|Python|\n",
            "+-----+------+\n",
            "\n"
          ]
        }
      ]
    },
    {
      "cell_type": "code",
      "source": [
        "# Probando la sesión de Spark\n",
        "# dataframe = Objero.funcionHeredada\n",
        "df = spark.createDataFrame([(\"Spark\", \"Python\") for  _ in  range(10)])\n",
        "columnas = [\"Columna 1 Big Data\", \"Columna 2 Big Data\"]\n",
        "\n",
        "# Renombrar las columnas del DataFrame original\n",
        "for i in range(len(columnas)):\n",
        "    df = df.withColumnRenamed(\"_\" + str(i+1), columnas[i])\n",
        "\n",
        "# Verificar el nuevo DataFrame\n",
        "df.show()"
      ],
      "metadata": {
        "colab": {
          "base_uri": "https://localhost:8080/"
        },
        "id": "P_UuCKPtNGLH",
        "outputId": "8174fc08-ebc0-4501-a33b-876257552080"
      },
      "execution_count": 15,
      "outputs": [
        {
          "output_type": "stream",
          "name": "stdout",
          "text": [
            "+------------------+------------------+\n",
            "|Columna 1 Big Data|Columna 2 Big Data|\n",
            "+------------------+------------------+\n",
            "|             Spark|            Python|\n",
            "|             Spark|            Python|\n",
            "|             Spark|            Python|\n",
            "|             Spark|            Python|\n",
            "|             Spark|            Python|\n",
            "|             Spark|            Python|\n",
            "|             Spark|            Python|\n",
            "|             Spark|            Python|\n",
            "|             Spark|            Python|\n",
            "|             Spark|            Python|\n",
            "+------------------+------------------+\n",
            "\n"
          ]
        }
      ]
    },
    {
      "cell_type": "code",
      "source": [
        "# Probando la sesión de Spark\n",
        "# dataframe = Objero.funcionHeredada\n",
        "df = spark.createDataFrame([(\"Spark\", \"Explora Python es un lenguaje versatil\") for  _ in  range(10)])\n",
        "columnas = [\"Columna 1 Big Data\", \"Columna 2 Big Data\"]\n",
        "\n",
        "# Renombrar las columnas del DataFrame original\n",
        "for i in range(len(columnas)):\n",
        "    df = df.withColumnRenamed(\"_\" + str(i+1), columnas[i])\n",
        "\n",
        "# Verificar el nuevo DataFrame\n",
        "df.show()"
      ],
      "metadata": {
        "colab": {
          "base_uri": "https://localhost:8080/"
        },
        "id": "HuC-Y9rbTOtY",
        "outputId": "9c66a6d7-eef4-4b11-8581-eead0d33ff1e"
      },
      "execution_count": 16,
      "outputs": [
        {
          "output_type": "stream",
          "name": "stdout",
          "text": [
            "+------------------+--------------------+\n",
            "|Columna 1 Big Data|  Columna 2 Big Data|\n",
            "+------------------+--------------------+\n",
            "|             Spark|Explora Python es...|\n",
            "|             Spark|Explora Python es...|\n",
            "|             Spark|Explora Python es...|\n",
            "|             Spark|Explora Python es...|\n",
            "|             Spark|Explora Python es...|\n",
            "|             Spark|Explora Python es...|\n",
            "|             Spark|Explora Python es...|\n",
            "|             Spark|Explora Python es...|\n",
            "|             Spark|Explora Python es...|\n",
            "|             Spark|Explora Python es...|\n",
            "+------------------+--------------------+\n",
            "\n"
          ]
        }
      ]
    },
    {
      "cell_type": "code",
      "source": [
        "# Probando la sesión de Spark\n",
        "# dataframe = Objero.funcionHeredada\n",
        "df = spark.createDataFrame([(\"Spark\", \"Explora Python es un lenguaje versatil\") for  _ in  range(10)])\n",
        "columnas = [\"Columna 1 Big Data\", \"Columna 2 Big Data\"]\n",
        "\n",
        "# Renombrar las columnas del DataFrame original\n",
        "for i in range(len(columnas)):\n",
        "    df = df.withColumnRenamed(\"_\" + str(i+1), columnas[i])\n",
        "\n",
        "# Ajustar la configuración para mostrar el contenido completo de las columnas largas\n",
        "from pyspark.sql.functions import col, length\n",
        "\n",
        "longitud_maxima = df.select(length(col(\"Columna 2 Big Data\")).alias(\"length\")).agg({\"length\": \"max\"}).collect()[0][0]\n",
        "\n",
        "spark.conf.set(\"spark.sql.repl.eagerEval.enabled\", True)\n",
        "spark.conf.set(\"spark.sql.repl.eagerEval.truncate\", 0)  # Establecer el truncado en 0 para desactivarlo\n",
        "\n",
        "# Verificar el nuevo DataFrame con contenido completo de las columnas largas\n",
        "df.show(truncate=False)\n"
      ],
      "metadata": {
        "colab": {
          "base_uri": "https://localhost:8080/"
        },
        "id": "iiLABhbtUrEk",
        "outputId": "0366f35f-553e-4724-8da6-ed4d7741b6ed"
      },
      "execution_count": 19,
      "outputs": [
        {
          "output_type": "stream",
          "name": "stdout",
          "text": [
            "+------------------+--------------------------------------+\n",
            "|Columna 1 Big Data|Columna 2 Big Data                    |\n",
            "+------------------+--------------------------------------+\n",
            "|Spark             |Explora Python es un lenguaje versatil|\n",
            "|Spark             |Explora Python es un lenguaje versatil|\n",
            "|Spark             |Explora Python es un lenguaje versatil|\n",
            "|Spark             |Explora Python es un lenguaje versatil|\n",
            "|Spark             |Explora Python es un lenguaje versatil|\n",
            "|Spark             |Explora Python es un lenguaje versatil|\n",
            "|Spark             |Explora Python es un lenguaje versatil|\n",
            "|Spark             |Explora Python es un lenguaje versatil|\n",
            "|Spark             |Explora Python es un lenguaje versatil|\n",
            "|Spark             |Explora Python es un lenguaje versatil|\n",
            "+------------------+--------------------------------------+\n",
            "\n"
          ]
        }
      ]
    },
    {
      "cell_type": "code",
      "source": [
        "# Probando la sesión de Spark\n",
        "# dataframe = Objero.funcionHeredada\n",
        "columnas = [\"Columna 1 Big Data\", \"Columna 2 Big Data\"]\n",
        "df = spark.createDataFrame(\n",
        "    [(\"Spark\", \"Explora Python es un lenguaje versatil\") for _ in range(10)],\n",
        "    schema=columnas\n",
        ")\n",
        "\n",
        "# Verificar el nuevo DataFrame\n",
        "df.show()\n"
      ],
      "metadata": {
        "colab": {
          "base_uri": "https://localhost:8080/"
        },
        "id": "tQXUCtY_Wk9C",
        "outputId": "10882dab-981c-44b0-8063-1cda24d422b9"
      },
      "execution_count": 24,
      "outputs": [
        {
          "output_type": "stream",
          "name": "stdout",
          "text": [
            "+------------------+--------------------+\n",
            "|Columna 1 Big Data|  Columna 2 Big Data|\n",
            "+------------------+--------------------+\n",
            "|             Spark|Explora Python es...|\n",
            "|             Spark|Explora Python es...|\n",
            "|             Spark|Explora Python es...|\n",
            "|             Spark|Explora Python es...|\n",
            "|             Spark|Explora Python es...|\n",
            "|             Spark|Explora Python es...|\n",
            "|             Spark|Explora Python es...|\n",
            "|             Spark|Explora Python es...|\n",
            "|             Spark|Explora Python es...|\n",
            "|             Spark|Explora Python es...|\n",
            "+------------------+--------------------+\n",
            "\n"
          ]
        }
      ]
    },
    {
      "cell_type": "code",
      "source": [
        "# Probando la sesión de Spark\n",
        "# dataframe = Objero.funcionHeredada\n",
        "columnas = [\"Columna 1 Big Data\", \"Columna 2 Big Data\"]\n",
        "df = spark.createDataFrame(\n",
        "    [(\"Spark\", \"Explora Python es un lenguaje versatil\") for _ in range(10)],\n",
        "    schema=columnas\n",
        ")\n",
        "\n",
        "# Verificar el nuevo DataFrame sin truncar el contenido de las columnas\n",
        "df.show(truncate=False)\n"
      ],
      "metadata": {
        "colab": {
          "base_uri": "https://localhost:8080/"
        },
        "id": "DP4GRgQEXezE",
        "outputId": "7546bbf7-8bc0-4f0e-97d4-ceb232e39b61"
      },
      "execution_count": 25,
      "outputs": [
        {
          "output_type": "stream",
          "name": "stdout",
          "text": [
            "+------------------+--------------------------------------+\n",
            "|Columna 1 Big Data|Columna 2 Big Data                    |\n",
            "+------------------+--------------------------------------+\n",
            "|Spark             |Explora Python es un lenguaje versatil|\n",
            "|Spark             |Explora Python es un lenguaje versatil|\n",
            "|Spark             |Explora Python es un lenguaje versatil|\n",
            "|Spark             |Explora Python es un lenguaje versatil|\n",
            "|Spark             |Explora Python es un lenguaje versatil|\n",
            "|Spark             |Explora Python es un lenguaje versatil|\n",
            "|Spark             |Explora Python es un lenguaje versatil|\n",
            "|Spark             |Explora Python es un lenguaje versatil|\n",
            "|Spark             |Explora Python es un lenguaje versatil|\n",
            "|Spark             |Explora Python es un lenguaje versatil|\n",
            "+------------------+--------------------------------------+\n",
            "\n"
          ]
        }
      ]
    }
  ]
}
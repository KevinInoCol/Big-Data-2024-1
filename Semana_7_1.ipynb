{
  "nbformat": 4,
  "nbformat_minor": 0,
  "metadata": {
    "colab": {
      "provenance": [],
      "authorship_tag": "ABX9TyOpoaWBgILcK8VW4FCdBzt3",
      "include_colab_link": true
    },
    "kernelspec": {
      "name": "python3",
      "display_name": "Python 3"
    },
    "language_info": {
      "name": "python"
    }
  },
  "cells": [
    {
      "cell_type": "markdown",
      "metadata": {
        "id": "view-in-github",
        "colab_type": "text"
      },
      "source": [
        "<a href=\"https://colab.research.google.com/github/MiriamBriones/Big-Data-2024-1/blob/semana7-miriam-briones/Semana_7_1.ipynb\" target=\"_parent\"><img src=\"https://colab.research.google.com/assets/colab-badge.svg\" alt=\"Open In Colab\"/></a>"
      ]
    },
    {
      "cell_type": "code",
      "execution_count": null,
      "metadata": {
        "id": "ig3WOF_PjcXM"
      },
      "outputs": [],
      "source": [
        "# Instalar SDK Java 8\n",
        "!apt-get install openjdk-8-jdk-headless -qq > /dev/null"
      ]
    },
    {
      "cell_type": "code",
      "source": [
        "# Descargar Spark 3.4.3 en un archivo Comprimido\n",
        "!wget -q -P . https://archive.apache.org/dist/spark/spark-3.4.3/spark-3.4.3-bin-hadoop3.tgz"
      ],
      "metadata": {
        "id": "yjanM20UvwH9"
      },
      "execution_count": null,
      "outputs": []
    },
    {
      "cell_type": "code",
      "source": [
        "# Descomprimir el archivo descargado de Spark\n",
        "!tar xf spark-3.4.3-bin-hadoop3.tgz"
      ],
      "metadata": {
        "id": "d4P58FqOwwcY"
      },
      "execution_count": null,
      "outputs": []
    },
    {
      "cell_type": "code",
      "source": [
        "# Establecemos las variables de entorno\n",
        "import os\n",
        "\n",
        "os.environ[\"JAVA_HOME\"] = \"/usr/lib/jvm/java-8-openjdk-amd64\"\n",
        "os.environ[\"SPARK_HOME\"] = \"/content/spark-3.4.3-bin-hadoop3\""
      ],
      "metadata": {
        "id": "W6ojR1Uzxbny"
      },
      "execution_count": null,
      "outputs": []
    },
    {
      "cell_type": "code",
      "source": [
        "# Instalamos la librería findspark para facilitar el uso de Apache Spark en un entorno interactivo como Jupyter notebooks o shells interactivos de Python.\n",
        "!pip install -q findspark"
      ],
      "metadata": {
        "id": "QwRXJmdvx8tm"
      },
      "execution_count": null,
      "outputs": []
    },
    {
      "cell_type": "code",
      "source": [
        "# Instalar pyspark\n",
        "!pip install -q pyspark"
      ],
      "metadata": {
        "colab": {
          "base_uri": "https://localhost:8080/"
        },
        "id": "KWggdMbBUpHI",
        "outputId": "727d92d1-a409-4fe4-cc1f-4015a1695847"
      },
      "execution_count": null,
      "outputs": [
        {
          "output_type": "stream",
          "name": "stdout",
          "text": [
            "\u001b[2K     \u001b[90m━━━━━━━━━━━━━━━━━━━━━━━━━━━━━━━━━━━━━━━━\u001b[0m \u001b[32m317.0/317.0 MB\u001b[0m \u001b[31m3.2 MB/s\u001b[0m eta \u001b[36m0:00:00\u001b[0m\n",
            "\u001b[?25h  Preparing metadata (setup.py) ... \u001b[?25l\u001b[?25hdone\n",
            "  Building wheel for pyspark (setup.py) ... \u001b[?25l\u001b[?25hdone\n"
          ]
        }
      ]
    },
    {
      "cell_type": "code",
      "source": [
        "import findspark #Jupyter\n",
        "\n",
        "findspark.init() #Inicializa Spark con las Variables de Entorno Configurados\n",
        "\n",
        "from pyspark.sql import SparkSession\n",
        "#Objeto = Clase.funciones()\n",
        "spark = SparkSession.builder.getOrCreate()\n",
        "\n",
        "spark"
      ],
      "metadata": {
        "colab": {
          "base_uri": "https://localhost:8080/",
          "height": 219
        },
        "id": "jh-pu7odCOd7",
        "outputId": "c67b522b-2fd5-459b-d9a7-c671d1d79cdb"
      },
      "execution_count": null,
      "outputs": [
        {
          "output_type": "execute_result",
          "data": {
            "text/plain": [
              "<pyspark.sql.session.SparkSession at 0x79322c0bf6a0>"
            ],
            "text/html": [
              "\n",
              "            <div>\n",
              "                <p><b>SparkSession - in-memory</b></p>\n",
              "                \n",
              "        <div>\n",
              "            <p><b>SparkContext</b></p>\n",
              "\n",
              "            <p><a href=\"http://6859bf420bd5:4040\">Spark UI</a></p>\n",
              "\n",
              "            <dl>\n",
              "              <dt>Version</dt>\n",
              "                <dd><code>v3.4.3</code></dd>\n",
              "              <dt>Master</dt>\n",
              "                <dd><code>local[*]</code></dd>\n",
              "              <dt>AppName</dt>\n",
              "                <dd><code>pyspark-shell</code></dd>\n",
              "            </dl>\n",
              "        </div>\n",
              "        \n",
              "            </div>\n",
              "        "
            ]
          },
          "metadata": {},
          "execution_count": 9
        }
      ]
    },
    {
      "cell_type": "code",
      "source": [
        "# Probando la sesión de Spark\n",
        "#dataframe =Objeto.funcionHeredada\n",
        "df = spark.createDataFrame([                               for x in          ])"
      ],
      "metadata": {
        "id": "8gRzrJJKKk6R"
      },
      "execution_count": null,
      "outputs": []
    },
    {
      "cell_type": "code",
      "source": [
        "# Importar SparkSession\n",
        "from pyspark.sql import SparkSession\n",
        "\n",
        "# Crear una instancia de SparkSession\n",
        "spark = SparkSession.builder \\\n",
        "    .appName(\"Ejemplo de Spark\") \\\n",
        "    .getOrCreate()\n",
        "\n",
        "# Crear DataFrame\n",
        "df = spark.createDataFrame([(\"python\", \"spark\") for _ in range(10)], [\"Columna 1 Big Data\", \"Columna 2 Big Data\"])\n",
        "\n",
        "# Mostrar el DataFrame\n",
        "df.show()\n"
      ],
      "metadata": {
        "colab": {
          "base_uri": "https://localhost:8080/"
        },
        "id": "fZyYk__pM-Wj",
        "outputId": "c4016b93-4f1d-4253-cc9f-aeee8688536e"
      },
      "execution_count": null,
      "outputs": [
        {
          "output_type": "stream",
          "name": "stdout",
          "text": [
            "+------------------+------------------+\n",
            "|Columna 1 Big Data|Columna 2 Big Data|\n",
            "+------------------+------------------+\n",
            "|            python|             spark|\n",
            "|            python|             spark|\n",
            "|            python|             spark|\n",
            "|            python|             spark|\n",
            "|            python|             spark|\n",
            "|            python|             spark|\n",
            "|            python|             spark|\n",
            "|            python|             spark|\n",
            "|            python|             spark|\n",
            "|            python|             spark|\n",
            "+------------------+------------------+\n",
            "\n"
          ]
        }
      ]
    },
    {
      "cell_type": "code",
      "source": [
        "# Importar SparkSession\n",
        "from pyspark.sql import SparkSession\n",
        "\n",
        "# Crear una instancia de SparkSession\n",
        "spark = SparkSession.builder \\\n",
        "    .appName(\"Ejemplo de Spark\") \\\n",
        "    .getOrCreate()\n",
        "\n",
        "# Crear DataFrame\n",
        "df = spark.createDataFrame([(\"python\", \"Explora Python es un Lenguaje versatil\") for _ in range(10)], [\"Columna 1 Big Data\", \"Columna 2 Big Data\"])\n",
        "\n",
        "# Mostrar el DataFrame sin truncar valores de las columnas\n",
        "df.show(truncate=False)\n"
      ],
      "metadata": {
        "colab": {
          "base_uri": "https://localhost:8080/"
        },
        "id": "mNpCuEY6Mwez",
        "outputId": "91f3bead-a41b-4e31-d0e9-c0ae82052f6d"
      },
      "execution_count": null,
      "outputs": [
        {
          "output_type": "stream",
          "name": "stdout",
          "text": [
            "+------------------+--------------------------------------+\n",
            "|Columna 1 Big Data|Columna 2 Big Data                    |\n",
            "+------------------+--------------------------------------+\n",
            "|python            |Explora Python es un Lenguaje versatil|\n",
            "|python            |Explora Python es un Lenguaje versatil|\n",
            "|python            |Explora Python es un Lenguaje versatil|\n",
            "|python            |Explora Python es un Lenguaje versatil|\n",
            "|python            |Explora Python es un Lenguaje versatil|\n",
            "|python            |Explora Python es un Lenguaje versatil|\n",
            "|python            |Explora Python es un Lenguaje versatil|\n",
            "|python            |Explora Python es un Lenguaje versatil|\n",
            "|python            |Explora Python es un Lenguaje versatil|\n",
            "|python            |Explora Python es un Lenguaje versatil|\n",
            "+------------------+--------------------------------------+\n",
            "\n"
          ]
        }
      ]
    }
  ]
}
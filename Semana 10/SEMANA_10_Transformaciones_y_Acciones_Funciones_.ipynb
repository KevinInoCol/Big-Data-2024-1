{
  "nbformat": 4,
  "nbformat_minor": 0,
  "metadata": {
    "colab": {
      "provenance": []
    },
    "kernelspec": {
      "name": "python3",
      "display_name": "Python 3"
    },
    "language_info": {
      "name": "python"
    }
  },
  "cells": [
    {
      "cell_type": "code",
      "execution_count": null,
      "metadata": {
        "colab": {
          "base_uri": "https://localhost:8080/"
        },
        "id": "3JnBRaMDBdwN",
        "outputId": "3e2e87ea-cd49-4227-f718-158c7b32b9c2"
      },
      "outputs": [
        {
          "output_type": "stream",
          "name": "stdout",
          "text": [
            "Collecting pyspark\n",
            "  Downloading pyspark-3.5.1.tar.gz (317.0 MB)\n",
            "\u001b[2K     \u001b[90m━━━━━━━━━━━━━━━━━━━━━━━━━━━━━━━━━━━━━━━━\u001b[0m \u001b[32m317.0/317.0 MB\u001b[0m \u001b[31m2.0 MB/s\u001b[0m eta \u001b[36m0:00:00\u001b[0m\n",
            "\u001b[?25h  Preparing metadata (setup.py) ... \u001b[?25l\u001b[?25hdone\n",
            "Requirement already satisfied: py4j in /usr/local/lib/python3.10/dist-packages (0.10.9.7)\n",
            "Building wheels for collected packages: pyspark\n",
            "  Building wheel for pyspark (setup.py) ... \u001b[?25l\u001b[?25hdone\n",
            "  Created wheel for pyspark: filename=pyspark-3.5.1-py2.py3-none-any.whl size=317488491 sha256=0cbd5c0a00b57a45067d9af3c198a050c0436f2e12e262c246b4578563b3d14d\n",
            "  Stored in directory: /root/.cache/pip/wheels/80/1d/60/2c256ed38dddce2fdd93be545214a63e02fbd8d74fb0b7f3a6\n",
            "Successfully built pyspark\n",
            "Installing collected packages: pyspark\n",
            "Successfully installed pyspark-3.5.1\n"
          ]
        }
      ],
      "source": [
        "# Instalamos pyspark y py4j\n",
        "!pip install pyspark py4j"
      ]
    },
    {
      "cell_type": "code",
      "source": [
        "from pyspark.sql import SparkSession\n",
        "\n",
        "Spark = SparkSession.builder.appName(\"lion\").getOrCreate()\n",
        "SparkContext = Spark.sparkContext"
      ],
      "metadata": {
        "id": "CwEwMcF2CGiI"
      },
      "execution_count": null,
      "outputs": []
    },
    {
      "cell_type": "markdown",
      "source": [
        "# **FUNCIÓN MAP**"
      ],
      "metadata": {
        "id": "AzK-fmIscizp"
      }
    },
    {
      "cell_type": "markdown",
      "source": [
        "**Función Map con Numeros**"
      ],
      "metadata": {
        "id": "LcoebYVSCcFE"
      }
    },
    {
      "cell_type": "code",
      "source": [
        "rdd = SparkContext.parallelize([1,2,3,4,5,6,7,8,9])\n",
        "\n",
        "rdd.collect()"
      ],
      "metadata": {
        "colab": {
          "base_uri": "https://localhost:8080/"
        },
        "id": "X-1xV_dVeR5U",
        "outputId": "70bf5832-bab6-42d5-fd03-576930d51ddc"
      },
      "execution_count": null,
      "outputs": [
        {
          "output_type": "execute_result",
          "data": {
            "text/plain": [
              "[1, 2, 3, 4, 5, 6, 7, 8, 9]"
            ]
          },
          "metadata": {},
          "execution_count": 51
        }
      ]
    },
    {
      "cell_type": "code",
      "source": [
        "rdd_resta = rdd.map(lambda x: x - 1)\n",
        "rdd_resta.collect()"
      ],
      "metadata": {
        "colab": {
          "base_uri": "https://localhost:8080/"
        },
        "id": "nvfGZrSPeTcT",
        "outputId": "78a62386-a614-4a5a-9d83-636979f37a2f"
      },
      "execution_count": null,
      "outputs": [
        {
          "output_type": "execute_result",
          "data": {
            "text/plain": [
              "[0, 1, 2, 3, 4, 5, 6, 7, 8]"
            ]
          },
          "metadata": {},
          "execution_count": 52
        }
      ]
    },
    {
      "cell_type": "code",
      "source": [
        "rdd_pares = rdd.map(lambda x: x % 2 == 0)\n",
        "rdd_pares.collect()"
      ],
      "metadata": {
        "colab": {
          "base_uri": "https://localhost:8080/"
        },
        "id": "bUdb6OAreXqS",
        "outputId": "52294d85-2ef8-4fd5-b276-efc89fd2a1ec"
      },
      "execution_count": null,
      "outputs": [
        {
          "output_type": "execute_result",
          "data": {
            "text/plain": [
              "[False, True, False, True, False, True, False, True, False]"
            ]
          },
          "metadata": {},
          "execution_count": 53
        }
      ]
    },
    {
      "cell_type": "markdown",
      "source": [
        "**Función Map con Texto**"
      ],
      "metadata": {
        "id": "yybcsjR0eZfx"
      }
    },
    {
      "cell_type": "code",
      "source": [
        "rdd_texto = SparkContext.parallelize(['kevin', 'jeanpier', 'tito'])"
      ],
      "metadata": {
        "id": "tFYE8GBBehUM"
      },
      "execution_count": null,
      "outputs": []
    },
    {
      "cell_type": "code",
      "source": [
        "rdd_mayuscula = rdd_texto.map(lambda x: x.upper())\n",
        "rdd_mayuscula.collect()"
      ],
      "metadata": {
        "colab": {
          "base_uri": "https://localhost:8080/"
        },
        "id": "kLgKf777eiOA",
        "outputId": "07d7add9-7973-4975-a114-7d4d6fec14b7"
      },
      "execution_count": null,
      "outputs": [
        {
          "output_type": "execute_result",
          "data": {
            "text/plain": [
              "['KEVIN', 'JEANPIER', 'TITO']"
            ]
          },
          "metadata": {},
          "execution_count": 55
        }
      ]
    },
    {
      "cell_type": "code",
      "source": [
        "rdd_hola = rdd_texto.map(lambda x: 'Hola ' + x)\n",
        "\n",
        "rdd_hola.collect()"
      ],
      "metadata": {
        "colab": {
          "base_uri": "https://localhost:8080/"
        },
        "id": "DLRcK6MUej3W",
        "outputId": "ab7a0e64-978b-4bd6-aff9-39f58633d778"
      },
      "execution_count": null,
      "outputs": [
        {
          "output_type": "execute_result",
          "data": {
            "text/plain": [
              "['Hola kevin', 'Hola jeanpier', 'Hola tito']"
            ]
          },
          "metadata": {},
          "execution_count": 56
        }
      ]
    },
    {
      "cell_type": "markdown",
      "source": [
        "# **FUNCIÓN FLATMAP**"
      ],
      "metadata": {
        "id": "FizlZ02Lc0Ez"
      }
    },
    {
      "cell_type": "code",
      "source": [
        "rdd_fm = SparkContext.parallelize([1,2,3,4,5,6,7,8,9])\n",
        "rdd_fm.collect()"
      ],
      "metadata": {
        "colab": {
          "base_uri": "https://localhost:8080/"
        },
        "id": "XKkBAogdCe3-",
        "outputId": "169599b3-8997-48a0-8f94-5a1cfb1e8587"
      },
      "execution_count": null,
      "outputs": [
        {
          "output_type": "execute_result",
          "data": {
            "text/plain": [
              "[1, 2, 3, 4, 5, 6, 7, 8, 9]"
            ]
          },
          "metadata": {},
          "execution_count": 57
        }
      ]
    },
    {
      "cell_type": "code",
      "source": [
        "rdd_al_cuadrado = rdd_fm.map(lambda x: (x, x ** 2))\n",
        "rdd_al_cuadrado.collect()"
      ],
      "metadata": {
        "colab": {
          "base_uri": "https://localhost:8080/"
        },
        "id": "BZE-O2y2DJDt",
        "outputId": "5ec943d0-1f49-4aeb-ff4c-ed29c03c660b"
      },
      "execution_count": null,
      "outputs": [
        {
          "output_type": "execute_result",
          "data": {
            "text/plain": [
              "[(1, 1), (2, 4), (3, 9), (4, 16), (5, 25), (6, 36), (7, 49), (8, 64), (9, 81)]"
            ]
          },
          "metadata": {},
          "execution_count": 58
        }
      ]
    },
    {
      "cell_type": "code",
      "source": [
        "rdd_al_cuadrado_flat = rdd_fm.flatMap(lambda x: (x, x ** 2))\n",
        "rdd_al_cuadrado_flat.collect()"
      ],
      "metadata": {
        "colab": {
          "base_uri": "https://localhost:8080/"
        },
        "id": "7gcN1sElDu4H",
        "outputId": "7c0a9115-6b6e-405b-9983-0242af559a90"
      },
      "execution_count": null,
      "outputs": [
        {
          "output_type": "execute_result",
          "data": {
            "text/plain": [
              "[1, 1, 2, 4, 3, 9, 4, 16, 5, 25, 6, 36, 7, 49, 8, 64, 9, 81]"
            ]
          },
          "metadata": {},
          "execution_count": 59
        }
      ]
    },
    {
      "cell_type": "code",
      "source": [
        "rdd_texto_1 = SparkContext.parallelize(['kevin','jeanpier','tito','yanelly','mayra','zol'])\n",
        "rdd_texto_1.collect()"
      ],
      "metadata": {
        "colab": {
          "base_uri": "https://localhost:8080/"
        },
        "id": "EhPrW8taEY8p",
        "outputId": "d6c8877d-9a2c-4a0b-d202-7b135416dfa6"
      },
      "execution_count": null,
      "outputs": [
        {
          "output_type": "execute_result",
          "data": {
            "text/plain": [
              "['kevin', 'jeanpier', 'tito', 'yanelly', 'mayra', 'zol']"
            ]
          },
          "metadata": {},
          "execution_count": 7
        }
      ]
    },
    {
      "cell_type": "code",
      "source": [
        "rdd_texto_mayuscula = rdd_texto_1.map(lambda x: (x.upper()))\n",
        "rdd_texto_mayuscula.collect()"
      ],
      "metadata": {
        "colab": {
          "base_uri": "https://localhost:8080/"
        },
        "id": "DAoRWSAoE2_8",
        "outputId": "95f09ef8-f8fa-4954-ddff-234b0e0ad020"
      },
      "execution_count": null,
      "outputs": [
        {
          "output_type": "execute_result",
          "data": {
            "text/plain": [
              "['KEVIN', 'JEANPIER', 'TITO', 'YANELLY', 'MAYRA', 'ZOL']"
            ]
          },
          "metadata": {},
          "execution_count": 8
        }
      ]
    },
    {
      "cell_type": "code",
      "source": [
        "rdd_texto_mayuscula_flat = rdd_texto_1.flatMap(lambda x: (x, x.upper()))\n",
        "rdd_texto_mayuscula_flat.collect()"
      ],
      "metadata": {
        "colab": {
          "base_uri": "https://localhost:8080/"
        },
        "id": "Mt2JRzxNFW7X",
        "outputId": "d7121c32-9649-4982-ba0b-c9d60d02c9de"
      },
      "execution_count": null,
      "outputs": [
        {
          "output_type": "execute_result",
          "data": {
            "text/plain": [
              "['kevin',\n",
              " 'KEVIN',\n",
              " 'jeanpier',\n",
              " 'JEANPIER',\n",
              " 'tito',\n",
              " 'TITO',\n",
              " 'yanelly',\n",
              " 'YANELLY',\n",
              " 'mayra',\n",
              " 'MAYRA',\n",
              " 'zol',\n",
              " 'ZOL']"
            ]
          },
          "metadata": {},
          "execution_count": 11
        }
      ]
    },
    {
      "cell_type": "markdown",
      "source": [
        "# **FUNCION FILTER**"
      ],
      "metadata": {
        "id": "GmwMap6mTZwo"
      }
    },
    {
      "cell_type": "markdown",
      "source": [
        "**RDD con Números**"
      ],
      "metadata": {
        "id": "p1S1oUJne4sI"
      }
    },
    {
      "cell_type": "code",
      "source": [
        "rdd_fil = SparkContext.parallelize([1,2,3,4,5,6,7,8,9])\n",
        "rdd_fil.collect()"
      ],
      "metadata": {
        "colab": {
          "base_uri": "https://localhost:8080/"
        },
        "id": "LxzKE8doTZHp",
        "outputId": "dc1d83f7-a98a-4fcb-86ff-b835fc04a817"
      },
      "execution_count": null,
      "outputs": [
        {
          "output_type": "execute_result",
          "data": {
            "text/plain": [
              "[1, 2, 3, 4, 5, 6, 7, 8, 9]"
            ]
          },
          "metadata": {},
          "execution_count": 60
        }
      ]
    },
    {
      "cell_type": "code",
      "source": [
        "rdd_pares = rdd_fil.filter(lambda x: x % 2 == 0)\n",
        "rdd_pares.collect()"
      ],
      "metadata": {
        "colab": {
          "base_uri": "https://localhost:8080/"
        },
        "id": "6YiPe3iTfAYr",
        "outputId": "043a35c1-9cd9-40e5-ca9d-841249d83d01"
      },
      "execution_count": null,
      "outputs": [
        {
          "output_type": "execute_result",
          "data": {
            "text/plain": [
              "[2, 4, 6, 8]"
            ]
          },
          "metadata": {},
          "execution_count": 61
        }
      ]
    },
    {
      "cell_type": "code",
      "source": [
        "rdd_impares = rdd_fil.filter(lambda x: x % 2 != 0)\n",
        "rdd_impares.collect()"
      ],
      "metadata": {
        "colab": {
          "base_uri": "https://localhost:8080/"
        },
        "id": "m4v5GF8kfFbh",
        "outputId": "46d5cd03-1eae-4b8c-971b-e1654c762f75"
      },
      "execution_count": null,
      "outputs": [
        {
          "output_type": "execute_result",
          "data": {
            "text/plain": [
              "[1, 3, 5, 7, 9]"
            ]
          },
          "metadata": {},
          "execution_count": 62
        }
      ]
    },
    {
      "cell_type": "markdown",
      "source": [
        "**RDD con Texto**"
      ],
      "metadata": {
        "id": "B7BKtryofKn6"
      }
    },
    {
      "cell_type": "code",
      "source": [
        "rdd_texto_fil = SparkContext.parallelize(['kevin', 'pier', 'tito', 'kevão', 'karol', 'yanelly', 'mayra', 'zol', 'kevinho', 'katy'])\n",
        "rdd_texto_fil.collect()"
      ],
      "metadata": {
        "colab": {
          "base_uri": "https://localhost:8080/"
        },
        "id": "3cUnM0cFfM0F",
        "outputId": "c0805238-4607-4727-932f-ac3749329284"
      },
      "execution_count": null,
      "outputs": [
        {
          "output_type": "execute_result",
          "data": {
            "text/plain": [
              "['kevin',\n",
              " 'pier',\n",
              " 'tito',\n",
              " 'kevão',\n",
              " 'karol',\n",
              " 'yanelly',\n",
              " 'mayra',\n",
              " 'zol',\n",
              " 'kevinho',\n",
              " 'katy']"
            ]
          },
          "metadata": {},
          "execution_count": 63
        }
      ]
    },
    {
      "cell_type": "code",
      "source": [
        "rdd_filtrado_con_k = rdd_texto_fil.filter(lambda x: x.startswith('k'))\n",
        "rdd_filtrado_con_k.collect()"
      ],
      "metadata": {
        "colab": {
          "base_uri": "https://localhost:8080/"
        },
        "id": "ckjlY0qDfV03",
        "outputId": "10c0f1f4-df78-4ad8-a2b7-090a4d66d278"
      },
      "execution_count": null,
      "outputs": [
        {
          "output_type": "execute_result",
          "data": {
            "text/plain": [
              "['kevin', 'kevão', 'karol', 'kevinho', 'katy']"
            ]
          },
          "metadata": {},
          "execution_count": 64
        }
      ]
    },
    {
      "cell_type": "code",
      "source": [
        "rdd_filtrado_con_and = rdd_texto_fil.filter(lambda x: x.startswith('k') and x.find('e') == 1)\n",
        "rdd_filtrado_con_and.collect()"
      ],
      "metadata": {
        "colab": {
          "base_uri": "https://localhost:8080/"
        },
        "id": "M7IIABYffZZ8",
        "outputId": "21ad3562-5163-4b18-c8cf-ca4c549884d7"
      },
      "execution_count": null,
      "outputs": [
        {
          "output_type": "execute_result",
          "data": {
            "text/plain": [
              "['kevin', 'kevão', 'kevinho']"
            ]
          },
          "metadata": {},
          "execution_count": 65
        }
      ]
    },
    {
      "cell_type": "code",
      "source": [
        "rdd_filtrado_con_or = rdd_texto_fil.filter(lambda x: x.startswith('k') or x.find('o') == 1)\n",
        "rdd_filtrado_con_or.collect()"
      ],
      "metadata": {
        "colab": {
          "base_uri": "https://localhost:8080/"
        },
        "id": "rsr7z2QWfdzQ",
        "outputId": "ed2065dd-cec1-4e24-9e95-dee32b3bbcbf"
      },
      "execution_count": null,
      "outputs": [
        {
          "output_type": "execute_result",
          "data": {
            "text/plain": [
              "['kevin', 'kevão', 'karol', 'zol', 'kevinho', 'katy']"
            ]
          },
          "metadata": {},
          "execution_count": 66
        }
      ]
    },
    {
      "cell_type": "markdown",
      "source": [
        "# **FUNCIÓN COALESCE**"
      ],
      "metadata": {
        "id": "V0Or8oEKTaqS"
      }
    },
    {
      "cell_type": "code",
      "source": [
        "rdd_3 = SparkContext.parallelize([1,2,3,4,5,6,7,8,9], 15)\n",
        "\n",
        "rdd_3.getNumPartitions()"
      ],
      "metadata": {
        "colab": {
          "base_uri": "https://localhost:8080/"
        },
        "id": "q9krUGq7Tb5o",
        "outputId": "5aa904d6-cd14-480a-bd05-639dfdc695c0"
      },
      "execution_count": null,
      "outputs": [
        {
          "output_type": "execute_result",
          "data": {
            "text/plain": [
              "15"
            ]
          },
          "metadata": {},
          "execution_count": 27
        }
      ]
    },
    {
      "cell_type": "code",
      "source": [
        "rdd_3.coalesce(3) #Coalesce SOLO reduce la cantidad de particiones.\n",
        "rdd_3.getNumPartitions()"
      ],
      "metadata": {
        "colab": {
          "base_uri": "https://localhost:8080/"
        },
        "id": "YMyvrWJ4Vd6t",
        "outputId": "bd8ebf8c-939a-4b6e-8ad2-1a9fce7252dc"
      },
      "execution_count": null,
      "outputs": [
        {
          "output_type": "execute_result",
          "data": {
            "text/plain": [
              "15"
            ]
          },
          "metadata": {},
          "execution_count": 33
        }
      ]
    },
    {
      "cell_type": "code",
      "source": [
        "rdd_reducido_en_3 = rdd_3.coalesce(3)\n",
        "rdd_reducido_en_3.getNumPartitions()"
      ],
      "metadata": {
        "colab": {
          "base_uri": "https://localhost:8080/"
        },
        "id": "kSIWGxuXYBIq",
        "outputId": "88dd1083-bde2-4175-93bf-e84e915fd01b"
      },
      "execution_count": null,
      "outputs": [
        {
          "output_type": "execute_result",
          "data": {
            "text/plain": [
              "3"
            ]
          },
          "metadata": {},
          "execution_count": 34
        }
      ]
    },
    {
      "cell_type": "markdown",
      "source": [
        "# **FUNCIÓN RAPARTITION**"
      ],
      "metadata": {
        "id": "vwmi7qQuSt71"
      }
    },
    {
      "cell_type": "code",
      "source": [
        "rdd_3 = SparkContext.parallelize([1,2,3,4,5,6,7,8,9], 15)\n",
        "rdd_3.getNumPartitions()"
      ],
      "metadata": {
        "id": "TO2f3DwvFeZ7",
        "colab": {
          "base_uri": "https://localhost:8080/"
        },
        "outputId": "f4b913ff-60ba-4db0-cb7d-c48643f69f04"
      },
      "execution_count": null,
      "outputs": [
        {
          "output_type": "execute_result",
          "data": {
            "text/plain": [
              "15"
            ]
          },
          "metadata": {},
          "execution_count": 14
        }
      ]
    },
    {
      "cell_type": "code",
      "source": [
        "rdd_reducido_en_3 = rdd_3.repartition(3) #Está reducido la cantidad de particiones de 15 a 3\n",
        "rdd_reducido_en_3.getNumPartitions()"
      ],
      "metadata": {
        "colab": {
          "base_uri": "https://localhost:8080/"
        },
        "id": "ZmsnouyES8Zz",
        "outputId": "5a562359-1395-4d86-bcfc-2ef4b56480ea"
      },
      "execution_count": null,
      "outputs": [
        {
          "output_type": "execute_result",
          "data": {
            "text/plain": [
              "3"
            ]
          },
          "metadata": {},
          "execution_count": 17
        }
      ]
    },
    {
      "cell_type": "code",
      "source": [
        "rdd_reducido_en_20 = rdd_3.repartition(20) #Está reducido la cantidad de particiones de 15 a 20\n",
        "rdd_reducido_en_20.getNumPartitions()"
      ],
      "metadata": {
        "colab": {
          "base_uri": "https://localhost:8080/"
        },
        "id": "cTODTuVaTOU1",
        "outputId": "9963e092-5def-4fab-9ab2-f26c8d5ca2a7"
      },
      "execution_count": null,
      "outputs": [
        {
          "output_type": "execute_result",
          "data": {
            "text/plain": [
              "20"
            ]
          },
          "metadata": {},
          "execution_count": 16
        }
      ]
    },
    {
      "cell_type": "markdown",
      "source": [
        "# **FUNCIÓN REDUCE BY KEY**"
      ],
      "metadata": {
        "id": "CYyo80m_Tnj1"
      }
    },
    {
      "cell_type": "code",
      "source": [
        "#Creamos un rdd con claves y valores\n",
        "rdd_key = SparkContext.parallelize(\n",
        "[('kevin',   5),\n",
        "('jeanpier', 3),\n",
        "('tito',     7),\n",
        "('yanelly',  3),\n",
        "('mayra',    1),\n",
        "('zol',      6),\n",
        "('kevin',    3),\n",
        "('jeanpier', 5),\n",
        "('tito',     7),\n",
        "('yanelly',  2),\n",
        "('mayra',    6),\n",
        "('zol',      4),\n",
        "('kevin',    7),\n",
        "('jeanpier', 3),\n",
        "('tito',     5),\n",
        "('yanelly',  3),\n",
        "('mayra',    5),\n",
        "('zol',      9),]\n",
        ")\n",
        "rdd.collect()"
      ],
      "metadata": {
        "colab": {
          "base_uri": "https://localhost:8080/"
        },
        "id": "9McgBwpiTtdz",
        "outputId": "ddc7cd55-96ed-4913-9a26-c1d510203515"
      },
      "execution_count": null,
      "outputs": [
        {
          "output_type": "execute_result",
          "data": {
            "text/plain": [
              "[('kevin', 5),\n",
              " ('jeanpier', 3),\n",
              " ('tito', 7),\n",
              " ('yanelly', 3),\n",
              " ('mayra', 1),\n",
              " ('zol', 6),\n",
              " ('kevin', 3),\n",
              " ('jeanpier', 5),\n",
              " ('tito', 7),\n",
              " ('yanelly', 12),\n",
              " ('mayra', 6),\n",
              " ('zol', 4),\n",
              " ('kevin', 7),\n",
              " ('jeanpier', 3),\n",
              " ('tito', 5),\n",
              " ('yanelly', 3),\n",
              " ('mayra', 5),\n",
              " ('zol', 9)]"
            ]
          },
          "metadata": {},
          "execution_count": 24
        }
      ]
    },
    {
      "cell_type": "markdown",
      "source": [
        "**Suma**"
      ],
      "metadata": {
        "id": "OfrPcospVANa"
      }
    },
    {
      "cell_type": "code",
      "source": [
        "rdd_reducido_por_clave = rdd_key.reduceByKey(lambda x,y: x + y) #Reducimos los valores a uno solo a través de la clave\n",
        "rdd_reducido_por_clave.collect()"
      ],
      "metadata": {
        "colab": {
          "base_uri": "https://localhost:8080/"
        },
        "id": "a50SjMtCUH83",
        "outputId": "17a626ee-0c8d-49eb-d78f-f141032d8a9e"
      },
      "execution_count": null,
      "outputs": [
        {
          "output_type": "execute_result",
          "data": {
            "text/plain": [
              "[('kevin', 15),\n",
              " ('jeanpier', 11),\n",
              " ('yanelly', 8),\n",
              " ('mayra', 12),\n",
              " ('zol', 19),\n",
              " ('tito', 19)]"
            ]
          },
          "metadata": {},
          "execution_count": 25
        }
      ]
    },
    {
      "cell_type": "markdown",
      "source": [
        "**Resta**"
      ],
      "metadata": {
        "id": "rXmgCKSHdkPo"
      }
    },
    {
      "cell_type": "code",
      "source": [
        "rdd_reducido_por_clave = rdd_key.reduceByKey(lambda x,y: x - y) #Reducimos los valores a uno solo a través de la clave\n",
        "rdd_reducido_por_clave.collect()"
      ],
      "metadata": {
        "colab": {
          "base_uri": "https://localhost:8080/"
        },
        "id": "Y9spgLOhdfFM",
        "outputId": "fc6702bd-2320-43ba-e9bc-30a39e55fbf9"
      },
      "execution_count": null,
      "outputs": [
        {
          "output_type": "execute_result",
          "data": {
            "text/plain": [
              "[('kevin', -5),\n",
              " ('jeanpier', -5),\n",
              " ('yanelly', 4),\n",
              " ('mayra', 0),\n",
              " ('zol', 11),\n",
              " ('tito', -5)]"
            ]
          },
          "metadata": {},
          "execution_count": 50
        }
      ]
    },
    {
      "cell_type": "markdown",
      "source": [
        "**Multiplicación**"
      ],
      "metadata": {
        "id": "ELcJW4bZVBMm"
      }
    },
    {
      "cell_type": "code",
      "source": [
        "rdd_reducido_por_clave_mux = rdd_key.reduceByKey(lambda x,y: x * y) #Reducimos los valores a uno solo a través de la clave\n",
        "rdd_reducido_por_clave_mux.collect()"
      ],
      "metadata": {
        "colab": {
          "base_uri": "https://localhost:8080/"
        },
        "id": "qBZUTZycUvLq",
        "outputId": "37ffc065-3ca0-42fd-f62f-f1aede70c270"
      },
      "execution_count": null,
      "outputs": [
        {
          "output_type": "execute_result",
          "data": {
            "text/plain": [
              "[('kevin', 105),\n",
              " ('jeanpier', 45),\n",
              " ('yanelly', 18),\n",
              " ('mayra', 30),\n",
              " ('zol', 216),\n",
              " ('tito', 245)]"
            ]
          },
          "metadata": {},
          "execution_count": 26
        }
      ]
    },
    {
      "cell_type": "markdown",
      "source": [
        "# **ACCIONES - FUNCIÓN REDUCE**"
      ],
      "metadata": {
        "id": "_OUcuDJEYlBi"
      }
    },
    {
      "cell_type": "code",
      "source": [
        "rdd_redu = SparkContext.parallelize([1,2,3,4,5,6,7,8,9])\n",
        "rdd_redu.collect()"
      ],
      "metadata": {
        "colab": {
          "base_uri": "https://localhost:8080/"
        },
        "id": "bVp8NOXRYnzR",
        "outputId": "f92d2780-6f38-4dde-e9cf-c990809cd3bc"
      },
      "execution_count": null,
      "outputs": [
        {
          "output_type": "execute_result",
          "data": {
            "text/plain": [
              "[1, 2, 3, 4, 5, 6, 7, 8, 9]"
            ]
          },
          "metadata": {},
          "execution_count": 35
        }
      ]
    },
    {
      "cell_type": "code",
      "source": [
        "rdd_redu.reduce(lambda x,y: x + y)"
      ],
      "metadata": {
        "colab": {
          "base_uri": "https://localhost:8080/"
        },
        "id": "9zZgbsl9YqEt",
        "outputId": "49ac775f-738d-4d4e-ed73-4e4b8d38c3c5"
      },
      "execution_count": null,
      "outputs": [
        {
          "output_type": "execute_result",
          "data": {
            "text/plain": [
              "45"
            ]
          },
          "metadata": {},
          "execution_count": 36
        }
      ]
    },
    {
      "cell_type": "code",
      "source": [
        "rdd_redu.reduce(lambda x,y: x * y)"
      ],
      "metadata": {
        "colab": {
          "base_uri": "https://localhost:8080/"
        },
        "id": "kQE2_wu1YyJ_",
        "outputId": "78705f91-4a75-4dff-9473-1e0b2be74626"
      },
      "execution_count": null,
      "outputs": [
        {
          "output_type": "execute_result",
          "data": {
            "text/plain": [
              "362880"
            ]
          },
          "metadata": {},
          "execution_count": 37
        }
      ]
    },
    {
      "cell_type": "code",
      "source": [
        "rdd_redu.reduce(lambda x,y: x / y)"
      ],
      "metadata": {
        "colab": {
          "base_uri": "https://localhost:8080/"
        },
        "id": "tVY3Ifq5YziK",
        "outputId": "49bcd70c-22af-4d75-cc05-f49cbc18eaf8"
      },
      "execution_count": null,
      "outputs": [
        {
          "output_type": "execute_result",
          "data": {
            "text/plain": [
              "25.199999999999996"
            ]
          },
          "metadata": {},
          "execution_count": 38
        }
      ]
    },
    {
      "cell_type": "markdown",
      "source": [
        "# **ACCIONES - FUNCIÓN COUNT**"
      ],
      "metadata": {
        "id": "JSM43o0gY7tE"
      }
    },
    {
      "cell_type": "code",
      "source": [
        "rdd_co = SparkContext.parallelize(['l','i','o','n'])\n",
        "rdd_co.collect()"
      ],
      "metadata": {
        "colab": {
          "base_uri": "https://localhost:8080/"
        },
        "id": "e9Nx8j1lY_Z0",
        "outputId": "f9c1078e-ddf6-409b-90fd-807c16241987"
      },
      "execution_count": null,
      "outputs": [
        {
          "output_type": "execute_result",
          "data": {
            "text/plain": [
              "['l', 'i', 'o', 'n']"
            ]
          },
          "metadata": {},
          "execution_count": 39
        }
      ]
    },
    {
      "cell_type": "code",
      "source": [
        "rdd_co.count()"
      ],
      "metadata": {
        "colab": {
          "base_uri": "https://localhost:8080/"
        },
        "id": "0-mgi3yQZNVm",
        "outputId": "dba80da6-94f8-4ec0-eb74-772f9b22c653"
      },
      "execution_count": null,
      "outputs": [
        {
          "output_type": "execute_result",
          "data": {
            "text/plain": [
              "4"
            ]
          },
          "metadata": {},
          "execution_count": 40
        }
      ]
    },
    {
      "cell_type": "code",
      "source": [
        "rdd_numerosCO = SparkContext.parallelize([1, 2, 3, 4, 5, 6, 7, 8, 9, 10, 11, 12, 13, 14, 15, 16, 17, 18])\n",
        "\n",
        "rdd_numerosCO.collect()"
      ],
      "metadata": {
        "colab": {
          "base_uri": "https://localhost:8080/"
        },
        "id": "9USmEUxWZQJC",
        "outputId": "ef5837f0-0648-4bab-cb0e-1ec0d578ddc8"
      },
      "execution_count": null,
      "outputs": [
        {
          "output_type": "execute_result",
          "data": {
            "text/plain": [
              "[1, 2, 3, 4, 5, 6, 7, 8, 9, 10, 11, 12, 13, 14, 15, 16, 17, 18]"
            ]
          },
          "metadata": {},
          "execution_count": 67
        }
      ]
    },
    {
      "cell_type": "code",
      "source": [
        "rdd_numerosCO.count()"
      ],
      "metadata": {
        "colab": {
          "base_uri": "https://localhost:8080/"
        },
        "id": "xohTBTmHgCHy",
        "outputId": "c44236cf-abe9-4d42-9460-97ec364ebbd6"
      },
      "execution_count": null,
      "outputs": [
        {
          "output_type": "execute_result",
          "data": {
            "text/plain": [
              "18"
            ]
          },
          "metadata": {},
          "execution_count": 68
        }
      ]
    },
    {
      "cell_type": "markdown",
      "source": [
        "# **ACCIONES - FUNCIÓN COLLECT**"
      ],
      "metadata": {
        "id": "KltTekeuZjlc"
      }
    },
    {
      "cell_type": "code",
      "source": [
        "rdd_cl = SparkContext.parallelize('Bienvenidos a este curso de PySpark'.split(' '))\n",
        "\n",
        "rdd_cl.collect()"
      ],
      "metadata": {
        "colab": {
          "base_uri": "https://localhost:8080/"
        },
        "id": "qeUajVxIZmYv",
        "outputId": "a15ee166-b6b4-4eef-c73c-37b3b1a217d8"
      },
      "execution_count": null,
      "outputs": [
        {
          "output_type": "execute_result",
          "data": {
            "text/plain": [
              "['Bienvenidos', 'a', 'este', 'curso', 'de', 'PySpark']"
            ]
          },
          "metadata": {},
          "execution_count": 42
        }
      ]
    },
    {
      "cell_type": "code",
      "source": [
        "rdd_tuplas = SparkContext.parallelize([(item, item ** 2) for item in range (14)])\n",
        "\n",
        "rdd_tuplas.collect()"
      ],
      "metadata": {
        "colab": {
          "base_uri": "https://localhost:8080/"
        },
        "id": "HKvji0LLZyzK",
        "outputId": "8f199892-e3b9-444f-ca49-9562b92632cc"
      },
      "execution_count": null,
      "outputs": [
        {
          "output_type": "execute_result",
          "data": {
            "text/plain": [
              "[(0, 0),\n",
              " (1, 1),\n",
              " (2, 4),\n",
              " (3, 9),\n",
              " (4, 16),\n",
              " (5, 25),\n",
              " (6, 36),\n",
              " (7, 49),\n",
              " (8, 64),\n",
              " (9, 81),\n",
              " (10, 100),\n",
              " (11, 121),\n",
              " (12, 144),\n",
              " (13, 169)]"
            ]
          },
          "metadata": {},
          "execution_count": 43
        }
      ]
    },
    {
      "cell_type": "markdown",
      "source": [
        "# **ACCIONES - FUNCIÓN TAKE, MAX, SAVEASTEXTFILE**"
      ],
      "metadata": {
        "id": "OlX7RF8raLe8"
      }
    },
    {
      "cell_type": "code",
      "source": [
        "rdd_tms = SparkContext.parallelize('bienvenidos a este curso de PySpark'.split(' '))\n",
        "rdd_tms.collect()"
      ],
      "metadata": {
        "colab": {
          "base_uri": "https://localhost:8080/"
        },
        "id": "0pKqMY5TaQU4",
        "outputId": "ee9533ff-feae-446e-8d1a-f228f61ab1c7"
      },
      "execution_count": null,
      "outputs": [
        {
          "output_type": "execute_result",
          "data": {
            "text/plain": [
              "['bienvenidos', 'a', 'este', 'curso', 'de', 'PySpark']"
            ]
          },
          "metadata": {},
          "execution_count": 45
        }
      ]
    },
    {
      "cell_type": "code",
      "source": [
        "rdd_tms.take(5)"
      ],
      "metadata": {
        "colab": {
          "base_uri": "https://localhost:8080/"
        },
        "id": "aoBCQaqXaqYh",
        "outputId": "5b39276e-eb04-4cee-a722-3d8686413159"
      },
      "execution_count": null,
      "outputs": [
        {
          "output_type": "execute_result",
          "data": {
            "text/plain": [
              "['bienvenidos', 'a', 'este', 'curso', 'de']"
            ]
          },
          "metadata": {},
          "execution_count": 46
        }
      ]
    },
    {
      "cell_type": "code",
      "source": [
        "rdd_tms.take(3)"
      ],
      "metadata": {
        "colab": {
          "base_uri": "https://localhost:8080/"
        },
        "id": "PQPVXhtXbBNP",
        "outputId": "a1877105-e722-49e1-fba1-0437a1c9887a"
      },
      "execution_count": null,
      "outputs": [
        {
          "output_type": "execute_result",
          "data": {
            "text/plain": [
              "['bienvenidos', 'a', 'este']"
            ]
          },
          "metadata": {},
          "execution_count": 47
        }
      ]
    },
    {
      "cell_type": "code",
      "source": [
        "rdd_numeros_con_for=SparkContext.parallelize([k for k in range(15)])\n",
        "rdd_numeros_con_for.collect()"
      ],
      "metadata": {
        "colab": {
          "base_uri": "https://localhost:8080/"
        },
        "id": "IrZN2SjhatUm",
        "outputId": "a4d32109-acd0-4a02-ed56-2ecbea2e2fe7"
      },
      "execution_count": null,
      "outputs": [
        {
          "output_type": "execute_result",
          "data": {
            "text/plain": [
              "[0, 1, 2, 3, 4, 5, 6, 7, 8, 9, 10, 11, 12, 13, 14]"
            ]
          },
          "metadata": {},
          "execution_count": 48
        }
      ]
    },
    {
      "cell_type": "code",
      "source": [
        "rdd_numeros_con_for.max()"
      ],
      "metadata": {
        "colab": {
          "base_uri": "https://localhost:8080/"
        },
        "id": "eGL0-CLGa2jh",
        "outputId": "d8c0c2f4-6a4c-4895-9996-92985b3a861f"
      },
      "execution_count": null,
      "outputs": [
        {
          "output_type": "execute_result",
          "data": {
            "text/plain": [
              "14"
            ]
          },
          "metadata": {},
          "execution_count": 49
        }
      ]
    }
  ]
}
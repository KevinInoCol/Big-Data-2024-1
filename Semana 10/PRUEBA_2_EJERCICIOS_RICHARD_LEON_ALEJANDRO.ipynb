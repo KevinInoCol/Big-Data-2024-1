{
  "nbformat": 4,
  "nbformat_minor": 0,
  "metadata": {
    "colab": {
      "provenance": []
    },
    "kernelspec": {
      "name": "python3",
      "display_name": "Python 3"
    },
    "language_info": {
      "name": "python"
    }
  },
  "cells": [
    {
      "cell_type": "code",
      "execution_count": null,
      "metadata": {
        "colab": {
          "base_uri": "https://localhost:8080/"
        },
        "id": "Bq9tSqZdQc2g",
        "outputId": "d10c8423-96f7-4bf6-9484-75a924985c84"
      },
      "outputs": [
        {
          "output_type": "stream",
          "name": "stdout",
          "text": [
            "Requirement already satisfied: pyspark in /usr/local/lib/python3.10/dist-packages (3.5.1)\n",
            "Requirement already satisfied: py4j in /usr/local/lib/python3.10/dist-packages (0.10.9.7)\n"
          ]
        }
      ],
      "source": [
        "# Instalamos pyspark y py4j\n",
        "!pip install pyspark py4j"
      ]
    },
    {
      "cell_type": "code",
      "source": [
        "from pyspark.sql import SparkSession\n",
        "\n",
        "Spark = SparkSession.builder.appName(\"lion\").getOrCreate()\n",
        "sc = Spark.sparkContext"
      ],
      "metadata": {
        "id": "fATLvVxQQiLR"
      },
      "execution_count": 201,
      "outputs": []
    },
    {
      "cell_type": "markdown",
      "source": [
        "# **EJERCICIOS / PRACTICA**"
      ],
      "metadata": {
        "id": "ST5ehGW-QrL4"
      }
    },
    {
      "cell_type": "code",
      "source": [
        "# 1. Cree un RDD llamado lenguajes que contenga los siguientes lenguajes de programación: Python, #R, C, Scala, Rugby y SQL.\n",
        "#   A) Cree un nuevo RDD que solo contenga aquellos lenguajes de programación que comiencen con la letra R.\n",
        "\n",
        "# 2. Cree un RDD llamado pares que contenga los números pares existentes en el intervalo [20;30].\n",
        "#   B) Obtenga una lista compuesta por los números pares en el intervalo\n",
        "#      [20;30] y sus respectivas raíces cuadradas. Un ejemplo del resultado deseado para\n",
        "#      el intervalo [50;60] sería la lista [50, 7.0710678118654755, 52, 7.21110255092 54,\n",
        "#      7.3484692283495345, 56, 7.483314773547883, 58, 7.615773105863909, 60, 7.745966692414834\n",
        "\n",
        "#   C) Eleve el número de particiones del RDD sqrt a 20.\n",
        "\n",
        "#   D) Si tuviera que disminuir el número de particiones luego de haberlo\n",
        "#      establecido en 20, ¿qué función utilizaría para hacer más eficiente su código?\n",
        "\n",
        "# 3. Cree un RDD del tipo clave valor a partir de la lectura del TXT de transacciones.\n",
        "#    Tenga en cuenta que deberá procesar el RDD leído para obtener el resultado solicitado.\n",
        "#    Supongamos que el RDD resultante de tipo clave valor refleja las transacciones realizadas por número de cuentas.\n",
        "#    Obtenga el monto total por cada cuenta. (Suma)\n",
        "\n",
        "# Tip: Cree su propia función para procesar el RDD leído."
      ],
      "metadata": {
        "id": "JHEyrpf1QuWT"
      },
      "execution_count": null,
      "outputs": []
    },
    {
      "cell_type": "markdown",
      "source": [
        "# **1.- Cree un RDD llamado lenguajes que contenga los siguientes lenguajes de programación: Python, #R, C, Scala, Rugby y SQL.**"
      ],
      "metadata": {
        "id": "znhlG1SVQw50"
      }
    },
    {
      "cell_type": "code",
      "source": [
        "rdd_lenguajes = sc.parallelize([\"Python\", \"R\", \"C\", \"Scala\", \"Rugby\", \"SQL\"])\n",
        "rdd_lenguajes.collect()"
      ],
      "metadata": {
        "colab": {
          "base_uri": "https://localhost:8080/"
        },
        "id": "VJR_AtXEQzWL",
        "outputId": "23a88759-e9f5-483c-a888-b34a05d1cdf1"
      },
      "execution_count": 175,
      "outputs": [
        {
          "output_type": "execute_result",
          "data": {
            "text/plain": [
              "['Python', 'R', 'C', 'Scala', 'Rugby', 'SQL']"
            ]
          },
          "metadata": {},
          "execution_count": 175
        }
      ]
    },
    {
      "cell_type": "markdown",
      "source": [
        "### A) Cree un nuevo RDD que solo contenga aquellos lenguajes de programación que comiencen con la letra R.\n"
      ],
      "metadata": {
        "id": "tigHcPMtw3Hm"
      }
    },
    {
      "cell_type": "code",
      "source": [
        "rdd_lenguajes_con_r = rdd_lenguajes.filter(lambda x: x.startswith(\"R\"))\n",
        "rdd_lenguajes_con_r.collect()"
      ],
      "metadata": {
        "colab": {
          "base_uri": "https://localhost:8080/"
        },
        "id": "DmSOZHhzQ4Ms",
        "outputId": "4b357075-ffda-498c-c436-a8d8534ad0e2"
      },
      "execution_count": 176,
      "outputs": [
        {
          "output_type": "execute_result",
          "data": {
            "text/plain": [
              "['R', 'Rugby']"
            ]
          },
          "metadata": {},
          "execution_count": 176
        }
      ]
    },
    {
      "cell_type": "markdown",
      "source": [
        "#**2. Cree un RDD llamado pares que contenga los números pares existentes en el intervalo [20;30].**"
      ],
      "metadata": {
        "id": "fnP3Iz1uQ78m"
      }
    },
    {
      "cell_type": "code",
      "source": [
        "numeros = list(range(20, 30))\n",
        "rdd_numeros = sc.parallelize(numeros)\n",
        "\n",
        "rdd_pares = rdd_numeros.filter(lambda x: x % 2 == 0)\n",
        "\n",
        "rdd_pares.collect()"
      ],
      "metadata": {
        "colab": {
          "base_uri": "https://localhost:8080/"
        },
        "id": "KFv0leRNRGuw",
        "outputId": "8523cd2d-c34a-4864-f719-2d2b91e54df7"
      },
      "execution_count": null,
      "outputs": [
        {
          "output_type": "execute_result",
          "data": {
            "text/plain": [
              "[20, 22, 24, 26, 28]"
            ]
          },
          "metadata": {},
          "execution_count": 20
        }
      ]
    },
    {
      "cell_type": "markdown",
      "source": [
        "## B) Obtenga una lista compuesta por los números pares en el intervalo [20;30] y sus respectivas raíces cuadradas.\n",
        "\n",
        "> Un ejemplo del resultado deseado para el intervalo [50;60] sería la lista: [50, 7.0710678118654755, 52, 7.21110255092 54, 7.3484692283495345, 56, 7.483314773547883, 58, 7.615773105863909, 60, 7.745966692414834."
      ],
      "metadata": {
        "id": "0-kjF8J4xRYR"
      }
    },
    {
      "cell_type": "code",
      "source": [
        "rdd_raices_flat = rdd_pares.flatMap(lambda x: [x, x ** 0.5])\n",
        "rdd_raices_flat.collect()"
      ],
      "metadata": {
        "colab": {
          "base_uri": "https://localhost:8080/"
        },
        "id": "8EOJz1QjRI0C",
        "outputId": "514a8bcb-f08c-4175-c5c4-4344fb111af2"
      },
      "execution_count": null,
      "outputs": [
        {
          "output_type": "execute_result",
          "data": {
            "text/plain": [
              "[20,\n",
              " 4.47213595499958,\n",
              " 22,\n",
              " 4.69041575982343,\n",
              " 24,\n",
              " 4.898979485566356,\n",
              " 26,\n",
              " 5.0990195135927845,\n",
              " 28,\n",
              " 5.291502622129181]"
            ]
          },
          "metadata": {},
          "execution_count": 17
        }
      ]
    },
    {
      "cell_type": "markdown",
      "source": [
        "##   C) Eleve el número de particiones del RDD sqrt a 20."
      ],
      "metadata": {
        "id": "qCNeEhjVxnrt"
      }
    },
    {
      "cell_type": "code",
      "source": [
        "rdd_elevar = rdd_raices_flat.repartition(20)\n",
        "rdd_elevar.getNumPartitions()"
      ],
      "metadata": {
        "colab": {
          "base_uri": "https://localhost:8080/"
        },
        "id": "gB9FsfDJRKJ7",
        "outputId": "df7df50c-74b3-4d08-87ba-6d1b21d7cd4b"
      },
      "execution_count": null,
      "outputs": [
        {
          "output_type": "execute_result",
          "data": {
            "text/plain": [
              "20"
            ]
          },
          "metadata": {},
          "execution_count": 18
        }
      ]
    },
    {
      "cell_type": "markdown",
      "source": [
        "## D) Si tuviera que disminuir el número de particiones luego de haberlo establecido en 20, ¿qué función utilizaría para hacer más eficiente su código?\n"
      ],
      "metadata": {
        "id": "I8QtdUolxvbO"
      }
    },
    {
      "cell_type": "code",
      "source": [
        "#   RESPUESTA: Para disminuir el numero de particiones luego de haberlo establecido a 20 usaria\n",
        "#              la función COALESCE ya que esta función es mas practica para disminuir el número\n",
        "#              de particiones porque tambien evita el movimiento completo de datos entre las particiones.\n",
        "\n",
        "rdd_disminuir = rdd_elevar.coalesce(5)\n",
        "rdd_disminuir.getNumPartitions()"
      ],
      "metadata": {
        "colab": {
          "base_uri": "https://localhost:8080/"
        },
        "id": "SK6uNJXuRLfH",
        "outputId": "c77d5eaa-1f67-4f5b-9dee-4d165891603b"
      },
      "execution_count": null,
      "outputs": [
        {
          "output_type": "execute_result",
          "data": {
            "text/plain": [
              "5"
            ]
          },
          "metadata": {},
          "execution_count": 19
        }
      ]
    },
    {
      "cell_type": "markdown",
      "source": [
        "# **3. Cree un RDD del tipo clave valor a partir de la lectura del TXT de transacciones.:**\n",
        "> Lo realice de 2 Maneras, la primera es la normal y copiando e creando el RDD en clave valor y la segunda leyendo el documento transacciones.txt con funcion de imprimir print y mostrando algo mas limpio con texto.\n",
        "\n"
      ],
      "metadata": {
        "id": "gCamJMnaRP3k"
      }
    },
    {
      "cell_type": "markdown",
      "source": [
        "\n",
        "1.   Tenga en cuenta que deberá procesar el RDD leído para obtener  el resultado solicitado.\n",
        "2.   Supongamos que el RDD resultante de tipo clave valor refleja las transacciones realizadas por número de cuentas.\n",
        "3.   Obtenga el monto total por cada cuenta. (Suma)\n",
        "4.   **Tip:** Cree su propia función para procesar el RDD leído.\n"
      ],
      "metadata": {
        "id": "2xVzkpwTsYjx"
      }
    },
    {
      "cell_type": "markdown",
      "source": [
        "## **MANERA 1**"
      ],
      "metadata": {
        "id": "i7RLe7edvz9o"
      }
    },
    {
      "cell_type": "code",
      "source": [
        "# Datos del TXT transacciones\n",
        "datos_transtxt = [\n",
        "  (1001, 52.3),\n",
        "  (1005, 20.8),\n",
        "  (1001, 10.1),\n",
        "  (1004, 52.7),\n",
        "  (1005, 20.7),\n",
        "  (1002, 85.3),\n",
        "  (1004, 20.9)\n",
        "]\n",
        "\n",
        "# Convierto los datos en un RDD\n",
        "rdd_trant = sc.parallelize(datos_transtxt)\n",
        "\n",
        "# Hago que se calcule el monto total por cada cuenta utilizando reduceByKey\n",
        "monto_total_por_cuenta = rdd_trant.reduceByKey(lambda x, y: x + y)\n",
        "\n",
        "monto_total_por_cuenta.collect()\n"
      ],
      "metadata": {
        "colab": {
          "base_uri": "https://localhost:8080/"
        },
        "id": "ekB-ybcFvmG1",
        "outputId": "e70fc586-8238-48a7-94c7-c4cbd644970c"
      },
      "execution_count": 204,
      "outputs": [
        {
          "output_type": "execute_result",
          "data": {
            "text/plain": [
              "[(1004, 73.6), (1002, 85.3), (1001, 62.4), (1005, 41.5)]"
            ]
          },
          "metadata": {},
          "execution_count": 204
        }
      ]
    },
    {
      "cell_type": "markdown",
      "source": [
        "## **MANERA 2**\n",
        "\n"
      ],
      "metadata": {
        "id": "o1UBcvJivf5P"
      }
    },
    {
      "cell_type": "code",
      "source": [
        "leer = '/content/transacciones.txt'\n",
        "rdd_lineas = sc.textFile(leer)\n",
        "\n",
        "rdd_mostrar = rdd_lineas.map(lambda line: ((line.split()[0], line.split()[1])))\n",
        "\n",
        "rdd_mostrar.collect()"
      ],
      "metadata": {
        "colab": {
          "base_uri": "https://localhost:8080/"
        },
        "id": "QHxCCNXeU7Zr",
        "outputId": "ee0d4e0b-bb27-4f03-bfb4-943191da91d9"
      },
      "execution_count": 202,
      "outputs": [
        {
          "output_type": "execute_result",
          "data": {
            "text/plain": [
              "[('(1001,', '52.3)'),\n",
              " ('(1005,', '20.8)'),\n",
              " ('(1001,', '10.1)'),\n",
              " ('(1004,', '52.7)'),\n",
              " ('(1005,', '20.7)'),\n",
              " ('(1002,', '85.3)'),\n",
              " ('(1004,', '20.9)')]"
            ]
          },
          "metadata": {},
          "execution_count": 202
        }
      ]
    },
    {
      "cell_type": "code",
      "source": [
        "# Función para extraer números con variable llamada \"extraer_numeros\" de una cadena y convertirlos en floats.\n",
        "def extraer_numeros(line):\n",
        "    # Creo una variable llamada \"valores\" para poder borrar y remplazar los paréntesis, comas,guiones y los dividir por coma.\n",
        "    valores = line.replace('(', '').replace(')', '').replace('-', '').split(',')\n",
        "    try:\n",
        "    # Convierto el segundo valor a float y devolverlo.\n",
        "        return (valores[0], float(valores[1]))\n",
        "    except Error:\n",
        "        return None\n",
        "\n",
        "# Filtrar las líneas que no contienen números con la variable de \"extraer_numeros\" y enviarlo limpio de simbolos en la varia.\n",
        "rdd_numeros = rdd_lineas.map(extraer_numeros).filter(lambda x: x is not None)\n",
        "\n",
        "# Reducir por clave para sumar los valores por la misma clave.\n",
        "rdd_resultado = rdd_numeros.reduceByKey(lambda x, y: x + y).collect()\n",
        "\n",
        "# Imprimo el resultado de forma ordenada y limpia sin comas ni simbolos en el resultado.\n",
        "for clave, suma in rdd_resultado:\n",
        "    print(f\"Cuenta: {clave} - Suma de cada cuenta: {suma}\")"
      ],
      "metadata": {
        "colab": {
          "base_uri": "https://localhost:8080/"
        },
        "id": "AEeMXlIRY1sY",
        "outputId": "9119bef2-af0a-43f4-bad6-90bef4d0f4fb"
      },
      "execution_count": 203,
      "outputs": [
        {
          "output_type": "stream",
          "name": "stdout",
          "text": [
            "Cuenta: 1002 - Suma de cada cuenta: 85.3\n",
            "Cuenta: 1001 - Suma de cada cuenta: 62.4\n",
            "Cuenta: 1005 - Suma de cada cuenta: 41.5\n",
            "Cuenta: 1004 - Suma de cada cuenta: 73.6\n"
          ]
        }
      ]
    }
  ]
}
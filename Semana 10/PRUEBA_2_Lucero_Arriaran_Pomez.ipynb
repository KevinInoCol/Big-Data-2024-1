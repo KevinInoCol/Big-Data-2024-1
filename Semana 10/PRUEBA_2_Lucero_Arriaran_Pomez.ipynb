{
  "nbformat": 4,
  "nbformat_minor": 0,
  "metadata": {
    "colab": {
      "provenance": []
    },
    "kernelspec": {
      "name": "python3",
      "display_name": "Python 3"
    },
    "language_info": {
      "name": "python"
    }
  },
  "cells": [
    {
      "cell_type": "code",
      "execution_count": 1,
      "metadata": {
        "colab": {
          "base_uri": "https://localhost:8080/"
        },
        "id": "mB2MMt4A9u00",
        "outputId": "b5fbc65a-984a-45ea-fb46-a306e452b922"
      },
      "outputs": [
        {
          "output_type": "stream",
          "name": "stdout",
          "text": [
            "Collecting pyspark\n",
            "  Downloading pyspark-3.5.1.tar.gz (317.0 MB)\n",
            "\u001b[2K     \u001b[90m━━━━━━━━━━━━━━━━━━━━━━━━━━━━━━━━━━━━━━━━\u001b[0m \u001b[32m317.0/317.0 MB\u001b[0m \u001b[31m2.7 MB/s\u001b[0m eta \u001b[36m0:00:00\u001b[0m\n",
            "\u001b[?25h  Preparing metadata (setup.py) ... \u001b[?25l\u001b[?25hdone\n",
            "Requirement already satisfied: py4j in /usr/local/lib/python3.10/dist-packages (0.10.9.7)\n",
            "Building wheels for collected packages: pyspark\n",
            "  Building wheel for pyspark (setup.py) ... \u001b[?25l\u001b[?25hdone\n",
            "  Created wheel for pyspark: filename=pyspark-3.5.1-py2.py3-none-any.whl size=317488491 sha256=cff019413c6b7f127d6b5b34dd459b3c52fb4d81e4daea3a3df0f88b6e3e2197\n",
            "  Stored in directory: /root/.cache/pip/wheels/80/1d/60/2c256ed38dddce2fdd93be545214a63e02fbd8d74fb0b7f3a6\n",
            "Successfully built pyspark\n",
            "Installing collected packages: pyspark\n",
            "Successfully installed pyspark-3.5.1\n"
          ]
        }
      ],
      "source": [
        "# Instalamos pyspark y py4j\n",
        "!pip install pyspark py4j"
      ]
    },
    {
      "cell_type": "code",
      "source": [
        "from pyspark.sql import SparkSession\n",
        "\n",
        "Spark = SparkSession.builder.appName(\"lion\").getOrCreate()\n",
        "sc = Spark.sparkContext"
      ],
      "metadata": {
        "id": "gxmcoP0Q9z3Y"
      },
      "execution_count": 2,
      "outputs": []
    },
    {
      "cell_type": "markdown",
      "source": [
        "**1-. Cree un RDD llamado lenguajes que contenga los siguientes lenguajes de programación: Python, #R, C, Scala, Rugby y SQL.**\n",
        "- A) Cree un nuevo RDD que solo contenga aquellos lenguajes de programación que comiencen con la letra R.\n"
      ],
      "metadata": {
        "id": "7g70iuev99Re"
      }
    },
    {
      "cell_type": "code",
      "source": [
        "rdd_lenguajes = sc.parallelize([\"Python\", \"R\", \"C\", \"Scala\", \"Rugby\", \"SQL\"])\n",
        "rdd_lenguajes.collect()"
      ],
      "metadata": {
        "colab": {
          "base_uri": "https://localhost:8080/"
        },
        "id": "sSdy38cy-bOC",
        "outputId": "5d841cde-d9e7-4e17-c03f-2944bbfc9637"
      },
      "execution_count": 3,
      "outputs": [
        {
          "output_type": "execute_result",
          "data": {
            "text/plain": [
              "['Python', 'R', 'C', 'Scala', 'Rugby', 'SQL']"
            ]
          },
          "metadata": {},
          "execution_count": 3
        }
      ]
    },
    {
      "cell_type": "markdown",
      "source": [
        "**A.-**"
      ],
      "metadata": {
        "id": "IkPY7Av__Xb5"
      }
    },
    {
      "cell_type": "code",
      "source": [
        "rdd_lenguajes_con_r = rdd_lenguajes.filter(lambda x: x.startswith(\"R\"))\n",
        "rdd_lenguajes_con_r.collect()"
      ],
      "metadata": {
        "colab": {
          "base_uri": "https://localhost:8080/"
        },
        "id": "HLxrlv8-_Etb",
        "outputId": "edcc645e-db25-4a37-b284-cc7ef7cc962b"
      },
      "execution_count": 4,
      "outputs": [
        {
          "output_type": "execute_result",
          "data": {
            "text/plain": [
              "['R', 'Rugby']"
            ]
          },
          "metadata": {},
          "execution_count": 4
        }
      ]
    },
    {
      "cell_type": "markdown",
      "source": [
        "\n",
        "**2-. Cree un RDD llamado pares que contenga los números pares existentes en el intervalo [20;30].**\n",
        "- B) Obtenga una lista compuesta por los números pares en el intervalo [20;30] y sus respectivas raíces cuadradas. Un ejemplo del resultado deseado para el intervalo [50;60] sería la lista [50, 7.0710678118654755, 52, 7.21110255092 54,7.3484692283495345, 56, 7.483314773547883, 58, 7.615773105863909, 60, 7.745966692414834\n",
        "\n",
        "- C) Eleve el número de particiones del RDD sqrt a 20.\n",
        "\n",
        "- D) Si tuviera que disminuir el número de particiones luego de haberlo\n",
        "establecido en 20, ¿qué función utilizaría para hacer más eficiente su código?\n",
        "\n"
      ],
      "metadata": {
        "id": "IMvWZXER-v4Z"
      }
    },
    {
      "cell_type": "code",
      "source": [
        "numeros = list(range(20, 30))\n",
        "rdd_numeros = sc.parallelize(numeros)\n",
        "\n",
        "rdd_pares = rdd_numeros.filter(lambda x: x % 2 == 0)\n",
        "\n",
        "rdd_pares.collect()"
      ],
      "metadata": {
        "colab": {
          "base_uri": "https://localhost:8080/"
        },
        "id": "V5-63kcR-vRZ",
        "outputId": "2f88ef4f-1e61-4bf7-d291-b524edbefe66"
      },
      "execution_count": 5,
      "outputs": [
        {
          "output_type": "execute_result",
          "data": {
            "text/plain": [
              "[20, 22, 24, 26, 28]"
            ]
          },
          "metadata": {},
          "execution_count": 5
        }
      ]
    },
    {
      "cell_type": "markdown",
      "source": [
        "**B.-**"
      ],
      "metadata": {
        "id": "fqPv36aG_VJO"
      }
    },
    {
      "cell_type": "code",
      "source": [
        "rdd_sqrt = rdd_pares.flatMap(lambda x: [x, x ** 0.5])\n",
        "rdd_sqrt.collect()"
      ],
      "metadata": {
        "colab": {
          "base_uri": "https://localhost:8080/"
        },
        "id": "-WpNPFTB_TNY",
        "outputId": "844ba0d3-3b67-4ecb-a40d-1852fedacf2d"
      },
      "execution_count": 8,
      "outputs": [
        {
          "output_type": "execute_result",
          "data": {
            "text/plain": [
              "[20,\n",
              " 4.47213595499958,\n",
              " 22,\n",
              " 4.69041575982343,\n",
              " 24,\n",
              " 4.898979485566356,\n",
              " 26,\n",
              " 5.0990195135927845,\n",
              " 28,\n",
              " 5.291502622129181]"
            ]
          },
          "metadata": {},
          "execution_count": 8
        }
      ]
    },
    {
      "cell_type": "markdown",
      "source": [
        "**C.-**"
      ],
      "metadata": {
        "id": "eK4_9fzK_bMJ"
      }
    },
    {
      "cell_type": "code",
      "source": [
        "rdd_eleve = rdd_sqrt.repartition(20)\n",
        "rdd_eleve.getNumPartitions()"
      ],
      "metadata": {
        "colab": {
          "base_uri": "https://localhost:8080/"
        },
        "id": "bvvyKt2l_lB8",
        "outputId": "327c10b6-bdca-4b34-c87c-9881402f3aaa"
      },
      "execution_count": 10,
      "outputs": [
        {
          "output_type": "execute_result",
          "data": {
            "text/plain": [
              "20"
            ]
          },
          "metadata": {},
          "execution_count": 10
        }
      ]
    },
    {
      "cell_type": "markdown",
      "source": [
        "**D.-**"
      ],
      "metadata": {
        "id": "Z2-efbIu_0at"
      }
    },
    {
      "cell_type": "code",
      "source": [
        "#   RESPUESTA: Para disminuir el numero de particiones usaria la funcion coalesce, ya que este no afecta los datos.\n",
        "\n",
        "rdd_dismi = rdd_eleve.coalesce(10)\n",
        "rdd_dismi.getNumPartitions()"
      ],
      "metadata": {
        "colab": {
          "base_uri": "https://localhost:8080/"
        },
        "id": "bNo6wHWd_20P",
        "outputId": "176e760f-e4bc-4240-f0d9-b56f7ec07a24"
      },
      "execution_count": 12,
      "outputs": [
        {
          "output_type": "execute_result",
          "data": {
            "text/plain": [
              "10"
            ]
          },
          "metadata": {},
          "execution_count": 12
        }
      ]
    },
    {
      "cell_type": "markdown",
      "source": [
        "**3-. Cree un RDD del tipo clave valor a partir de la lectura del TXT de transacciones.**\n",
        "- Tenga en cuenta que deberá procesar el RDD leído para obtener el resultado solicitado.\n",
        "- Supongamos que el RDD resultante de tipo clave valor refleja las transacciones realizadas por número de cuentas.\n",
        "- Obtenga el monto total por cada cuenta. (Suma)\n",
        "\n",
        "Tip: Cree su propia función para procesar el RDD leído."
      ],
      "metadata": {
        "id": "qk0dPZuQ-xs4"
      }
    },
    {
      "cell_type": "code",
      "source": [
        "leer = '/content/transacciones.txt'\n",
        "rdd_lineas = sc.textFile(leer)\n",
        "\n",
        "rdd_mostrar = rdd_lineas.map(lambda line: ((line.split()[0], line.split()[1])))\n",
        "\n",
        "rdd_mostrar.collect()\n"
      ],
      "metadata": {
        "colab": {
          "base_uri": "https://localhost:8080/"
        },
        "id": "v6Vsf0dwAuZs",
        "outputId": "021f0c99-bfab-4b40-bcd0-6098109780a2"
      },
      "execution_count": 14,
      "outputs": [
        {
          "output_type": "execute_result",
          "data": {
            "text/plain": [
              "[('(1001,', '52.3)'),\n",
              " ('(1005,', '20.8)'),\n",
              " ('(1001,', '10.1)'),\n",
              " ('(1004,', '52.7)'),\n",
              " ('(1005,', '20.7)'),\n",
              " ('(1002,', '85.3)'),\n",
              " ('(1004,', '20.9)')]"
            ]
          },
          "metadata": {},
          "execution_count": 14
        }
      ]
    },
    {
      "cell_type": "code",
      "source": [
        "# Función para extraer números con variable llamada \"extraer_numeros\" de una cadena y convertirlos en floats.\n",
        "\n",
        "#========================= AGREGUE un def y variable \"extraer_numeros\" para poder tener los numeros mas limpios =========================\n",
        "#==========================================       y borrar los simbolos del resultado       =============================================\n",
        "\n",
        "def extraer_numeros(line):\n",
        "    valores = line.replace('(', '').replace(')', '').replace('-', '').split(',')\n",
        "    try:\n",
        "        return (valores[0], float(valores[1]))\n",
        "    except Error:\n",
        "        return None\n",
        "\n",
        "#======================================================================================================================================\n",
        "\n",
        "rdd_numeros = rdd_lineas.map(extraer_numeros).filter(lambda x: x is not None)\n",
        "\n",
        "rdd_resultado = rdd_numeros.reduceByKey(lambda x, y: x + y).collect()\n",
        "\n",
        "for clave, suma in rdd_resultado:\n",
        "    print(f\"Numero de Cuenta: {clave} - Suma Total: {suma}\")"
      ],
      "metadata": {
        "colab": {
          "base_uri": "https://localhost:8080/"
        },
        "id": "xUCFwJwmByqX",
        "outputId": "600ddc4d-e45f-45bc-af77-b618b81b9b7f"
      },
      "execution_count": 17,
      "outputs": [
        {
          "output_type": "stream",
          "name": "stdout",
          "text": [
            "Numero de Cuenta: 1002 - Suma Total: 85.3\n",
            "Numero de Cuenta: 1001 - Suma Total: 62.4\n",
            "Numero de Cuenta: 1005 - Suma Total: 41.5\n",
            "Numero de Cuenta: 1004 - Suma Total: 73.6\n"
          ]
        }
      ]
    }
  ]
}
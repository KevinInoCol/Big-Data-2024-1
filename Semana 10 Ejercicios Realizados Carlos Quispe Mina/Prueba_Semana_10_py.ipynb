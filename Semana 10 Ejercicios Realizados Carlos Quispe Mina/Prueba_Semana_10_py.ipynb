{
  "nbformat": 4,
  "nbformat_minor": 0,
  "metadata": {
    "colab": {
      "provenance": []
    },
    "kernelspec": {
      "name": "python3",
      "display_name": "Python 3"
    },
    "language_info": {
      "name": "python"
    }
  },
  "cells": [
    {
      "cell_type": "code",
      "execution_count": 1,
      "metadata": {
        "colab": {
          "base_uri": "https://localhost:8080/"
        },
        "id": "ZX_GGlIEtbUR",
        "outputId": "0ddfe499-b197-4be4-afbc-5aa403f0f583"
      },
      "outputs": [
        {
          "output_type": "stream",
          "name": "stdout",
          "text": [
            "Collecting pyspark\n",
            "  Downloading pyspark-3.5.1.tar.gz (317.0 MB)\n",
            "\u001b[2K     \u001b[90m━━━━━━━━━━━━━━━━━━━━━━━━━━━━━━━━━━━━━━━━\u001b[0m \u001b[32m317.0/317.0 MB\u001b[0m \u001b[31m3.3 MB/s\u001b[0m eta \u001b[36m0:00:00\u001b[0m\n",
            "\u001b[?25h  Preparing metadata (setup.py) ... \u001b[?25l\u001b[?25hdone\n",
            "Requirement already satisfied: py4j in /usr/local/lib/python3.10/dist-packages (0.10.9.7)\n",
            "Building wheels for collected packages: pyspark\n",
            "  Building wheel for pyspark (setup.py) ... \u001b[?25l\u001b[?25hdone\n",
            "  Created wheel for pyspark: filename=pyspark-3.5.1-py2.py3-none-any.whl size=317488491 sha256=d3b685c8fcfbef42dcadf84ee74030bed4c7e23a059cbe78d53d19874333df4d\n",
            "  Stored in directory: /root/.cache/pip/wheels/80/1d/60/2c256ed38dddce2fdd93be545214a63e02fbd8d74fb0b7f3a6\n",
            "Successfully built pyspark\n",
            "Installing collected packages: pyspark\n",
            "Successfully installed pyspark-3.5.1\n"
          ]
        }
      ],
      "source": [
        "# Instalamos pyspark y py4j\n",
        "!pip install pyspark py4j"
      ]
    },
    {
      "cell_type": "code",
      "source": [
        "from pyspark.sql import SparkSession\n",
        "\n",
        "Spark = SparkSession.builder.appName(\"cjqm\").getOrCreate()\n",
        "SparkContext = Spark.sparkContext\n",
        "\n",
        "spark = SparkSession.builder.getOrCreate()\n",
        "sc = spark.sparkContext"
      ],
      "metadata": {
        "id": "KDMooa-Mt5PV"
      },
      "execution_count": null,
      "outputs": []
    },
    {
      "cell_type": "markdown",
      "source": [
        "# 1. Cree un RDD llamado lenguajes que contenga los siguientes lenguajes de programación: Python, R, C, Scala, Rugby y SQL."
      ],
      "metadata": {
        "id": "SCa48UnmCXt7"
      }
    },
    {
      "cell_type": "code",
      "source": [
        "rdd_lenguaje = SparkContext.parallelize(['Python', 'R', 'C', 'Scala', 'Rugby', 'Sql'])\n",
        "rdd_lenguaje.collect()"
      ],
      "metadata": {
        "colab": {
          "base_uri": "https://localhost:8080/"
        },
        "id": "pEzy8lGTpuHf",
        "outputId": "7b7d61da-e456-439d-c411-c378e7bdc8e6"
      },
      "execution_count": null,
      "outputs": [
        {
          "output_type": "execute_result",
          "data": {
            "text/plain": [
              "['Python', 'R', 'C', 'Scala', 'Rugby', 'Sql']"
            ]
          },
          "metadata": {},
          "execution_count": 5
        }
      ]
    },
    {
      "cell_type": "markdown",
      "source": [
        "#  C) Cree un nuevo RDD que solo contenga aquellos lenguajes de          programación que comiencen con la letra R."
      ],
      "metadata": {
        "id": "Mzv7zdDjq5hd"
      }
    },
    {
      "cell_type": "code",
      "source": [
        "rdd_filtrado_con_r = rdd_lenguaje.filter(lambda x: x.startswith('R'))\n",
        "rdd_filtrado_con_r.collect()"
      ],
      "metadata": {
        "colab": {
          "base_uri": "https://localhost:8080/"
        },
        "id": "9K3Kpywxq_98",
        "outputId": "a293584c-bed3-40f0-e2ea-a66d9eeadae2"
      },
      "execution_count": null,
      "outputs": [
        {
          "output_type": "execute_result",
          "data": {
            "text/plain": [
              "['R', 'Rugby']"
            ]
          },
          "metadata": {},
          "execution_count": 6
        }
      ]
    },
    {
      "cell_type": "markdown",
      "source": [
        "#2. Cree un RDD llamado pares que contenga los números pares existentes en el intervalo [20;30]."
      ],
      "metadata": {
        "id": "v8e492lPsEn5"
      }
    },
    {
      "cell_type": "code",
      "source": [
        "rdd = SparkContext.parallelize([20,21,22,23,24,25,26,27,28,29,30,31])\n",
        "rdd.collect()"
      ],
      "metadata": {
        "colab": {
          "base_uri": "https://localhost:8080/"
        },
        "id": "ZpYIfVK4sDUb",
        "outputId": "20160e19-18ed-411e-9429-3f923e3ca85f"
      },
      "execution_count": null,
      "outputs": [
        {
          "output_type": "execute_result",
          "data": {
            "text/plain": [
              "[20, 21, 22, 23, 24, 25, 26, 27, 28, 29, 30, 31]"
            ]
          },
          "metadata": {},
          "execution_count": 9
        }
      ]
    },
    {
      "cell_type": "code",
      "source": [
        "rdd_pares = rdd.filter(lambda x: x % 2 == 0)\n",
        "rdd_pares.collect()"
      ],
      "metadata": {
        "colab": {
          "base_uri": "https://localhost:8080/"
        },
        "id": "xamgItdLt3JP",
        "outputId": "83fa4c76-a1ac-44ee-ce5c-1a7c681cadd4"
      },
      "execution_count": null,
      "outputs": [
        {
          "output_type": "execute_result",
          "data": {
            "text/plain": [
              "[20, 22, 24, 26, 28, 30]"
            ]
          },
          "metadata": {},
          "execution_count": 10
        }
      ]
    },
    {
      "cell_type": "code",
      "source": [
        "numeros_pares = [x for x in range(20, 31) if x % 2 == 0]\n",
        "pares_rdd = sc.parallelize(numeros_pares)\n",
        "pares_rdd.collect()"
      ],
      "metadata": {
        "colab": {
          "base_uri": "https://localhost:8080/"
        },
        "id": "-jdfg6GAudMm",
        "outputId": "564026b6-4117-446b-d586-85d3faa1e0c5"
      },
      "execution_count": null,
      "outputs": [
        {
          "output_type": "execute_result",
          "data": {
            "text/plain": [
              "[20, 22, 24, 26, 28, 30]"
            ]
          },
          "metadata": {},
          "execution_count": 13
        }
      ]
    },
    {
      "cell_type": "markdown",
      "source": [
        "#  b) Obtenga una lista compuesta por los números pares en el intervalo [20;30] y sus respectivas raíces cuadradas."
      ],
      "metadata": {
        "id": "5i5o7TakvLsk"
      }
    },
    {
      "cell_type": "code",
      "source": [
        "import math\n",
        "\n",
        "# Crear una lista que contiene cada número par y su raíz cuadrada\n",
        "pares_con_raiz = pares.flatMap(lambda x: [x, math.sqrt(x)])\n",
        "\n",
        "# mostrar el contenido del nuevo RDD para verificar\n",
        "pares_con_raiz.collect()\n"
      ],
      "metadata": {
        "colab": {
          "base_uri": "https://localhost:8080/"
        },
        "id": "rCnCADUmvLWb",
        "outputId": "7c988cd7-831b-4708-93b7-884ed9482809"
      },
      "execution_count": null,
      "outputs": [
        {
          "output_type": "execute_result",
          "data": {
            "text/plain": [
              "[20,\n",
              " 4.47213595499958,\n",
              " 22,\n",
              " 4.69041575982343,\n",
              " 24,\n",
              " 4.898979485566356,\n",
              " 26,\n",
              " 5.0990195135927845,\n",
              " 28,\n",
              " 5.291502622129181,\n",
              " 30,\n",
              " 5.477225575051661]"
            ]
          },
          "metadata": {},
          "execution_count": 24
        }
      ]
    },
    {
      "cell_type": "markdown",
      "source": [
        "# C) Eleve el número de particiones del RDD sqrt a 20."
      ],
      "metadata": {
        "id": "z3IXmjcrv4ir"
      }
    },
    {
      "cell_type": "code",
      "source": [
        "# Elevar el número de particiones del RDD 'pares_con_raiz' a 20\n",
        "pares_con_raiz_20_particiones = pares_con_raiz.repartition(20)\n",
        "\n",
        "# Verificar el número de particiones\n",
        "pares_con_raiz_20_particiones.getNumPartitions()"
      ],
      "metadata": {
        "colab": {
          "base_uri": "https://localhost:8080/"
        },
        "id": "OVPpU7vjv6gw",
        "outputId": "ea41f89f-d97f-4226-dda2-1e2f145462be"
      },
      "execution_count": null,
      "outputs": [
        {
          "output_type": "execute_result",
          "data": {
            "text/plain": [
              "20"
            ]
          },
          "metadata": {},
          "execution_count": 25
        }
      ]
    },
    {
      "cell_type": "markdown",
      "source": [
        "#       D) Si tuviera que disminuir el número de particiones luego de haberlo  establecido en 20, ¿qué función utilizaría para hacer más eficiente su código?\n",
        "# Respuesta: Utilizar la funcion Coalesce"
      ],
      "metadata": {
        "id": "eTjcEFEpxD1o"
      }
    },
    {
      "cell_type": "code",
      "source": [
        "# Disminuir el número de particiones del RDD a 10\n",
        "pares_con_raiz_10_particiones = pares_con_raiz_20_particiones.coalesce(12)\n",
        "\n",
        "# Verificar el número de particiones\n",
        "pares_con_raiz_10_particiones.getNumPartitions()"
      ],
      "metadata": {
        "colab": {
          "base_uri": "https://localhost:8080/"
        },
        "id": "P1Sr3n0TxDEo",
        "outputId": "9c4d0f9b-0e04-4e4d-d83f-968d31f50f7c"
      },
      "execution_count": null,
      "outputs": [
        {
          "output_type": "execute_result",
          "data": {
            "text/plain": [
              "12"
            ]
          },
          "metadata": {},
          "execution_count": 26
        }
      ]
    },
    {
      "cell_type": "markdown",
      "source": [
        "#3. Cree un RDD del tipo clave valor a partir de la lectura del txt de transacciones.\n",
        "#txt:\n",
        "#(1001, 52.3)\n",
        "#(1005, 20.8)\n",
        "#(1001, 10.1)\n",
        "#(1004, 52.7)\n",
        "#(1005, 20.7)\n",
        "#(1002, 85.3)\n",
        "#(1004, 20.9)\n",
        "#Tenga en cuenta que deberá procesar el RDD leído para obtener el resultado solicitado. Supongamos\n",
        "#que el RDD resultante de tipo clave valor refleja las transacciones realizadas por número de\n",
        "#cuentas. Obtenga el monto total por cada cuenta (Suma).\n",
        "#Tip: Cree su propia función para procesar el RDD leído."
      ],
      "metadata": {
        "id": "mDoKyoEcyM0H"
      }
    },
    {
      "cell_type": "code",
      "source": [
        "!touch transacciones.txt\n",
        "\n",
        "!echo \"(1001, 52.3)\" >> transacciones.txt\n",
        "!echo \"(1005, 20.8)\" >> transacciones.txt\n",
        "!echo \"(1001, 10.1)\" >> transacciones.txt\n",
        "!echo \"(1004, 52.7)\" >> transacciones.txt\n",
        "!echo \"(1005, 20.7)\" >> transacciones.txt\n",
        "!echo \"(1002, 85.3)\" >> transacciones.txt\n",
        "!echo \"(1004, 20.9)\" >> transacciones.txt"
      ],
      "metadata": {
        "id": "PKzpPSGnymKy"
      },
      "execution_count": null,
      "outputs": []
    },
    {
      "cell_type": "code",
      "source": [
        "archivo_transacciones = \"./transacciones.txt\"\n",
        "transacciones = sc.textFile(archivo_transacciones)\n",
        "def procesar_linea(linea):\n",
        "    # Eliminar los paréntesis y dividir por la coma\n",
        "    cuenta, monto = linea.strip(\"()\").split(\", \")\n",
        "    # Retornar una tupla (clave, valor)\n",
        "    return (int(cuenta), float(monto))\n",
        "transacciones_kv = transacciones.map(procesar_linea)\n",
        "monto_total_por_cuenta = transacciones_kv.reduceByKey(lambda x, y: x + y)\n",
        "resultado = monto_total_por_cuenta.collect()\n",
        "for cuenta, total in resultado:\n",
        "    print(f\"Cuenta: {cuenta}, Monto total: {total:.2f}\")"
      ],
      "metadata": {
        "id": "sNeDcqno2Kqv"
      },
      "execution_count": null,
      "outputs": []
    }
  ]
}